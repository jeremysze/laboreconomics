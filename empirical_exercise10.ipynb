{
 "cells": [
  {
   "cell_type": "code",
   "execution_count": 1,
   "metadata": {},
   "outputs": [],
   "source": [
    "/****************************************************************************\n",
    "* File name: empirical_exercise10.do\n",
    "* Author(s): Sze, J.\n",
    "* Date: 5/1/2019\n",
    "* Description: \n",
    "* Answers to empirical exercise 10 for Labor Economics\n",
    "*\n",
    "* Inputs: \n",
    "* \"..\\input_data\\Small CPS, 2018”\n",
    "* Outputs:\n",
    "* \n",
    "***************************************************************************/"
   ]
  },
  {
   "cell_type": "markdown",
   "metadata": {},
   "source": [
    "### Empirical Exercise 10\n",
    "Your task is to estimate black–white wage gaps in 2018. Use the “Small CPS, 2018” Stata\n",
    "file, keeping only blacks and whites. Use the earnings weighting variable weight to weight all\n",
    "your estimates.\n",
    "To refresh your memory, tabulate values of the race, metro, size, and occupation variables."
   ]
  },
  {
   "cell_type": "code",
   "execution_count": 2,
   "metadata": {},
   "outputs": [
    {
     "name": "stdout",
     "output_type": "stream",
     "text": [
      "(1000 Obs./Month Extract of the CPS Merged-Outgoing-Rotation-Group Files, 2018)\n"
     ]
    }
   ],
   "source": [
    "use \"..\\input_data\\Small CPS, 2018.dta\",clear"
   ]
  },
  {
   "cell_type": "code",
   "execution_count": 3,
   "metadata": {},
   "outputs": [
    {
     "name": "stdout",
     "output_type": "stream",
     "text": [
      "\n",
      "Contains data from ..\\input_data\\Small CPS, 2018.dta\n",
      "  obs:        11,000                          1000 Obs./Month Extract of the CPS Merged-Outgoing-Rotation-Group Files, 2018\n",
      " vars:            22                          17 Jan 2019 14:16\n",
      " size:       484,000                          \n",
      "---------------------------------------------------------------------------------------------------------------------------------------------------------------------------------------------------------------------------------------------------------------\n",
      "              storage   display    value\n",
      "variable name   type    format     label      variable label\n",
      "---------------------------------------------------------------------------------------------------------------------------------------------------------------------------------------------------------------------------------------------------------------\n",
      "idcode          int     %9.0g               * ID Code\n",
      "weight          double  %7.1f                 earnings weight\n",
      "month           byte    %9.0g      month      month\n",
      "rotation        byte    %8.0g      rotation   month in sample, household level\n",
      "age             byte    %8.0g                 age\n",
      "female          byte    %9.0g      female     Whether Female\n",
      "race            byte    %17.0g     race       race\n",
      "hispanic        byte    %14.0g     hispanic   hispanic origin\n",
      "married         byte    %23.0g     married    married with spouse present\n",
      "veteran         byte    %10.0g     veteran    veteran status\n",
      "region          byte    %18.0g     region     Census Division, 1-9\n",
      "state           byte    %71.0g     state      state (census code)\n",
      "metro           byte    %27.0g     metro      metropolitan central city status\n",
      "size            byte    %33.0g     size       size of metro area\n",
      "grade           float   %9.0g               * highest grade completed\n",
      "occupation      byte    %55.0g     occup      2-Digit Occupation\n",
      "public          byte    %14.0g     public     Whether in Public Sector\n",
      "union           byte    %12.0g     un_mem     union member\n",
      "hours           int     %8.0g                 hours worked last week\n",
      "wage            double  %7.2fc              * weekly earnings\n",
      "rwage           float   %7.2fc              * Weekly Wages, 2018$\n",
      "topcode         byte    %12.0g     topcode    Whether Topcoded Wages\n",
      "                                            * indicated variables have notes\n",
      "---------------------------------------------------------------------------------------------------------------------------------------------------------------------------------------------------------------------------------------------------------------\n",
      "Sorted by: month  idcode\n"
     ]
    }
   ],
   "source": [
    "describe"
   ]
  },
  {
   "cell_type": "markdown",
   "metadata": {},
   "source": [
    "### A. Raw Wage and log-Wage Gaps. \n",
    "\n",
    "- Use summarize or mean to compute weighted means of rwage and the log of rwage (lrwage) by race. \n",
    "- Compute the black–white wage gap using rwage. \n",
    "- Compute another black–white wage gap as the difference in logs. \n",
    "- Compare the two measures."
   ]
  },
  {
   "cell_type": "code",
   "execution_count": 4,
   "metadata": {},
   "outputs": [
    {
     "name": "stdout",
     "output_type": "stream",
     "text": [
      "\n",
      "    Variable |        Obs        Mean    Std. Dev.       Min        Max\n",
      "-------------+---------------------------------------------------------\n",
      "       rwage |     11,000     1063.44    933.0915   19.92612   4382.547\n"
     ]
    }
   ],
   "source": [
    "sum rwage"
   ]
  },
  {
   "cell_type": "code",
   "execution_count": 5,
   "metadata": {},
   "outputs": [
    {
     "name": "stdout",
     "output_type": "stream",
     "text": [
      "\n",
      "    Variable |     Obs      Weight        Mean   Std. Dev.       Min        Max\n",
      "-------------+-----------------------------------------------------------------\n",
      "       rwage |  10,984   113203560    1070.459   942.3015   19.92612   4382.547\n"
     ]
    }
   ],
   "source": [
    "sum rwage [aweight = weight]"
   ]
  },
  {
   "cell_type": "code",
   "execution_count": 6,
   "metadata": {},
   "outputs": [],
   "source": [
    "gen lrwage = log(rwage)"
   ]
  },
  {
   "cell_type": "code",
   "execution_count": 7,
   "metadata": {},
   "outputs": [
    {
     "name": "stdout",
     "output_type": "stream",
     "text": [
      "\n",
      "Summary for variables: lrwage\n",
      "     by categories of: race (race)\n",
      "\n",
      "            race |      mean\n",
      "-----------------+----------\n",
      "           White |  6.682839\n",
      "           Black |  6.454452\n",
      "          Indian |  6.384202\n",
      "Asian/PacIslande |  6.843558\n",
      "           Other |  6.471716\n",
      "-----------------+----------\n",
      "           Total |  6.660128\n",
      "----------------------------\n"
     ]
    }
   ],
   "source": [
    "tabstat lrwage [aweight = weight], by(race)"
   ]
  },
  {
   "cell_type": "code",
   "execution_count": 8,
   "metadata": {},
   "outputs": [
    {
     "name": "stdout",
     "output_type": "stream",
     "text": [
      "\n",
      "Summary for variables: rwage\n",
      "     by categories of: race (race)\n",
      "\n",
      "            race |      mean\n",
      "-----------------+----------\n",
      "           White |  1096.852\n",
      "           Black |     838.1\n",
      "          Indian |  727.9286\n",
      "Asian/PacIslande |  1275.584\n",
      "           Other |  851.4346\n",
      "-----------------+----------\n",
      "           Total |  1070.459\n",
      "----------------------------\n"
     ]
    }
   ],
   "source": [
    "tabstat rwage [aweight = weight], by(race)"
   ]
  },
  {
   "cell_type": "code",
   "execution_count": 9,
   "metadata": {},
   "outputs": [
    {
     "name": "stdout",
     "output_type": "stream",
     "text": [
      "black–white wage gap is -258.752\n"
     ]
    }
   ],
   "source": [
    "display \"black–white wage gap is \" 838.1 - 1096.852"
   ]
  },
  {
   "cell_type": "code",
   "execution_count": 10,
   "metadata": {},
   "outputs": [
    {
     "name": "stdout",
     "output_type": "stream",
     "text": [
      "black–white wage gap in logs -.228387\n"
     ]
    }
   ],
   "source": [
    "display \"black–white wage gap in logs \" 6.454452-6.682839"
   ]
  },
  {
   "cell_type": "markdown",
   "metadata": {},
   "source": [
    "The black-white wage gap in real dollar shows an average -$259 wage gap between blacks and whites. This translates to a -22.3% wage gap in logs. "
   ]
  },
  {
   "cell_type": "markdown",
   "metadata": {},
   "source": [
    "### B. log-Wage Regression. \n",
    "- Create a dummy variable black that equals one if the worker is black. \n",
    "- Regress lrwage on black. \n",
    "- How does the estimated effect of black compare to the two measures from above?"
   ]
  },
  {
   "cell_type": "code",
   "execution_count": 11,
   "metadata": {},
   "outputs": [
    {
     "name": "stdout",
     "output_type": "stream",
     "text": [
      "\n",
      "       race |      Freq.     Percent        Cum.\n",
      "------------+-----------------------------------\n",
      "          1 |      9,040       82.18       82.18\n",
      "          2 |      1,003        9.12       91.30\n",
      "          3 |        116        1.05       92.35\n",
      "          4 |        671        6.10       98.45\n",
      "          5 |        170        1.55      100.00\n",
      "------------+-----------------------------------\n",
      "      Total |     11,000      100.00\n"
     ]
    }
   ],
   "source": [
    "tab race, nolabel"
   ]
  },
  {
   "cell_type": "code",
   "execution_count": 12,
   "metadata": {},
   "outputs": [
    {
     "name": "stdout",
     "output_type": "stream",
     "text": [
      "\n",
      "             race |      Freq.     Percent        Cum.\n",
      "------------------+-----------------------------------\n",
      "            White |      9,040       82.18       82.18\n",
      "            Black |      1,003        9.12       91.30\n",
      "           Indian |        116        1.05       92.35\n",
      "Asian/PacIslander |        671        6.10       98.45\n",
      "            Other |        170        1.55      100.00\n",
      "------------------+-----------------------------------\n",
      "            Total |     11,000      100.00\n"
     ]
    }
   ],
   "source": [
    "tab race"
   ]
  },
  {
   "cell_type": "code",
   "execution_count": 13,
   "metadata": {},
   "outputs": [],
   "source": [
    "gen black = (race == 2)"
   ]
  },
  {
   "cell_type": "code",
   "execution_count": 14,
   "metadata": {},
   "outputs": [
    {
     "name": "stdout",
     "output_type": "stream",
     "text": [
      "\n",
      "      Source |       SS           df       MS      Number of obs   =    11,000\n",
      "-------------+----------------------------------   F(1, 10998)     =     70.14\n",
      "       Model |  46.5531627         1  46.5531627   Prob > F        =    0.0000\n",
      "    Residual |  7299.11529    10,998  .663676604   R-squared       =    0.0063\n",
      "-------------+----------------------------------   Adj R-squared   =    0.0062\n",
      "       Total |  7345.66845    10,999  .667848755   Root MSE        =    .81466\n",
      "\n",
      "------------------------------------------------------------------------------\n",
      "      lrwage |      Coef.   Std. Err.      t    P>|t|     [95% Conf. Interval]\n",
      "-------------+----------------------------------------------------------------\n",
      "       black |  -.2259881   .0269829    -8.38   0.000    -.2788795   -.1730967\n",
      "       _cons |   6.673571   .0081479   819.06   0.000     6.657599    6.689542\n",
      "------------------------------------------------------------------------------\n"
     ]
    }
   ],
   "source": [
    "regress lrwage black"
   ]
  },
  {
   "cell_type": "code",
   "execution_count": 15,
   "metadata": {},
   "outputs": [
    {
     "name": "stdout",
     "output_type": "stream",
     "text": [
      "\n",
      "      Source |       SS           df       MS      Number of obs   =    11,000\n",
      "-------------+----------------------------------   F(1, 10998)     =     61.52\n",
      "       Model |  53271829.9         1  53271829.9   Prob > F        =    0.0000\n",
      "    Residual |  9.5231e+09    10,998  865895.221   R-squared       =    0.0056\n",
      "-------------+----------------------------------   Adj R-squared   =    0.0055\n",
      "       Total |  9.5764e+09    10,999   870659.83   Root MSE        =    930.53\n",
      "\n",
      "------------------------------------------------------------------------------\n",
      "       rwage |      Coef.   Std. Err.      t    P>|t|     [95% Conf. Interval]\n",
      "-------------+----------------------------------------------------------------\n",
      "       black |  -241.7463   30.82079    -7.84   0.000    -302.1606    -181.332\n",
      "       _cons |   1085.483   9.306745   116.63   0.000      1067.24    1103.726\n",
      "------------------------------------------------------------------------------\n"
     ]
    }
   ],
   "source": [
    "regress rwage black"
   ]
  },
  {
   "cell_type": "markdown",
   "metadata": {},
   "source": [
    "The results from the regression are very similar to the differences obtained in part A."
   ]
  },
  {
   "cell_type": "markdown",
   "metadata": {},
   "source": [
    "### C. log-Wage Regressions With More Variables. \n",
    "1. Regress lrwage on black, hours, grade, and a quadratic in potential experience. \n",
    "    - How does the residual black–white wage gap in this case compare to the raw black-white wage gap from the log-wage regression? \n",
    "2. Add the following variables to the log-wage regression: married, veteran, public, union, and indicators for metro, size, and state. \n",
    "    - Does including these additional variables increase or decrease the residual wage gap? \n",
    "3. Add a set of variables that indicate occupation. \n",
    "    - Does including the occupation dummy variables increase or decrease the residual wage gap?"
   ]
  },
  {
   "cell_type": "code",
   "execution_count": 16,
   "metadata": {},
   "outputs": [
    {
     "name": "stdout",
     "output_type": "stream",
     "text": [
      "\n",
      "\n",
      "(50 real changes made)\n"
     ]
    }
   ],
   "source": [
    "gen experience = age - grade - 6\n",
    "replace experience = 0 if experience <0"
   ]
  },
  {
   "cell_type": "code",
   "execution_count": 17,
   "metadata": {},
   "outputs": [],
   "source": [
    "gen experience2 = experience*experience"
   ]
  },
  {
   "cell_type": "code",
   "execution_count": 18,
   "metadata": {},
   "outputs": [
    {
     "name": "stdout",
     "output_type": "stream",
     "text": [
      "(sum of wgt is 113,203,559.8744)\n",
      "\n",
      "      Source |       SS           df       MS      Number of obs   =    10,984\n",
      "-------------+----------------------------------   F(5, 10978)     =   1949.54\n",
      "       Model |  3412.58389         5  682.516777   Prob > F        =    0.0000\n",
      "    Residual |  3843.29684    10,978  .350090804   R-squared       =    0.4703\n",
      "-------------+----------------------------------   Adj R-squared   =    0.4701\n",
      "       Total |  7255.88073    10,983   .66064652   Root MSE        =    .59168\n",
      "\n",
      "------------------------------------------------------------------------------\n",
      "      lrwage |      Coef.   Std. Err.      t    P>|t|     [95% Conf. Interval]\n",
      "-------------+----------------------------------------------------------------\n",
      "     1.black |  -.1835969   .0176127   -10.42   0.000    -.2181209   -.1490729\n",
      "       hours |   .0298225   .0004789    62.27   0.000     .0288837    .0307612\n",
      "       grade |   .1120886    .002212    50.67   0.000     .1077527    .1164245\n",
      "  experience |   .0399345   .0013902    28.73   0.000     .0372095    .0426596\n",
      " experience2 |  -.0006492   .0000282   -23.04   0.000    -.0007044    -.000594\n",
      "       _cons |   3.517254   .0362497    97.03   0.000     3.446198     3.58831\n",
      "------------------------------------------------------------------------------\n"
     ]
    }
   ],
   "source": [
    "regress lrwage i.black hours grade experience experience2 [aw = weight]"
   ]
  },
  {
   "cell_type": "markdown",
   "metadata": {},
   "source": [
    "When we take into account hours work, grade and experience, we find that the black-white wage gap reduces to -17.7%. "
   ]
  },
  {
   "cell_type": "code",
   "execution_count": 19,
   "metadata": {},
   "outputs": [
    {
     "name": "stdout",
     "output_type": "stream",
     "text": [
      "(sum of wgt is 111,762,887.9189)\n",
      "\n",
      "      Source |       SS           df       MS      Number of obs   =    10,819\n",
      "-------------+----------------------------------   F(63, 10755)    =    167.20\n",
      "       Model |  3487.49244        63  55.3570228   Prob > F        =    0.0000\n",
      "    Residual |  3560.76669    10,755   .33108012   R-squared       =    0.4948\n",
      "-------------+----------------------------------   Adj R-squared   =    0.4918\n",
      "       Total |  7048.25913    10,818  .651530702   Root MSE        =     .5754\n",
      "\n",
      "----------------------------------------------------------------------------------------------\n",
      "                      lrwage |      Coef.   Std. Err.      t    P>|t|     [95% Conf. Interval]\n",
      "-----------------------------+----------------------------------------------------------------\n",
      "                     1.black |  -.1838928   .0181714   -10.12   0.000    -.2195121   -.1482736\n",
      "                       hours |   .0292757   .0004731    61.88   0.000     .0283483    .0302031\n",
      "                       grade |   .1042281   .0022759    45.80   0.000     .0997669    .1086893\n",
      "                  experience |   .0336693   .0014379    23.42   0.000     .0308508    .0364879\n",
      "                 experience2 |  -.0005646   .0000285   -19.84   0.000    -.0006204   -.0005088\n",
      "                             |\n",
      "                     married |\n",
      "    Married, Spouse Present  |   .1482519   .0123053    12.05   0.000     .1241312    .1723725\n",
      "                             |\n",
      "                     veteran |\n",
      "                     Served  |   .1677891   .0250304     6.70   0.000     .1187249    .2168532\n",
      "                             |\n",
      "                      public |\n",
      "              Public Sector  |  -.0793011   .0166801    -4.75   0.000    -.1119972   -.0466051\n",
      "                             |\n",
      "                       union |\n",
      "               Union Member  |   .1439379   .0189992     7.58   0.000      .106696    .1811798\n",
      "                             |\n",
      "                       metro |\n",
      "               central city  |    .019768   .0300615     0.66   0.511     -.039158     .078694\n",
      "       outside central city  |   .0659323   .0294915     2.24   0.025     .0081235    .1237412\n",
      "central city status unknown  |   .0020586   .0236937     0.09   0.931    -.0443855    .0485026\n",
      "                             |\n",
      "                        size |   .0263133   .0053671     4.90   0.000     .0157929    .0368338\n",
      "                             |\n",
      "                       state |\n",
      "              new hampshire  |   .0284824   .1119879     0.25   0.799    -.1910346    .2479993\n",
      "                    vermont  |  -.0741598   .1454052    -0.51   0.610    -.3591808    .2108613\n",
      "              massachusetts  |   .0552081   .0897618     0.62   0.539    -.1207416    .2311578\n",
      "               rhode island  |  -.1529474   .1263777    -1.21   0.226    -.4006709    .0947762\n",
      "                connecticut  |  -.1091186   .0958283    -1.14   0.255    -.2969599    .0787226\n",
      "                   new york  |  -.0369466   .0851411    -0.43   0.664    -.2038389    .1299458\n",
      "                 new jersey  |   .0561064   .0890377     0.63   0.529     -.118424    .2306368\n",
      "               pennsylvania  |  -.1364715   .0858487    -1.59   0.112    -.3047508    .0318078\n",
      "                       ohio  |  -.1043725   .0856855    -1.22   0.223    -.2723319    .0635869\n",
      "                    indiana  |  -.1359944   .0893253    -1.52   0.128    -.3110886    .0390998\n",
      "                   illinois  |   -.097472   .0860503    -1.13   0.257    -.2661465    .0712024\n",
      "                   michigan  |   -.096334   .0875796    -1.10   0.271    -.2680062    .0753382\n",
      "                  wisconsin  |  -.0196583   .0872011    -0.23   0.822    -.1905885    .1512719\n",
      "                  minnesota  |   .0903278   .0895223     1.01   0.313    -.0851525     .265808\n",
      "                       iowa  |  -.0613699   .0995876    -0.62   0.538    -.2565799    .1338401\n",
      "                   missouri  |  -.1485018   .0885622    -1.68   0.094    -.3221002    .0250965\n",
      "               north dakota  |   .0012513   .1320034     0.01   0.992    -.2574998    .2600024\n",
      "               south dakota  |  -.1275328   .1241639    -1.03   0.304    -.3709169    .1158514\n",
      "                   nebraska  |  -.0832852   .1016626    -0.82   0.413    -.2825627    .1159923\n",
      "                     kansas  |  -.0387363   .0969761    -0.40   0.690    -.2288274    .1513548\n",
      "                   delaware  |  -.0624088   .1235589    -0.51   0.614     -.304607    .1797895\n",
      "                   maryland  |   .1165416   .0914549     1.27   0.203    -.0627269      .29581\n",
      "       district of columbia  |   .3261968   .1315399     2.48   0.013     .0683543    .5840392\n",
      "                   virginia  |    .037958   .0877225     0.43   0.665    -.1339943    .2099102\n",
      "              west virginia  |  -.1877997   .1135881    -1.65   0.098    -.4104534     .034854\n",
      "             north carolina  |  -.0494346   .0875016    -0.56   0.572    -.2209538    .1220846\n",
      "             south carolina  |  -.1301128   .0945152    -1.38   0.169    -.3153801    .0551544\n",
      "                    georgia  |  -.0857127    .087412    -0.98   0.327    -.2570563    .0856309\n",
      "                    florida  |  -.1554328    .085008    -1.83   0.068    -.3220643    .0111986\n",
      "                   kentucky  |  -.1282499   .0911315    -1.41   0.159    -.3068845    .0503847\n",
      "                  tennessee  |  -.0728175   .0909761    -0.80   0.423    -.2511473    .1055124\n",
      "                    alabama  |  -.0818587   .0958146    -0.85   0.393    -.2696729    .1059556\n",
      "                mississippi  |  -.1460348   .0999552    -1.46   0.144    -.3419654    .0498959\n",
      "                   arkansas  |  -.1732125   .1046074    -1.66   0.098    -.3782623    .0318372\n",
      "                  louisiana  |   -.038656   .0976509    -0.40   0.692    -.2300697    .1527578\n",
      "                   oklahoma  |  -.1247304   .1015287    -1.23   0.219    -.3237453    .0742845\n",
      "                      texas  |  -.0857567   .0833436    -1.03   0.304    -.2491256    .0776122\n",
      "                    montana  |  -.0824376   .1234788    -0.67   0.504    -.3244788    .1596036\n",
      "                      idaho  |  -.1276744   .1064611    -1.20   0.230    -.3363578     .081009\n",
      "                    wyoming  |  -.0052855   .1495205    -0.04   0.972    -.2983733    .2878022\n",
      "                   colorado  |   .0033591   .0907729     0.04   0.970    -.1745726    .1812907\n",
      "                 new mexico  |  -.0636509   .1063191    -0.60   0.549    -.2720559    .1447542\n",
      "                    arizona  |   -.123699   .0882717    -1.40   0.161    -.2967279      .04933\n",
      "                       utah  |  -.0982191   .0979847    -1.00   0.316    -.2902873     .093849\n",
      "                     nevada  |  -.0475487    .096067    -0.49   0.621    -.2358576    .1407603\n",
      "                 washington  |   .0817963   .0886365     0.92   0.356    -.0919477    .2555402\n",
      "                     oregon  |   -.058906   .0924483    -0.64   0.524    -.2401218    .1223097\n",
      "                 california  |   .0283208   .0830215     0.34   0.733    -.1344166    .1910583\n",
      "                     alaska  |   .1486881   .1466064     1.01   0.311    -.1386875    .4360636\n",
      "                     hawaii  |   -.048023   .1290264    -0.37   0.710    -.3009385    .2048925\n",
      "                             |\n",
      "                       _cons |   3.559877   .0892598    39.88   0.000     3.384911    3.734843\n",
      "----------------------------------------------------------------------------------------------\n"
     ]
    }
   ],
   "source": [
    "regress lrwage i.black hours grade experience experience2 i.married i.veteran i.public i.union i.metro size i.state [aw = weight]"
   ]
  },
  {
   "cell_type": "markdown",
   "metadata": {},
   "source": [
    "The addition of married, veteran, public, union, and indicators for metro, size, and state increase the residual wage gap."
   ]
  },
  {
   "cell_type": "code",
   "execution_count": 20,
   "metadata": {
    "scrolled": false
   },
   "outputs": [
    {
     "name": "stdout",
     "output_type": "stream",
     "text": [
      "(sum of wgt is 111,762,887.9189)\n",
      "\n",
      "      Source |       SS           df       MS      Number of obs   =    10,819\n",
      "-------------+----------------------------------   F(120, 10698)   =    124.88\n",
      "       Model |  4112.40238       120  34.2700198   Prob > F        =    0.0000\n",
      "    Residual |  2935.85675    10,698  .274430431   R-squared       =    0.5835\n",
      "-------------+----------------------------------   Adj R-squared   =    0.5788\n",
      "       Total |  7048.25913    10,818  .651530702   Root MSE        =    .52386\n",
      "\n",
      "--------------------------------------------------------------------------------------------------------------------------\n",
      "                                                  lrwage |      Coef.   Std. Err.      t    P>|t|     [95% Conf. Interval]\n",
      "---------------------------------------------------------+----------------------------------------------------------------\n",
      "                                                 1.black |  -.1184882   .0168086    -7.05   0.000    -.1514362   -.0855402\n",
      "                                                   hours |    .025331   .0004477    56.58   0.000     .0244534    .0262086\n",
      "                                                   grade |   .0731017   .0025238    28.97   0.000     .0681546    .0780488\n",
      "                                              experience |   .0296745   .0013244    22.41   0.000     .0270785    .0322704\n",
      "                                             experience2 |  -.0004971   .0000262   -19.01   0.000    -.0005483   -.0004458\n",
      "                                                         |\n",
      "                                                 married |\n",
      "                                Married, Spouse Present  |   .1167628   .0112913    10.34   0.000     .0946298    .1388958\n",
      "                                                         |\n",
      "                                                 veteran |\n",
      "                                                 Served  |   .1160686   .0230948     5.03   0.000     .0707985    .1613387\n",
      "                                                         |\n",
      "                                                  public |\n",
      "                                          Public Sector  |   .0048023   .0165663     0.29   0.772    -.0276707    .0372754\n",
      "                                                         |\n",
      "                                                   union |\n",
      "                                           Union Member  |   .2060193   .0178427    11.55   0.000     .1710443    .2409943\n",
      "                                                         |\n",
      "                                                   metro |\n",
      "                                           central city  |   -.011234   .0274715    -0.41   0.683    -.0650832    .0426152\n",
      "                                   outside central city  |   .0349323   .0269742     1.30   0.195    -.0179422    .0878067\n",
      "                            central city status unknown  |  -.0130266    .021652    -0.60   0.547    -.0554685    .0294152\n",
      "                                                         |\n",
      "                                                    size |   .0227818   .0049089     4.64   0.000     .0131593    .0324042\n",
      "                                                         |\n",
      "                                                   state |\n",
      "                                          new hampshire  |  -.0477236   .1020484    -0.47   0.640    -.2477574    .1523101\n",
      "                                                vermont  |  -.0973768   .1324579    -0.74   0.462    -.3570188    .1622653\n",
      "                                          massachusetts  |   .0440725   .0818143     0.54   0.590    -.1162988    .2044438\n",
      "                                           rhode island  |  -.1451638   .1151395    -1.26   0.207    -.3708586     .080531\n",
      "                                            connecticut  |  -.1507393   .0874475    -1.72   0.085    -.3221526     .020674\n",
      "                                               new york  |  -.0573738   .0776176    -0.74   0.460    -.2095188    .0947712\n",
      "                                             new jersey  |  -.0170756   .0811719    -0.21   0.833    -.1761877    .1420364\n",
      "                                           pennsylvania  |  -.1471769   .0782713    -1.88   0.060    -.3006032    .0062494\n",
      "                                                   ohio  |  -.1191228    .078131    -1.52   0.127    -.2722741    .0340285\n",
      "                                                indiana  |  -.1287084    .081419    -1.58   0.114    -.2883047    .0308879\n",
      "                                               illinois  |  -.1173686   .0784364    -1.50   0.135    -.2711186    .0363813\n",
      "                                               michigan  |  -.1301815   .0798577    -1.63   0.103    -.2867173    .0263544\n",
      "                                              wisconsin  |  -.0699859   .0795016    -0.88   0.379    -.2258238     .085852\n",
      "                                              minnesota  |   .0249261   .0816568     0.31   0.760    -.1351364    .1849885\n",
      "                                                   iowa  |  -.1204854   .0908526    -1.33   0.185    -.2985734    .0576026\n",
      "                                               missouri  |  -.1558546   .0807428    -1.93   0.054    -.3141256    .0024163\n",
      "                                           north dakota  |  -.0381558   .1202607    -0.32   0.751    -.2738891    .1975776\n",
      "                                           south dakota  |  -.1453446   .1131103    -1.28   0.199    -.3670619    .0763726\n",
      "                                               nebraska  |  -.1023659   .0926398    -1.10   0.269    -.2839572    .0792253\n",
      "                                                 kansas  |  -.0698177   .0884048    -0.79   0.430    -.2431076    .1034723\n",
      "                                               delaware  |  -.0752829    .112584    -0.67   0.504    -.2959685    .1454027\n",
      "                                               maryland  |   .0189788   .0833817     0.23   0.820    -.1444649    .1824224\n",
      "                                   district of columbia  |    .207949   .1199661     1.73   0.083    -.0272069    .4431049\n",
      "                                               virginia  |  -.0021918   .0799755    -0.03   0.978    -.1589587    .1545751\n",
      "                                          west virginia  |  -.2257135   .1035165    -2.18   0.029    -.4286249    -.022802\n",
      "                                         north carolina  |  -.0977031      .0798    -1.22   0.221     -.254126    .0587198\n",
      "                                         south carolina  |  -.1532149   .0861891    -1.78   0.075    -.3221615    .0157317\n",
      "                                                georgia  |  -.1057104   .0796756    -1.33   0.185    -.2618894    .0504687\n",
      "                                                florida  |  -.1850782   .0774756    -2.39   0.017    -.3369447   -.0332117\n",
      "                                               kentucky  |  -.1521942   .0831243    -1.83   0.067    -.3151333    .0107449\n",
      "                                              tennessee  |  -.0977508    .082967    -1.18   0.239    -.2603815    .0648799\n",
      "                                                alabama  |  -.1571111    .087387    -1.80   0.072    -.3284057    .0141836\n",
      "                                            mississippi  |  -.1895009   .0911352    -2.08   0.038    -.3681428    -.010859\n",
      "                                               arkansas  |  -.1983932   .0953708    -2.08   0.038    -.3853377   -.0114488\n",
      "                                              louisiana  |  -.0661964   .0890386    -0.74   0.457    -.2407287    .1083358\n",
      "                                               oklahoma  |  -.1575909    .092548    -1.70   0.089    -.3390022    .0238203\n",
      "                                                  texas  |  -.1054144   .0759663    -1.39   0.165    -.2543224    .0434937\n",
      "                                                montana  |  -.1481676    .112519    -1.32   0.188    -.3687256    .0723905\n",
      "                                                  idaho  |  -.1388513   .0970047    -1.43   0.152    -.3289985    .0512958\n",
      "                                                wyoming  |  -.0445661   .1362892    -0.33   0.744    -.3117182    .2225859\n",
      "                                               colorado  |  -.0543937   .0827321    -0.66   0.511    -.2165641    .1077767\n"
     ]
    },
    {
     "name": "stdout",
     "output_type": "stream",
     "text": [
      "                                             new mexico  |  -.0978616    .096977    -1.01   0.313    -.2879546    .0922314\n",
      "                                                arizona  |  -.1383607   .0804879    -1.72   0.086    -.2961319    .0194106\n",
      "                                                   utah  |   -.118446   .0893348    -1.33   0.185    -.2935587    .0566667\n",
      "                                                 nevada  |  -.0352325   .0875659    -0.40   0.687     -.206878     .136413\n",
      "                                             washington  |   .0594401   .0807972     0.74   0.462    -.0989374    .2178177\n",
      "                                                 oregon  |  -.0955479   .0842601    -1.13   0.257    -.2607134    .0696176\n",
      "                                             california  |  -.0068522   .0756629    -0.09   0.928    -.1551656    .1414612\n",
      "                                                 alaska  |   .0647297   .1336089     0.48   0.628    -.1971686    .3266279\n",
      "                                                 hawaii  |  -.0669148   .1175697    -0.57   0.569    -.2973733    .1635437\n",
      "                                                         |\n",
      "                                              occupation |\n",
      "                          Management-Related Occupation  |   -.125139   .0279781    -4.47   0.000    -.1799814   -.0702967\n",
      "                   Engineers, Architects, and Surveyors  |   .1180529   .0394666     2.99   0.003     .0406911    .1954147\n",
      "                   Mathematical and Computer Scientists  |  -.0190174   .0383106    -0.50   0.620    -.0941133    .0560784\n",
      "                                     Natural Scientists  |   -.062911   .0593673    -1.06   0.289     -.179282      .05346\n",
      "                          Health Diagnosing Occupations  |   .0914886   .0577691     1.58   0.113    -.0217496    .2047268\n",
      "             Health Assessment and Treating Occupations  |  -.0339784   .0362977    -0.94   0.349    -.1051287    .0371719\n",
      "                                             Therapists  |  -.0507913   .0559015    -0.91   0.364    -.1603686    .0587861\n",
      "                                Teachers, Postsecondary  |  -.3933386   .0484898    -8.11   0.000    -.4883876   -.2982896\n",
      "                                   Teachers, Pre-K - 12  |  -.6350593   .0275781   -23.03   0.000    -.6891175    -.581001\n",
      "                   Librarians, Archivists, and Curators  |  -.9342169   .1382128    -6.76   0.000     -1.20514   -.6632942\n",
      "                   Social Scientists and Urban Planners  |   .0160382   .0748619     0.21   0.830     -.130705    .1627815\n",
      "              Social, Recreation, and Religious Workers  |  -.6315828   .0459395   -13.75   0.000    -.7216328   -.5415328\n",
      "                                     Lawyers and Judges  |   .2497736   .0630371     3.96   0.000     .1262091    .3733381\n",
      "           Writers, Artists, Entertainers, and Athletes  |  -.3875505   .0421618    -9.19   0.000    -.4701955   -.3049055\n",
      "                   Health Technologists and Technicians  |   -.297465   .0424082    -7.01   0.000    -.3805929    -.214337\n",
      "           Technologists and Technicians, Except Health  |  -.2269088   .0684899    -3.31   0.001    -.3611616    -.092656\n",
      "                                    Science Technicians  |  -.2848658   .1369409    -2.08   0.038    -.5532955   -.0164361\n",
      "                                     Technicians, Other  |   .1160598   .0375722     3.09   0.002     .0424114    .1897082\n",
      "                                      Sales Supervisors  |   -.276134   .0351114    -7.86   0.000    -.3449589   -.2073092\n",
      "   Sales Representatives, Finance and Business Services  |  -.2521061   .0536558    -4.70   0.000    -.3572813   -.1469308\n",
      "       Sales Representatives, Commodities Except Retail  |   .4861409   .2631829     1.85   0.065    -.0297464    1.002028\n",
      "            Sales Workers, Retail and Personal Services  |  -.5446076   .0266591   -20.43   0.000    -.5968643   -.4923508\n",
      "                              Sales-Related Occupations  |  -.3215616   .3054534    -1.05   0.292    -.9203071    .2771839\n",
      "                       Administrate Support Supervisors  |  -.3649577   .0563842    -6.47   0.000    -.4754813   -.2544341\n",
      "                           Computer Equipment Operators  |  -.3155487   .2312363    -1.36   0.172    -.7688148    .1377175\n",
      "                Secretaries, Stenographers, and Typists  |  -.4564487   .0408634   -11.17   0.000    -.5365485   -.3763489\n",
      "                                     Information Clerks  |  -.5712147   .0463795   -12.32   0.000    -.6621271   -.4803023\n",
      "       Records Processing Occupations, Except Financial  |  -.7933368   .0857574    -9.25   0.000    -.9614373   -.6252364\n",
      "               Financial Records Processing Occupations  |  -.4279401   .0551045    -7.77   0.000    -.5359552    -.319925\n",
      "  Duplicating, Mail, and Other Office Machine Operators  |  -.0725879   .1597961    -0.45   0.650    -.3858179    .2406421\n",
      "                     Communications Equipment Operators  |  -.0104382   .2838717    -0.04   0.971    -.5668794    .5460029\n",
      "              Mail and Message Distributing Occupations  |  -.6206282   .0744294    -8.34   0.000    -.7665236   -.4747327\n",
      "Material Recording, Scheduling, and Distributing Clerks  |   -.574566   .0371721   -15.46   0.000    -.6474302   -.5017018\n",
      "                            Adjusters and Investigators  |  -.4482237   .0377845   -11.86   0.000    -.5222883   -.3741592\n",
      "       Miscellaneous Administrative Support Occupations  |  -.5801411   .0403505   -14.38   0.000    -.6592357   -.5010465\n",
      "                          Private Household Occupations  |  -.7369305    .063608   -11.59   0.000    -.8616141    -.612247\n",
      "                         Protective Service Occupations  |  -.4363736   .0383761   -11.37   0.000    -.5115978   -.3611493\n",
      "                               Food Service Occupations  |  -.7288583   .0280414   -25.99   0.000    -.7838247   -.6738918\n",
      "                             Health Service Occupations  |  -.7585972    .033813   -22.44   0.000    -.8248769   -.6923175\n",
      "              Cleaning and Building Service Occupations  |  -.5981564   .0443679   -13.48   0.000    -.6851257   -.5111871\n",
      "                           Personal Service Occupations  |  -.7435431   .0386255   -19.25   0.000    -.8192562     -.66783\n",
      "                            Farm Operators and Managers  |   -.032326   .1707412    -0.19   0.850    -.3670104    .3023584\n",
      "             Other Agricultural and Related Occupations  |  -.5157154   .0455213   -11.33   0.000    -.6049455   -.4264853\n",
      "                       Forestry and Logging Occupations  |  -.4625336    .186188    -2.48   0.013    -.8274968   -.0975705\n",
      "                         Fishers, Hunters, and Trappers  |   .1269968   .3003089     0.42   0.672    -.4616643     .715658\n",
      "                                Mechanics and Repairers  |  -.2985011   .0322542    -9.25   0.000    -.3617254   -.2352768\n",
      "                  Supervisors, Construction Occupations  |  -.1229026   .0793449    -1.55   0.121    -.2784333    .0326281\n",
      "                Construction Trades, Except Supervisors  |  -.2367436   .0343301    -6.90   0.000    -.3040369   -.1694502\n",
      "                                 Extractive Occupations  |   .0166139   .1741209     0.10   0.924    -.3246954    .3579232\n",
      "                       Precision Production Occupations  |  -.4176066   .0396045   -10.54   0.000    -.4952388   -.3399743\n",
      "        Machine Operators and Tenders, Except Precision  |  -.3762446   .0372276   -10.11   0.000    -.4492175   -.3032716\n",
      "  Fabricators, Assemblers, and Hand Working Occupations  |   -.338485   .0492335    -6.88   0.000    -.4349919   -.2419782\n",
      " Production Inspectors, Testers, Samplers, and Weighers  |  -.3277205   .0643813    -5.09   0.000    -.4539197   -.2015213\n",
      "                                Motor Vehicle Operators  |  -.4865427   .0315834   -15.40   0.000    -.5484521   -.4246333\n",
      "      Transportation Occupations, Except Motor Vehicles  |  -.2541903   .0714955    -3.56   0.000    -.3943346   -.1140459\n",
      "       Helpers, Construction and Extractive Occupations  |  -.3610826   .0534978    -6.75   0.000    -.4659483    -.256217\n",
      "                  Freight, Stock, and Material Handlers  |  -.6061149   .0380527   -15.93   0.000    -.6807052   -.5315246\n"
     ]
    },
    {
     "name": "stdout",
     "output_type": "stream",
     "text": [
      "                                                         |\n",
      "                                                   _cons |   4.613629   .0877659    52.57   0.000     4.441592    4.785667\n",
      "--------------------------------------------------------------------------------------------------------------------------\n"
     ]
    }
   ],
   "source": [
    "regress lrwage i.black hours grade experience experience2 i.married i.veteran i.public i.union i.metro size i.state i. occupation[aw = weight]"
   ]
  },
  {
   "cell_type": "markdown",
   "metadata": {},
   "source": [
    "The addition of the occupation dummy variables decreased the residual wage gap."
   ]
  }
 ],
 "metadata": {
  "kernelspec": {
   "display_name": "Stata",
   "language": "stata",
   "name": "stata"
  },
  "language_info": {
   "codemirror_mode": "stata",
   "file_extension": ".do",
   "mimetype": "text/x-stata",
   "name": "stata",
   "version": "15.1"
  }
 },
 "nbformat": 4,
 "nbformat_minor": 2
}
