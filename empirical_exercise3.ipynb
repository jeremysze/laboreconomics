{
 "cells": [
  {
   "cell_type": "code",
   "execution_count": 3,
   "metadata": {},
   "outputs": [],
   "source": [
    "/****************************************************************************\n",
    "* File name: empirical_exercise3.do\n",
    "* Author(s): Sze, J.\n",
    "* Date: 2/21/2019\n",
    "* Description: \n",
    "* Answers to empirical exercise 3 for Labor Economics\n",
    "*\n",
    "* Inputs: \n",
    "* ..\\input_data\\Small CPS, 1976-2018.dta\" \n",
    "* \n",
    "* Outputs:\n",
    "* \n",
    "***************************************************************************/"
   ]
  },
  {
   "cell_type": "markdown",
   "metadata": {},
   "source": [
    "## Empirical Exercise 3\n",
    "This week’s exercise uses the Small CPS, 1976-2018.dta file, an extract of the basic monthly\n",
    "CPS files since 1976. The extract contains samples of the civilian, working-age population: everyone\n",
    "age 16 and older who is not in the military. In addition, the extract randomly draws 1,000\n",
    "observations per year, so the data set contains 43,000 observations."
   ]
  },
  {
   "cell_type": "code",
   "execution_count": 1,
   "metadata": {},
   "outputs": [
    {
     "name": "stdout",
     "output_type": "stream",
     "text": [
      "(1000 Obs./Year Extract of the Basic Monthly CPS Files, 1976-2018)\n"
     ]
    }
   ],
   "source": [
    "use \"..\\input_data\\Small CPS, 1976-2018.dta\", clear"
   ]
  },
  {
   "cell_type": "markdown",
   "metadata": {},
   "source": [
    "## A. Explore the Data. \n",
    "Get a sense of the data by (a) describing the data set, (b) listing 5–10\n",
    "observations (perhaps 8–10 variables at a time) without and with labels, (c) summarizing\n",
    "the data without and with the weighting variable pweight, and (d) tabulating (without\n",
    "weights) the categorical variables. Also, compute cross-tabulations of key categorical\n",
    "variables (e.g., sex, race, empstat, month) by year."
   ]
  },
  {
   "cell_type": "code",
   "execution_count": 2,
   "metadata": {},
   "outputs": [
    {
     "name": "stdout",
     "output_type": "stream",
     "text": [
      "\n",
      "Contains data from ..\\input_data\\Small CPS, 1976-2018.dta\n",
      "  obs:        43,000                          1000 Obs./Year Extract of the Basic Monthly CPS Files, 1976-2018\n",
      " vars:            18                          22 Jan 2019 18:46\n",
      " size:     1,419,000                          \n",
      "---------------------------------------------------------------------------------------------------------------------------------------------------------------------------------------------------------------------------------------------------------------\n",
      "              storage   display    value\n",
      "variable name   type    format     label      variable label\n",
      "---------------------------------------------------------------------------------------------------------------------------------------------------------------------------------------------------------------------------------------------------------------\n",
      "idcode          float   %9.0g               * id code\n",
      "pweight         double  %12.0g                final basic weight\n",
      "year            int     %8.0g                 survey year\n",
      "month           byte    %9.0g      month      month\n",
      "age             byte    %8.0g                 age\n",
      "female          byte    %9.0g      female     whether remale\n",
      "race            byte    %17.0g     race       race\n",
      "hispanic        byte    %14.0g     hispanic   hispanic origin\n",
      "married         byte    %23.0g     married    married with spouse present\n",
      "veteran         byte    %10.0g     veteran    veteran status\n",
      "region          byte    %18.0g     region     census division, 1-9\n",
      "state           byte    %71.0g     state      state (census code)\n",
      "metro           byte    %27.0g     metro      metropolitan central city status\n",
      "size            byte    %33.0g     size       size of metro area\n",
      "grade           float   %9.0g               * highest grade completed\n",
      "empstat         byte    %12.0g     empstat    employment status\n",
      "class           byte    %20.0g     class      employment class: self, private, public\n",
      "hours           int     %8.0g                 hours worked last week\n",
      "                                            * indicated variables have notes\n",
      "---------------------------------------------------------------------------------------------------------------------------------------------------------------------------------------------------------------------------------------------------------------\n",
      "Sorted by: year  month\n"
     ]
    }
   ],
   "source": [
    "describe"
   ]
  },
  {
   "cell_type": "code",
   "execution_count": 6,
   "metadata": {},
   "outputs": [
    {
     "name": "stdout",
     "output_type": "stream",
     "text": [
      "\n",
      "\n",
      "     +----------------------+\n",
      "     | age   female    race |\n",
      "     |----------------------|\n",
      "  1. |  17      Man   White |\n",
      "  2. |  54      Man   White |\n",
      "  3. |  17    Woman   White |\n",
      "  4. |  75      Man   Black |\n",
      "  5. |  47      Man   White |\n",
      "     +----------------------+\n",
      "\n",
      "\n",
      "     +---------------------+\n",
      "     | age   female   race |\n",
      "     |---------------------|\n",
      "  1. |  17        0      1 |\n",
      "  2. |  54        0      1 |\n",
      "  3. |  17        1      1 |\n",
      "  4. |  75        0      2 |\n",
      "  5. |  47        0      1 |\n",
      "     +---------------------+\n"
     ]
    }
   ],
   "source": [
    "list age female race in 1/5\n",
    "\n",
    "list age female race in 1/5,nolabel"
   ]
  },
  {
   "cell_type": "code",
   "execution_count": 7,
   "metadata": {},
   "outputs": [
    {
     "name": "stdout",
     "output_type": "stream",
     "text": [
      "\n",
      "    Variable |        Obs        Mean    Std. Dev.       Min        Max\n",
      "-------------+---------------------------------------------------------\n",
      "         age |     43,000    44.29812    18.47795         16         97\n",
      "      female |     43,000    .5333721    .4988909          0          1\n",
      "    hispanic |     42,543     .116917    .4123765          0          2\n",
      "     married |     43,000     .558907    .4965236          0          1\n"
     ]
    }
   ],
   "source": [
    "sum age female hispanic married "
   ]
  },
  {
   "cell_type": "code",
   "execution_count": 8,
   "metadata": {},
   "outputs": [
    {
     "name": "stdout",
     "output_type": "stream",
     "text": [
      "\n",
      "    Variable |     Obs      Weight        Mean   Std. Dev.       Min        Max\n",
      "-------------+-----------------------------------------------------------------\n",
      "         age |  43,000  84456884.1    43.81324   18.39005         16         97\n",
      "      female |  43,000  84456884.1    .5261701   .4993205          0          1\n",
      "    hispanic |  42,543  83640801.3    .1522935   .4605924          0          2\n",
      "     married |  43,000  84456884.1    .5427356   .4981761          0          1\n"
     ]
    }
   ],
   "source": [
    "sum age female hispanic married [aweight = pweight]"
   ]
  },
  {
   "cell_type": "code",
   "execution_count": 10,
   "metadata": {},
   "outputs": [
    {
     "name": "stdout",
     "output_type": "stream",
     "text": [
      "\n",
      "-> tabulation of race  \n",
      "\n",
      "             race |      Freq.     Percent        Cum.\n",
      "------------------+-----------------------------------\n",
      "            White |     36,527       84.95       84.95\n",
      "            Black |      4,199        9.77       94.71\n",
      "           Indian |        322        0.75       95.46\n",
      "Asian/PacIslander |      1,272        2.96       98.42\n",
      "            Other |        680        1.58      100.00\n",
      "------------------+-----------------------------------\n",
      "            Total |     43,000      100.00\n",
      "\n",
      "-> tabulation of region  \n",
      "\n",
      "  census division, |\n",
      "               1-9 |      Freq.     Percent        Cum.\n",
      "-------------------+-----------------------------------\n",
      "       New England |      3,835        8.92        8.92\n",
      "   Middle Atlantic |      5,410       12.58       21.50\n",
      "East North Central |      5,905       13.73       35.23\n",
      "West North Central |      4,323       10.05       45.29\n",
      "    South Atlantic |      7,315       17.01       62.30\n",
      "East South Central |      2,297        5.34       67.64\n",
      "West South Central |      3,814        8.87       76.51\n",
      "          Mountain |      4,381       10.19       86.70\n",
      "           Pacific |      5,720       13.30      100.00\n",
      "-------------------+-----------------------------------\n",
      "             Total |     43,000      100.00\n",
      "\n",
      "-> tabulation of metro  \n",
      "\n",
      "  metropolitan central city |\n",
      "                     status |      Freq.     Percent        Cum.\n",
      "----------------------------+-----------------------------------\n",
      "          not in metro area |     10,167       26.65       26.65\n",
      "               central city |      9,289       24.35       50.99\n",
      "       outside central city |     14,572       38.19       89.19\n",
      "central city status unknown |      3,568        9.35       98.54\n",
      "            missing/unknown |        558        1.46      100.00\n",
      "----------------------------+-----------------------------------\n",
      "                      Total |     38,154      100.00\n"
     ]
    }
   ],
   "source": [
    "tab1 race region metro"
   ]
  },
  {
   "cell_type": "code",
   "execution_count": 12,
   "metadata": {},
   "outputs": [
    {
     "name": "stdout",
     "output_type": "stream",
     "text": [
      "\n",
      "    survey |    whether remale\n",
      "      year |       Man      Woman |     Total\n",
      "-----------+----------------------+----------\n",
      "      1976 |       474        526 |     1,000 \n",
      "      1977 |       457        543 |     1,000 \n",
      "      1978 |       440        560 |     1,000 \n",
      "      1979 |       458        542 |     1,000 \n",
      "      1980 |       441        559 |     1,000 \n",
      "      1981 |       471        529 |     1,000 \n",
      "      1982 |       476        524 |     1,000 \n",
      "      1983 |       461        539 |     1,000 \n",
      "      1984 |       488        512 |     1,000 \n",
      "      1985 |       457        543 |     1,000 \n",
      "      1986 |       480        520 |     1,000 \n",
      "      1987 |       482        518 |     1,000 \n",
      "      1988 |       439        561 |     1,000 \n",
      "      1989 |       444        556 |     1,000 \n",
      "      1990 |       457        543 |     1,000 \n",
      "      1991 |       457        543 |     1,000 \n",
      "      1992 |       484        516 |     1,000 \n",
      "      1993 |       473        527 |     1,000 \n",
      "      1994 |       477        523 |     1,000 \n",
      "      1995 |       477        523 |     1,000 \n",
      "      1996 |       467        533 |     1,000 \n",
      "      1997 |       453        547 |     1,000 \n",
      "      1998 |       445        555 |     1,000 \n",
      "      1999 |       474        526 |     1,000 \n",
      "      2000 |       441        559 |     1,000 \n",
      "      2001 |       463        537 |     1,000 \n",
      "      2002 |       495        505 |     1,000 \n",
      "      2003 |       440        560 |     1,000 \n",
      "      2004 |       494        506 |     1,000 \n",
      "      2005 |       475        525 |     1,000 \n",
      "      2006 |       478        522 |     1,000 \n",
      "      2007 |       500        500 |     1,000 \n",
      "      2008 |       459        541 |     1,000 \n",
      "      2009 |       488        512 |     1,000 \n",
      "      2010 |       454        546 |     1,000 \n",
      "      2011 |       476        524 |     1,000 \n",
      "      2012 |       478        522 |     1,000 \n",
      "      2013 |       450        550 |     1,000 \n",
      "      2014 |       499        501 |     1,000 \n",
      "      2015 |       452        548 |     1,000 \n",
      "      2016 |       464        536 |     1,000 \n",
      "      2017 |       467        533 |     1,000 \n",
      "      2018 |       460        540 |     1,000 \n",
      "-----------+----------------------+----------\n",
      "     Total |    20,065     22,935 |    43,000 \n"
     ]
    }
   ],
   "source": [
    "tab year female "
   ]
  },
  {
   "cell_type": "code",
   "execution_count": 13,
   "metadata": {},
   "outputs": [
    {
     "name": "stdout",
     "output_type": "stream",
     "text": [
      "\n",
      "    survey |                          race\n",
      "      year |     White      Black     Indian  Asian/Pac      Other |     Total\n",
      "-----------+-------------------------------------------------------+----------\n",
      "      1976 |       894         93          0          0         13 |     1,000 \n",
      "      1977 |       877        108          0          0         15 |     1,000 \n",
      "      1978 |       873         99          0          0         28 |     1,000 \n",
      "      1979 |       892         86          0          0         22 |     1,000 \n",
      "      1980 |       880         83          0          0         37 |     1,000 \n",
      "      1981 |       879         85          0          0         36 |     1,000 \n",
      "      1982 |       892         74          0          0         34 |     1,000 \n",
      "      1983 |       886         84          0          0         30 |     1,000 \n",
      "      1984 |       867        100          0          0         33 |     1,000 \n",
      "      1985 |       884         89          0          0         27 |     1,000 \n",
      "      1986 |       865        107          0          0         28 |     1,000 \n",
      "      1987 |       855        108          0          0         37 |     1,000 \n",
      "      1988 |       871         93          0          0         36 |     1,000 \n",
      "      1989 |       870         91         11         25          3 |     1,000 \n",
      "      1990 |       872         89          6         30          3 |     1,000 \n",
      "      1991 |       865         94          9         30          2 |     1,000 \n",
      "      1992 |       858        101         11         28          2 |     1,000 \n",
      "      1993 |       857        106          5         27          5 |     1,000 \n",
      "      1994 |       867         92          9         21         11 |     1,000 \n",
      "      1995 |       827        110          9         38         16 |     1,000 \n",
      "      1996 |       844        115         12         29          0 |     1,000 \n",
      "      1997 |       843        111         13         33          0 |     1,000 \n",
      "      1998 |       859         96         10         35          0 |     1,000 \n",
      "      1999 |       844         99          7         50          0 |     1,000 \n",
      "      2000 |       853         96          8         43          0 |     1,000 \n",
      "      2001 |       853         82         13         52          0 |     1,000 \n",
      "      2002 |       839         99         14         48          0 |     1,000 \n",
      "      2003 |       827        103          7         42         21 |     1,000 \n",
      "      2004 |       844         88         10         40         18 |     1,000 \n",
      "      2005 |       847         94         10         33         16 |     1,000 \n",
      "      2006 |       847         85          6         45         17 |     1,000 \n",
      "      2007 |       838         96          8         41         17 |     1,000 \n",
      "      2008 |       828         92         11         56         13 |     1,000 \n",
      "      2009 |       841         88         16         39         16 |     1,000 \n",
      "      2010 |       821        114         18         36         11 |     1,000 \n",
      "      2011 |       804        107         13         60         16 |     1,000 \n",
      "      2012 |       819        116          9         46         10 |     1,000 \n",
      "      2013 |       822        100         13         49         16 |     1,000 \n",
      "      2014 |       799        100         13         70         18 |     1,000 \n",
      "      2015 |       808        115         15         47         15 |     1,000 \n",
      "      2016 |       789        112         18         54         27 |     1,000 \n",
      "      2017 |       834         90          8         54         14 |     1,000 \n",
      "      2018 |       793        109         10         71         17 |     1,000 \n",
      "-----------+-------------------------------------------------------+----------\n",
      "     Total |    36,527      4,199        322      1,272        680 |    43,000 \n"
     ]
    }
   ],
   "source": [
    "tab year race "
   ]
  },
  {
   "cell_type": "code",
   "execution_count": 14,
   "metadata": {},
   "outputs": [
    {
     "name": "stdout",
     "output_type": "stream",
     "text": [
      "\n",
      "    survey |        employment status\n",
      "      year |  Employed  Unemploye       NILF |     Total\n",
      "-----------+---------------------------------+----------\n",
      "      1976 |       549         38        413 |     1,000 \n",
      "      1977 |       591         37        372 |     1,000 \n",
      "      1978 |       588         30        382 |     1,000 \n",
      "      1979 |       585         38        377 |     1,000 \n",
      "      1980 |       580         38        382 |     1,000 \n",
      "      1981 |       575         47        378 |     1,000 \n",
      "      1982 |       553         56        391 |     1,000 \n",
      "      1983 |       556         63        381 |     1,000 \n",
      "      1984 |       649         38        313 |     1,000 \n",
      "      1985 |       581         43        376 |     1,000 \n",
      "      1986 |       589         44        367 |     1,000 \n",
      "      1987 |       602         50        348 |     1,000 \n",
      "      1988 |       625         40        335 |     1,000 \n",
      "      1989 |       618         31        351 |     1,000 \n",
      "      1990 |       614         23        363 |     1,000 \n",
      "      1991 |       623         51        326 |     1,000 \n",
      "      1992 |       627         42        331 |     1,000 \n",
      "      1993 |       551         52        397 |     1,000 \n",
      "      1994 |       632         38        330 |     1,000 \n",
      "      1995 |       642         42        316 |     1,000 \n",
      "      1996 |       629         49        322 |     1,000 \n",
      "      1997 |       631         32        337 |     1,000 \n",
      "      1998 |       628         43        329 |     1,000 \n",
      "      1999 |       634         23        343 |     1,000 \n",
      "      2000 |       631         25        344 |     1,000 \n",
      "      2001 |       625         33        342 |     1,000 \n",
      "      2002 |       622         40        338 |     1,000 \n",
      "      2003 |       663         32        305 |     1,000 \n",
      "      2004 |       638         32        330 |     1,000 \n",
      "      2005 |       650         33        317 |     1,000 \n",
      "      2006 |       630         35        335 |     1,000 \n",
      "      2007 |       649         20        331 |     1,000 \n",
      "      2008 |       644         30        326 |     1,000 \n",
      "      2009 |       612         64        324 |     1,000 \n",
      "      2010 |       584         59        357 |     1,000 \n",
      "      2011 |       600         46        354 |     1,000 \n",
      "      2012 |       583         55        362 |     1,000 \n",
      "      2013 |       568         39        393 |     1,000 \n",
      "      2014 |       600         47        353 |     1,000 \n",
      "      2015 |       577         34        389 |     1,000 \n",
      "      2016 |       601         33        366 |     1,000 \n",
      "      2017 |       618         19        363 |     1,000 \n",
      "      2018 |       606         22        372 |     1,000 \n",
      "-----------+---------------------------------+----------\n",
      "     Total |    26,153      1,686     15,161 |    43,000 \n"
     ]
    }
   ],
   "source": [
    "tab year empstat "
   ]
  },
  {
   "cell_type": "markdown",
   "metadata": {},
   "source": [
    "## B. Examine the Weights. \n",
    "The weighting variable pweight applies to all observations in the\n",
    "basic monthly survey. For a particular worker, what does the value of pweight represent?\n",
    "Compute and interpret the sum of the weights by year."
   ]
  },
  {
   "cell_type": "code",
   "execution_count": null,
   "metadata": {},
   "outputs": [],
   "source": [
    "// The weights for each observation represents the number of individuals that this observation represent. "
   ]
  },
  {
   "cell_type": "code",
   "execution_count": 16,
   "metadata": {},
   "outputs": [
    {
     "name": "stdout",
     "output_type": "stream",
     "text": [
      "\n",
      "\n",
      "\n",
      "\n",
      "     +--------------------+\n",
      "     | year       pweight |\n",
      "     |--------------------|\n",
      "  1. | 1976    1665567.96 |\n",
      "  2. | 1977    1513499.28 |\n",
      "  3. | 1978    1426584.03 |\n",
      "  4. | 1979    1488270.75 |\n",
      "  5. | 1980    1310384.15 |\n",
      "     |--------------------|\n",
      "  6. | 1981    1380000.92 |\n",
      "  7. | 1982    1460993.78 |\n",
      "  8. | 1983    1491342.41 |\n",
      "  9. | 1984    1505821.25 |\n",
      " 10. | 1985    1529755.25 |\n",
      "     |--------------------|\n",
      " 11. | 1986    1584462.74 |\n",
      " 12. | 1987    1658003.86 |\n",
      " 13. | 1988    1788706.12 |\n",
      " 14. | 1989     1720098.1 |\n",
      " 15. | 1990    1691152.65 |\n",
      "     |--------------------|\n",
      " 16. | 1991    1703017.38 |\n",
      " 17. | 1992    1727239.72 |\n",
      " 18. | 1993    1857285.93 |\n",
      " 19. | 1994   1827839.478 |\n",
      " 20. | 1995   1909959.525 |\n",
      "     |--------------------|\n",
      " 21. | 1996   2227137.753 |\n",
      " 22. | 1997   2226302.725 |\n",
      " 23. | 1998   2207626.277 |\n",
      " 24. | 1999   2215212.729 |\n",
      " 25. | 2000   2283764.063 |\n",
      "     |--------------------|\n",
      " 26. | 2001    2081102.49 |\n",
      " 27. | 2002   2014057.725 |\n",
      " 28. | 2003   2046133.283 |\n",
      " 29. | 2004   2092209.447 |\n",
      " 30. | 2005   2172420.536 |\n",
      "     |--------------------|\n",
      " 31. | 2006   2131101.043 |\n",
      " 32. | 2007    2172868.35 |\n",
      " 33. | 2008   2232891.279 |\n",
      " 34. | 2009   2233364.029 |\n",
      " 35. | 2010   2217716.235 |\n",
      "     |--------------------|\n",
      " 36. | 2011   2308916.853 |\n",
      " 37. | 2012   2348662.557 |\n",
      " 38. | 2013   2392974.446 |\n",
      " 39. | 2014   2431208.673 |\n",
      " 40. | 2015   2416397.609 |\n",
      "     |--------------------|\n",
      " 41. | 2016   2521404.372 |\n",
      " 42. | 2017   2563604.155 |\n",
      " 43. | 2018   2679822.209 |\n",
      "     +--------------------+\n",
      "\n"
     ]
    }
   ],
   "source": [
    "preserve\n",
    "collapse (rawsum) pweight, by(year)\n",
    "list\n",
    "restore"
   ]
  },
  {
   "cell_type": "markdown",
   "metadata": {},
   "source": [
    "## C. Collapse the Data to Annual Averages. \n",
    "Weight the averages by pweight. Compute the\n",
    "weighted mean of (a) continuous and binary variables (e.g., age, hours, and female) and\n",
    "(b) dummy variables that you generate from categorical variables (e.g., black and asian\n",
    "from race). Your data set of annual averages should also include a weighting variable that\n",
    "equals the sum of each year’s weights."
   ]
  },
  {
   "cell_type": "code",
   "execution_count": 19,
   "metadata": {},
   "outputs": [
    {
     "name": "stdout",
     "output_type": "stream",
     "text": [
      "\n",
      "\n",
      "             race |      Freq.     Percent        Cum.\n",
      "------------------+-----------------------------------\n",
      "            White |     36,527       84.95       84.95\n",
      "            Black |      4,199        9.77       94.71\n",
      "           Indian |        322        0.75       95.46\n",
      "Asian/PacIslander |      1,272        2.96       98.42\n",
      "            Other |        680        1.58      100.00\n",
      "------------------+-----------------------------------\n",
      "            Total |     43,000      100.00\n",
      "\n",
      "\n",
      "             race |      Freq.     Percent        Cum.\n",
      "------------------+-----------------------------------\n",
      "            White |     36,527       84.95       84.95\n",
      "            Black |      4,199        9.77       94.71\n",
      "           Indian |        322        0.75       95.46\n",
      "Asian/PacIslander |      1,272        2.96       98.42\n",
      "            Other |        680        1.58      100.00\n",
      "------------------+-----------------------------------\n",
      "            Total |     43,000      100.00\n"
     ]
    }
   ],
   "source": [
    "tab race\n",
    "tab race, gen(race_)"
   ]
  },
  {
   "cell_type": "code",
   "execution_count": 21,
   "metadata": {},
   "outputs": [
    {
     "name": "stdout",
     "output_type": "stream",
     "text": [
      "\n",
      "              storage   display    value\n",
      "variable name   type    format     label      variable label\n",
      "---------------------------------------------------------------------------------------------------------------------------------------------------------------------------------------------------------------------------------------------------------------\n",
      "race_1          byte    %8.0g                 White\n",
      "race_2          byte    %8.0g                 race==Black\n",
      "race_3          byte    %8.0g                 race==Indian\n",
      "race_4          byte    %8.0g                 race==Asian/PacIslander\n",
      "race_5          byte    %8.0g                 race==Other\n"
     ]
    }
   ],
   "source": [
    "des race_*"
   ]
  },
  {
   "cell_type": "code",
   "execution_count": 26,
   "metadata": {},
   "outputs": [
    {
     "name": "stdout",
     "output_type": "stream",
     "text": [
      "\n",
      "\n",
      "      hispanic |\n",
      "        origin |      Freq.     Percent        Cum.\n",
      "---------------+-----------------------------------\n",
      "  Not Hispanic |     38,990       91.65       91.65\n",
      "       Mexican |      2,132        5.01       96.66\n",
      "Other Hispanic |      1,421        3.34      100.00\n",
      "---------------+-----------------------------------\n",
      "         Total |     42,543      100.00\n",
      "\n",
      "\n",
      "   hispanic |\n",
      "     origin |      Freq.     Percent        Cum.\n",
      "------------+-----------------------------------\n",
      "          0 |     38,990       91.65       91.65\n",
      "          1 |      2,132        5.01       96.66\n",
      "          2 |      1,421        3.34      100.00\n",
      "------------+-----------------------------------\n",
      "      Total |     42,543      100.00\n",
      "\n",
      "(hispanic: 1421 changes made)\n"
     ]
    }
   ],
   "source": [
    "tab hispanic\n",
    "tab hispanic,nolabel\n",
    "recode hispanic (2=1)\n",
    "label define hispanic_ 0 \"Not Hispanic\" 1 \"Hispanic:Mexican/other\"\n",
    "label values hispanic hispanic_"
   ]
  },
  {
   "cell_type": "code",
   "execution_count": 34,
   "metadata": {},
   "outputs": [
    {
     "name": "stdout",
     "output_type": "stream",
     "text": [
      "\n",
      "\n",
      "  employment |\n",
      "      status |      Freq.     Percent        Cum.\n",
      "-------------+-----------------------------------\n",
      "    Employed |     26,153       60.82       60.82\n",
      "  Unemployed |      1,686        3.92       64.74\n",
      "        NILF |     15,161       35.26      100.00\n",
      "-------------+-----------------------------------\n",
      "       Total |     43,000      100.00\n",
      "\n",
      "\n",
      " employment |\n",
      "     status |      Freq.     Percent        Cum.\n",
      "------------+-----------------------------------\n",
      "          2 |     26,153       60.82       60.82\n",
      "          3 |      1,686        3.92       64.74\n",
      "          4 |     15,161       35.26      100.00\n",
      "------------+-----------------------------------\n",
      "      Total |     43,000      100.00\n",
      "\n"
     ]
    }
   ],
   "source": [
    "tab empstat\n",
    "tab empstat, nolabel\n",
    "*NILF : not in the labor force \n",
    "\n",
    "gen employed = (empstat == 2)"
   ]
  },
  {
   "cell_type": "code",
   "execution_count": 23,
   "metadata": {},
   "outputs": [
    {
     "name": "stdout",
     "output_type": "stream",
     "text": [
      "\n",
      "    Variable |        Obs        Mean    Std. Dev.       Min        Max\n",
      "-------------+---------------------------------------------------------\n",
      "      idcode |     43,000     21500.5    12413.18          1      43000\n",
      "     pweight |     43,000    1964.114    1096.003    53.1484   12018.34\n",
      "        year |     43,000        1997    12.40982       1976       2018\n",
      "       month |     43,000     6.49314    3.441774          1         12\n",
      "         age |     43,000    44.29812    18.47795         16         97\n",
      "-------------+---------------------------------------------------------\n",
      "      female |     43,000    .5333721    .4988909          0          1\n",
      "        race |     43,000    1.264628    .7595038          1          5\n",
      "    hispanic |     42,543     .116917    .4123765          0          2\n",
      "     married |     43,000     .558907    .4965236          0          1\n",
      "     veteran |     29,752     .108665    .3112236          0          1\n",
      "-------------+---------------------------------------------------------\n",
      "      region |     43,000    4.959186    2.580923          1          9\n",
      "       state |     43,000    53.17595    26.13426         11         99\n",
      "       metro |     38,154    2.404859    1.255075          1          9\n",
      "        size |     28,576    2.857818    2.289474          0          6\n",
      "       grade |     43,000    12.63599    3.005864          0         19\n",
      "-------------+---------------------------------------------------------\n",
      "     empstat |     43,000    2.744372    .9462906          2          4\n",
      "       class |     28,455    2.046213    .5206845          1          4\n",
      "       hours |     17,776    38.86594    13.74088          1        152\n",
      "      race_1 |     43,000    .8494651    .3575991          0          1\n",
      "      race_2 |     43,000    .0976512    .2968459          0          1\n",
      "-------------+---------------------------------------------------------\n",
      "      race_3 |     43,000    .0074884    .0862118          0          1\n",
      "      race_4 |     43,000    .0295814    .1694314          0          1\n",
      "      race_5 |     43,000     .015814    .1247567          0          1\n"
     ]
    }
   ],
   "source": [
    "sum"
   ]
  },
  {
   "cell_type": "code",
   "execution_count": 38,
   "metadata": {},
   "outputs": [
    {
     "name": "stdout",
     "output_type": "stream",
     "text": [
      "\n",
      "   employment class: |\n",
      "      self, private, |        employment status\n",
      "              public |  Employed  Unemploye       NILF |     Total\n",
      "---------------------+---------------------------------+----------\n",
      "       Self Employed |     3,004         73         60 |     3,137 \n",
      "    Private Employer |    19,063      1,303        593 |    20,959 \n",
      "          Government |     4,014        139        113 |     4,266 \n",
      "Unpaid Family Worker |        72          2         19 |        93 \n",
      "                   . |         0        169     14,376 |    14,545 \n",
      "---------------------+---------------------------------+----------\n",
      "               Total |    26,153      1,686     15,161 |    43,000 \n"
     ]
    }
   ],
   "source": [
    "tab class empstat,m"
   ]
  },
  {
   "cell_type": "code",
   "execution_count": 39,
   "metadata": {},
   "outputs": [
    {
     "name": "stdout",
     "output_type": "stream",
     "text": [
      "\n",
      "---------------------------------------------------------------------------------------------------------------------------------------------------------------------------------------------------------------------------------------------------------------\n",
      "class                                                                                                                                                                                                                   employment class: self, private, public\n",
      "---------------------------------------------------------------------------------------------------------------------------------------------------------------------------------------------------------------------------------------------------------------\n",
      "\n",
      "                  type:  numeric (byte)\n",
      "                 label:  class\n",
      "\n",
      "                 range:  [1,4]                        units:  1\n",
      "         unique values:  4                        missing .:  14,545/43,000\n",
      "\n",
      "            tabulation:  Freq.   Numeric  Label\n",
      "                         3,137         1  Self Employed\n",
      "                        20,959         2  Private Employer\n",
      "                         4,266         3  Government\n",
      "                            93         4  Unpaid Family Worker\n",
      "                        14,545         .  \n",
      "\n",
      "---------------------------------------------------------------------------------------------------------------------------------------------------------------------------------------------------------------------------------------------------------------\n",
      "empstat                                                                                                                                                                                                                                       employment status\n",
      "---------------------------------------------------------------------------------------------------------------------------------------------------------------------------------------------------------------------------------------------------------------\n",
      "\n",
      "                  type:  numeric (byte)\n",
      "                 label:  empstat\n",
      "\n",
      "                 range:  [2,4]                        units:  1\n",
      "         unique values:  3                        missing .:  0/43,000\n",
      "\n",
      "            tabulation:  Freq.   Numeric  Label\n",
      "                        26,153         2  Employed\n",
      "                         1,686         3  Unemployed\n",
      "                        15,161         4  NILF\n"
     ]
    }
   ],
   "source": [
    "codebook class empstat"
   ]
  },
  {
   "cell_type": "code",
   "execution_count": 40,
   "metadata": {},
   "outputs": [],
   "source": [
    "global continous_var age hours grade\n",
    "global binary_var female race_* hispanic married veteran employed\n",
    "gen pweight2 = 1\n",
    "collapse (mean) $continous_var $binary_var (rawsum) pweight2 [pweight = pweight] , by(year)"
   ]
  },
  {
   "cell_type": "code",
   "execution_count": null,
   "metadata": {},
   "outputs": [],
   "source": []
  },
  {
   "cell_type": "code",
   "execution_count": null,
   "metadata": {},
   "outputs": [],
   "source": []
  },
  {
   "cell_type": "markdown",
   "metadata": {},
   "source": [
    "## D. Analyze the Annual Averages. \n",
    "Plot (a) participation and employment rates since 1976 in\n",
    "one graph and average hours in another graph; (b) plot the participation and employment\n",
    "rates by sex in one graph and average hours by sex in another graph; (c) plot the employment\n",
    "rate by race in one graph and average hours by race in another graph; and (d)\n",
    "plot the employment rate by a schooling variable in one graph and average hours by the\n",
    "same schooling variable in another graph. The schooling variable classifies workers into\n",
    "three groups: high school graduate, college graduate, and graduate school; you can drop\n",
    "observations with grade<12 or 12<grade<16."
   ]
  },
  {
   "cell_type": "code",
   "execution_count": null,
   "metadata": {},
   "outputs": [],
   "source": []
  }
 ],
 "metadata": {
  "kernelspec": {
   "display_name": "Stata",
   "language": "stata",
   "name": "stata"
  },
  "language_info": {
   "file_extension": ".do",
   "mimetype": "text/x-stata",
   "name": "stata"
  }
 },
 "nbformat": 4,
 "nbformat_minor": 2
}
