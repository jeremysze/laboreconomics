{
 "cells": [
  {
   "cell_type": "code",
   "execution_count": 3,
   "metadata": {},
   "outputs": [],
   "source": [
    "/****************************************************************************\n",
    "* File name: empirical_exercise3.do\n",
    "* Author(s): Sze, J.\n",
    "* Date: 2/21/2019\n",
    "* Description: \n",
    "* Answers to empirical exercise 3 for Labor Economics\n",
    "*\n",
    "* Inputs: \n",
    "* ..\\input_data\\Small CPS, 1976-2018.dta\" \n",
    "* \n",
    "* Outputs:\n",
    "* \n",
    "***************************************************************************/"
   ]
  },
  {
   "cell_type": "markdown",
   "metadata": {},
   "source": [
    "## Empirical Exercise 3\n",
    "This week’s exercise uses the Small CPS, 1976-2018.dta file, an extract of the basic monthly\n",
    "CPS files since 1976. The extract contains samples of the civilian, working-age population: everyone\n",
    "age 16 and older who is not in the military. In addition, the extract randomly draws 1,000\n",
    "observations per year, so the data set contains 43,000 observations."
   ]
  },
  {
   "cell_type": "code",
   "execution_count": 1,
   "metadata": {},
   "outputs": [
    {
     "name": "stdout",
     "output_type": "stream",
     "text": [
      "(1000 Obs./Year Extract of the Basic Monthly CPS Files, 1976-2018)\n"
     ]
    }
   ],
   "source": [
    "use \"..\\input_data\\Small CPS, 1976-2018.dta\", clear"
   ]
  },
  {
   "cell_type": "markdown",
   "metadata": {},
   "source": [
    "## A. Explore the Data. \n",
    "Get a sense of the data by (a) describing the data set, (b) listing 5–10\n",
    "observations (perhaps 8–10 variables at a time) without and with labels, (c) summarizing\n",
    "the data without and with the weighting variable pweight, and (d) tabulating (without\n",
    "weights) the categorical variables. Also, compute cross-tabulations of key categorical\n",
    "variables (e.g., sex, race, empstat, month) by year."
   ]
  },
  {
   "cell_type": "code",
   "execution_count": 2,
   "metadata": {},
   "outputs": [
    {
     "name": "stdout",
     "output_type": "stream",
     "text": [
      "\n",
      "Contains data from ..\\input_data\\Small CPS, 1976-2018.dta\n",
      "  obs:        43,000                          1000 Obs./Year Extract of the Basic Monthly CPS Files, 1976-2018\n",
      " vars:            18                          22 Jan 2019 18:46\n",
      " size:     1,419,000                          \n",
      "---------------------------------------------------------------------------------------------------------------------------------------------------------------------------------------------------------------------------------------------------------------\n",
      "              storage   display    value\n",
      "variable name   type    format     label      variable label\n",
      "---------------------------------------------------------------------------------------------------------------------------------------------------------------------------------------------------------------------------------------------------------------\n",
      "idcode          float   %9.0g               * id code\n",
      "pweight         double  %12.0g                final basic weight\n",
      "year            int     %8.0g                 survey year\n",
      "month           byte    %9.0g      month      month\n",
      "age             byte    %8.0g                 age\n",
      "female          byte    %9.0g      female     whether remale\n",
      "race            byte    %17.0g     race       race\n",
      "hispanic        byte    %14.0g     hispanic   hispanic origin\n",
      "married         byte    %23.0g     married    married with spouse present\n",
      "veteran         byte    %10.0g     veteran    veteran status\n",
      "region          byte    %18.0g     region     census division, 1-9\n",
      "state           byte    %71.0g     state      state (census code)\n",
      "metro           byte    %27.0g     metro      metropolitan central city status\n",
      "size            byte    %33.0g     size       size of metro area\n",
      "grade           float   %9.0g               * highest grade completed\n",
      "empstat         byte    %12.0g     empstat    employment status\n",
      "class           byte    %20.0g     class      employment class: self, private, public\n",
      "hours           int     %8.0g                 hours worked last week\n",
      "                                            * indicated variables have notes\n",
      "---------------------------------------------------------------------------------------------------------------------------------------------------------------------------------------------------------------------------------------------------------------\n",
      "Sorted by: year  month\n"
     ]
    }
   ],
   "source": [
    "describe"
   ]
  },
  {
   "cell_type": "code",
   "execution_count": 4,
   "metadata": {},
   "outputs": [
    {
     "name": "stdout",
     "output_type": "stream",
     "text": [
      "\n",
      "     +----------------------+\n",
      "     | age   female    race |\n",
      "     |----------------------|\n",
      "  1. |  17      Man   White |\n",
      "  2. |  54      Man   White |\n",
      "  3. |  17    Woman   White |\n",
      "  4. |  75      Man   Black |\n",
      "  5. |  47      Man   White |\n",
      "     +----------------------+\n"
     ]
    }
   ],
   "source": [
    "list age female race in 1/5"
   ]
  },
  {
   "cell_type": "markdown",
   "metadata": {},
   "source": [
    "## B. Examine the Weights. \n",
    "The weighting variable pweight applies to all observations in the\n",
    "basic monthly survey. For a particular worker, what does the value of pweight represent?\n",
    "Compute and interpret the sum of the weights by year."
   ]
  },
  {
   "cell_type": "markdown",
   "metadata": {},
   "source": [
    "## C. Collapse the Data to Annual Averages. \n",
    "Weight the averages by pweight. Compute the\n",
    "weighted mean of (a) continuous and binary variables (e.g., age, hours, and female) and\n",
    "(b) dummy variables that you generate from categorical variables (e.g., black and asian\n",
    "from race). Your data set of annual averages should also include a weighting variable that\n",
    "equals the sum of each year’s weights."
   ]
  },
  {
   "cell_type": "markdown",
   "metadata": {},
   "source": [
    "## D. Analyze the Annual Averages. \n",
    "Plot (a) participation and employment rates since 1976 in\n",
    "one graph and average hours in another graph; (b) plot the participation and employment\n",
    "rates by sex in one graph and average hours by sex in another graph; (c) plot the employment\n",
    "rate by race in one graph and average hours by race in another graph; and (d)\n",
    "plot the employment rate by a schooling variable in one graph and average hours by the\n",
    "same schooling variable in another graph. The schooling variable classifies workers into\n",
    "three groups: high school graduate, college graduate, and graduate school; you can drop\n",
    "observations with grade<12 or 12<grade<16."
   ]
  },
  {
   "cell_type": "code",
   "execution_count": null,
   "metadata": {},
   "outputs": [],
   "source": []
  }
 ],
 "metadata": {
  "kernelspec": {
   "display_name": "Stata",
   "language": "stata",
   "name": "stata"
  },
  "language_info": {
   "file_extension": ".do",
   "mimetype": "text/x-stata",
   "name": "stata"
  }
 },
 "nbformat": 4,
 "nbformat_minor": 2
}
