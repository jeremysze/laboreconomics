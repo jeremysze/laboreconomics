{
 "cells": [
  {
   "cell_type": "code",
   "execution_count": 1,
   "metadata": {},
   "outputs": [],
   "source": [
    "/****************************************************************************\n",
    "* File name: empirical_exercise6.do\n",
    "* Author(s): Sze, J.\n",
    "* Date: 3/13/2019\n",
    "* Description: \n",
    "* Answers to empirical exercise 6 for Labor Economics\n",
    "*\n",
    "* Inputs: \n",
    "* input_data\\state-dems-s-4.dta\n",
    "* input_data\\stateicp-aved-nofarm-4.dta\n",
    "* input_data\\WWW Table 9, Women.dta\n",
    "* \n",
    "* Outputs:\n",
    "* \n",
    "***************************************************************************/"
   ]
  },
  {
   "cell_type": "markdown",
   "metadata": {},
   "source": [
    "This week’s exercise uses the 12,000 outgoing-rotation-group observations (1,000 observations\n",
    "per month) in the Small CPS, 2018.dta extract.\n",
    "The earnings weight (weight) should weight all your regression estimates, including the estimates\n",
    "on grouped data. Also produce heteroskedasticity-robust standard errors."
   ]
  },
  {
   "cell_type": "code",
   "execution_count": 3,
   "metadata": {},
   "outputs": [
    {
     "name": "stdout",
     "output_type": "stream",
     "text": [
      "(1000 Obs./Month Extract of the CPS Merged-Outgoing-Rotation-Group Files, 2018)\n"
     ]
    }
   ],
   "source": [
    "use \"..\\input_data\\Small CPS, 2018.dta\",clear"
   ]
  },
  {
   "cell_type": "code",
   "execution_count": 4,
   "metadata": {},
   "outputs": [
    {
     "name": "stdout",
     "output_type": "stream",
     "text": [
      "\n",
      "Contains data from ..\\input_data\\Small CPS, 2018.dta\n",
      "  obs:        11,000                          1000 Obs./Month Extract of the CPS Merged-Outgoing-Rotation-Group Files, 2018\n",
      " vars:            22                          17 Jan 2019 14:16\n",
      " size:       484,000                          \n",
      "---------------------------------------------------------------------------------------------------------------------------------------------------------------------------------------------------------------------------------------------------------------\n",
      "              storage   display    value\n",
      "variable name   type    format     label      variable label\n",
      "---------------------------------------------------------------------------------------------------------------------------------------------------------------------------------------------------------------------------------------------------------------\n",
      "idcode          int     %9.0g               * ID Code\n",
      "weight          double  %7.1f                 earnings weight\n",
      "month           byte    %9.0g      month      month\n",
      "rotation        byte    %8.0g      rotation   month in sample, household level\n",
      "age             byte    %8.0g                 age\n",
      "female          byte    %9.0g      female     Whether Female\n",
      "race            byte    %17.0g     race       race\n",
      "hispanic        byte    %14.0g     hispanic   hispanic origin\n",
      "married         byte    %23.0g     married    married with spouse present\n",
      "veteran         byte    %10.0g     veteran    veteran status\n",
      "region          byte    %18.0g     region     Census Division, 1-9\n",
      "state           byte    %71.0g     state      state (census code)\n",
      "metro           byte    %27.0g     metro      metropolitan central city status\n",
      "size            byte    %33.0g     size       size of metro area\n",
      "grade           float   %9.0g               * highest grade completed\n",
      "occupation      byte    %55.0g     occup      2-Digit Occupation\n",
      "public          byte    %14.0g     public     Whether in Public Sector\n",
      "union           byte    %12.0g     un_mem     union member\n",
      "hours           int     %8.0g                 hours worked last week\n",
      "wage            double  %7.2fc              * weekly earnings\n",
      "rwage           float   %7.2fc              * Weekly Wages, 2018$\n",
      "topcode         byte    %12.0g     topcode    Whether Topcoded Wages\n",
      "                                            * indicated variables have notes\n",
      "---------------------------------------------------------------------------------------------------------------------------------------------------------------------------------------------------------------------------------------------------------------\n",
      "Sorted by: month  idcode\n"
     ]
    }
   ],
   "source": [
    "describe"
   ]
  },
  {
   "cell_type": "code",
   "execution_count": 5,
   "metadata": {},
   "outputs": [
    {
     "name": "stdout",
     "output_type": "stream",
     "text": [
      "\n",
      "    Variable |        Obs        Mean    Std. Dev.       Min        Max\n",
      "-------------+---------------------------------------------------------\n",
      "      idcode |     11,000      5500.5    3175.571          1      11000\n",
      "      weight |     11,000    10291.23    5648.688          0   40165.67\n",
      "       month |     11,000           6    3.162421          1         11\n",
      "    rotation |     11,000    6.039273    1.999705          4          8\n",
      "         age |     11,000    42.17064    14.16193         15         85\n",
      "-------------+---------------------------------------------------------\n",
      "      female |     11,000    .4868182    .4998489          0          1\n",
      "        race |     11,000    1.357091    .8956536          1          5\n",
      "    hispanic |     11,000        .186    .5017873          0          2\n",
      "     married |     11,000        .537    .4986518          0          1\n",
      "     veteran |     10,940     .056947    .2317519          0          1\n",
      "-------------+---------------------------------------------------------\n",
      "      region |     11,000    5.371727    2.525459          1          9\n",
      "       state |     11,000    57.37573    25.46453         11         95\n",
      "       metro |     10,879     2.55961    .9649632          1          4\n",
      "        size |     11,000    2.999455    2.228268          0          6\n",
      "       grade |     11,000    14.06335    2.587592        1.4         18\n",
      "-------------+---------------------------------------------------------\n",
      "  occupation |     11,000    26.26291    18.55852          1         58\n",
      "      public |     11,000    .1677273    .3736409          0          1\n",
      "       union |     11,000    .1079091    .3102797          0          1\n",
      "       hours |     11,000    38.82655    12.47091          1        111\n",
      "        wage |     11,000    1063.328    932.9147         20       4326\n",
      "-------------+---------------------------------------------------------\n",
      "       rwage |     11,000     1063.44    933.0915   19.92612   4382.547\n",
      "     topcode |     11,000    .0497273    .2173908          0          1\n"
     ]
    }
   ],
   "source": [
    "summarize"
   ]
  },
  {
   "cell_type": "markdown",
   "metadata": {},
   "source": [
    "## A. Individual Data. \n",
    "Regress the log of weekly wages (i.e, log wages) on grade, highest\n",
    "graded completed. Then regress log wages on the workweek (hours) and grade. Then\n",
    "add dummy variables for occupation (i.occupation), city size (i.size), and state (i.state).\n",
    "Test for the joint significance of each set of dummy variables. Describe how the estimated\n",
    "effect of schooling on wages varies across these specifications, and interpret the patterns."
   ]
  },
  {
   "cell_type": "code",
   "execution_count": 6,
   "metadata": {},
   "outputs": [],
   "source": [
    "gen lnwage = log(wage)"
   ]
  },
  {
   "cell_type": "code",
   "execution_count": 7,
   "metadata": {},
   "outputs": [
    {
     "name": "stdout",
     "output_type": "stream",
     "text": [
      "(sum of wgt is 113,203,559.8744)\n",
      "\n",
      "Linear regression                               Number of obs     =     10,984\n",
      "                                                F(1, 10982)       =    1439.62\n",
      "                                                Prob > F          =     0.0000\n",
      "                                                R-squared         =     0.1771\n",
      "                                                Root MSE          =     .73729\n",
      "\n",
      "------------------------------------------------------------------------------\n",
      "             |               Robust\n",
      "      lnwage |      Coef.   Std. Err.      t    P>|t|     [95% Conf. Interval]\n",
      "-------------+----------------------------------------------------------------\n",
      "       grade |   .1312027   .0034579    37.94   0.000     .1244245    .1379809\n",
      "       _cons |   4.818689   .0495933    97.16   0.000     4.721478    4.915901\n",
      "------------------------------------------------------------------------------\n"
     ]
    }
   ],
   "source": [
    "regress lnwage grade [aw = weight], robust"
   ]
  },
  {
   "cell_type": "code",
   "execution_count": 8,
   "metadata": {},
   "outputs": [
    {
     "name": "stdout",
     "output_type": "stream",
     "text": [
      "\n",
      " ( 1)  grade = 0\n",
      "\n",
      "       F(  1, 10982) = 1439.62\n",
      "            Prob > F =    0.0000\n"
     ]
    }
   ],
   "source": [
    "test grade = 0"
   ]
  },
  {
   "cell_type": "code",
   "execution_count": 9,
   "metadata": {},
   "outputs": [
    {
     "name": "stdout",
     "output_type": "stream",
     "text": [
      "(sum of wgt is 113,203,559.8744)\n",
      "\n",
      "Linear regression                               Number of obs     =     10,984\n",
      "                                                F(2, 10981)       =    1851.14\n",
      "                                                Prob > F          =     0.0000\n",
      "                                                R-squared         =     0.4144\n",
      "                                                Root MSE          =     .62201\n",
      "\n",
      "------------------------------------------------------------------------------\n",
      "             |               Robust\n",
      "      lnwage |      Coef.   Std. Err.      t    P>|t|     [95% Conf. Interval]\n",
      "-------------+----------------------------------------------------------------\n",
      "       hours |   .0327563   .0007956    41.17   0.000     .0311967    .0343158\n",
      "       grade |   .1142533   .0029815    38.32   0.000     .1084091    .1200976\n",
      "       _cons |   3.780708    .048678    77.67   0.000     3.685291    3.876126\n",
      "------------------------------------------------------------------------------\n"
     ]
    }
   ],
   "source": [
    "regress lnwage hours grade [aw = weight], robust"
   ]
  },
  {
   "cell_type": "code",
   "execution_count": 10,
   "metadata": {},
   "outputs": [
    {
     "name": "stdout",
     "output_type": "stream",
     "text": [
      "\n",
      " ( 1)  hours - grade = 0\n",
      "\n",
      "       F(  1, 10981) =  650.25\n",
      "            Prob > F =    0.0000\n"
     ]
    }
   ],
   "source": [
    "test hours = grade"
   ]
  },
  {
   "cell_type": "code",
   "execution_count": 11,
   "metadata": {},
   "outputs": [
    {
     "name": "stdout",
     "output_type": "stream",
     "text": [
      "(sum of wgt is 113,203,559.8744)\n",
      "\n",
      "Linear regression                               Number of obs     =     10,984\n",
      "                                                F(115, 10868)     =      79.25\n",
      "                                                Prob > F          =     0.0000\n",
      "                                                R-squared         =     0.5388\n",
      "                                                Root MSE          =     .55486\n",
      "\n",
      "--------------------------------------------------------------------------------------------------------------------------\n",
      "                                                         |               Robust\n",
      "                                                  lnwage |      Coef.   Std. Err.      t    P>|t|     [95% Conf. Interval]\n",
      "---------------------------------------------------------+----------------------------------------------------------------\n",
      "                                                   hours |   .0278359   .0007639    36.44   0.000     .0263385    .0293332\n",
      "                                                   grade |   .0778099   .0032826    23.70   0.000     .0713754    .0842444\n",
      "                                                         |\n",
      "                                              occupation |\n",
      "                          Management-Related Occupation  |  -.1385288   .0360669    -3.84   0.000    -.2092264   -.0678311\n",
      "                   Engineers, Architects, and Surveyors  |   .1073762   .0448803     2.39   0.017     .0194026    .1953498\n",
      "                   Mathematical and Computer Scientists  |  -.0312434   .0485539    -0.64   0.520    -.1264179    .0639311\n",
      "                                     Natural Scientists  |  -.1284404   .0674174    -1.91   0.057    -.2605907      .00371\n",
      "                          Health Diagnosing Occupations  |   .0303397   .1111797     0.27   0.785    -.1875929    .2482722\n",
      "             Health Assessment and Treating Occupations  |  -.0366065   .0378812    -0.97   0.334    -.1108606    .0376475\n",
      "                                             Therapists  |  -.1217993    .060075    -2.03   0.043    -.2395572   -.0040413\n",
      "                                Teachers, Postsecondary  |  -.4102193   .0707767    -5.80   0.000    -.5489547    -.271484\n",
      "                                   Teachers, Pre-K - 12  |  -.5886418    .031204   -18.86   0.000    -.6498074   -.5274762\n",
      "                   Librarians, Archivists, and Curators  |  -.9289823   .1030137    -9.02   0.000    -1.130908   -.7270566\n",
      "                   Social Scientists and Urban Planners  |  -.0703567     .08587    -0.82   0.413    -.2386775    .0979642\n",
      "              Social, Recreation, and Religious Workers  |  -.6807537   .0551251   -12.35   0.000     -.788809   -.5726984\n",
      "                                     Lawyers and Judges  |   .2113178   .0718707     2.94   0.003     .0704381    .3521975\n",
      "           Writers, Artists, Entertainers, and Athletes  |  -.4616369   .0607491    -7.60   0.000    -.5807162   -.3425577\n",
      "                   Health Technologists and Technicians  |  -.3285545   .0507934    -6.47   0.000    -.4281189   -.2289901\n",
      "           Technologists and Technicians, Except Health  |  -.2942788   .0627628    -4.69   0.000    -.4173053   -.1712522\n",
      "                                    Science Technicians  |  -.3946848   .1659047    -2.38   0.017    -.7198883   -.0694814\n",
      "                                     Technicians, Other  |   .0708588   .0455133     1.56   0.120    -.0183555    .1600732\n",
      "                                      Sales Supervisors  |  -.2954711   .0425293    -6.95   0.000    -.3788363   -.2121059\n",
      "   Sales Representatives, Finance and Business Services  |  -.2482256   .0809945    -3.06   0.002    -.4069896   -.0894617\n",
      "       Sales Representatives, Commodities Except Retail  |   .5452696   .2379187     2.29   0.022     .0789055    1.011634\n",
      "            Sales Workers, Retail and Personal Services  |  -.6452327    .038103   -16.93   0.000    -.7199216   -.5705439\n",
      "                              Sales-Related Occupations  |  -.4364159   .8783076    -0.50   0.619    -2.158059    1.285227\n",
      "                       Administrate Support Supervisors  |  -.3640417   .0599903    -6.07   0.000    -.4816335   -.2464498\n",
      "                           Computer Equipment Operators  |  -.2469739    .222809    -1.11   0.268    -.6837202    .1897723\n",
      "                Secretaries, Stenographers, and Typists  |  -.4331549   .0390194   -11.10   0.000      -.50964   -.3566697\n",
      "                                     Information Clerks  |  -.6424697   .0428033   -15.01   0.000     -.726372   -.5585675\n",
      "       Records Processing Occupations, Except Financial  |  -.7858561    .085164    -9.23   0.000     -.952793   -.6189191\n",
      "               Financial Records Processing Occupations  |  -.4059898   .0471812    -8.60   0.000    -.4984736   -.3135059\n",
      "  Duplicating, Mail, and Other Office Machine Operators  |  -.0105707   .2359803    -0.04   0.964     -.473135    .4519936\n",
      "                     Communications Equipment Operators  |   .1231883   .3438645     0.36   0.720    -.5508488    .7972255\n",
      "              Mail and Message Distributing Occupations  |  -.5708626   .1031905    -5.53   0.000    -.7731348   -.3685904\n",
      "Material Recording, Scheduling, and Distributing Clerks  |  -.6282128   .0444939   -14.12   0.000     -.715429   -.5409966\n",
      "                            Adjusters and Investigators  |  -.5156151   .0426385   -12.09   0.000    -.5991944   -.4320358\n",
      "       Miscellaneous Administrative Support Occupations  |  -.6029244   .0515312   -11.70   0.000    -.7039351   -.5019138\n",
      "                          Private Household Occupations  |  -.7533721   .0767987    -9.81   0.000    -.9039115   -.6028326\n",
      "                         Protective Service Occupations  |  -.3738396   .0475882    -7.86   0.000    -.4671212    -.280558\n",
      "                               Food Service Occupations  |  -.8526419   .0329402   -25.88   0.000    -.9172107   -.7880731\n",
      "                             Health Service Occupations  |  -.8103292   .0364134   -22.25   0.000    -.8817061   -.7389522\n",
      "              Cleaning and Building Service Occupations  |   -.621344   .0445775   -13.94   0.000     -.708724    -.533964\n",
      "                           Personal Service Occupations  |  -.8679946   .0454594   -19.09   0.000    -.9571033   -.7788859\n",
      "                            Farm Operators and Managers  |  -.0382926   .2393721    -0.16   0.873    -.5075056    .4309204\n",
      "             Other Agricultural and Related Occupations  |  -.5855929   .0566073   -10.34   0.000    -.6965536   -.4746322\n",
      "                       Forestry and Logging Occupations  |  -.4768378   .1207102    -3.95   0.000    -.7134518   -.2402238\n",
      "                         Fishers, Hunters, and Trappers  |   .0213638   .1470376     0.15   0.884    -.2668567    .3095842\n",
      "                                Mechanics and Repairers  |  -.2729244   .0386019    -7.07   0.000    -.3485911   -.1972576\n",
      "                  Supervisors, Construction Occupations  |  -.0782841   .0931305    -0.84   0.401    -.2608368    .1042686\n",
      "                Construction Trades, Except Supervisors  |  -.2025768    .040582    -4.99   0.000    -.2821249   -.1230287\n",
      "                                 Extractive Occupations  |   .0120302   .1273864     0.09   0.925    -.2376702    .2617307\n",
      "                       Precision Production Occupations  |  -.4365122   .0423318   -10.31   0.000    -.5194903   -.3535342\n",
      "        Machine Operators and Tenders, Except Precision  |  -.3728387   .0429636    -8.68   0.000    -.4570553   -.2886222\n",
      "  Fabricators, Assemblers, and Hand Working Occupations  |  -.3111503   .0534778    -5.82   0.000    -.4159766    -.206324\n",
      " Production Inspectors, Testers, Samplers, and Weighers  |  -.3609645   .0835361    -4.32   0.000    -.5247106   -.1972185\n",
      "                                Motor Vehicle Operators  |  -.4729376    .038124   -12.41   0.000    -.5476676   -.3982076\n",
      "      Transportation Occupations, Except Motor Vehicles  |  -.1563357   .0630526    -2.48   0.013    -.2799302   -.0327411\n",
      "       Helpers, Construction and Extractive Occupations  |   -.363652   .0699927    -5.20   0.000    -.5008505   -.2264535\n",
      "                  Freight, Stock, and Material Handlers  |  -.6408244   .0408235   -15.70   0.000    -.7208459   -.5608029\n"
     ]
    },
    {
     "name": "stdout",
     "output_type": "stream",
     "text": [
      "                                                         |\n",
      "                                                    size |\n",
      "                                      100,000 - 249,999  |   .0010656   .0274631     0.04   0.969    -.0527671    .0548983\n",
      "                                      250,000 - 499,999  |   .0281638   .0261709     1.08   0.282    -.0231359    .0794635\n",
      "                                      500,000 - 999,999  |    .059082   .0218886     2.70   0.007     .0161762    .1019877\n",
      "                                  1,000,000 - 2,499,999  |   .1014217   .0214721     4.72   0.000     .0593324     .143511\n",
      "                                  2,500,000 - 4,999,999  |    .071497   .0250602     2.85   0.004     .0223745    .1206195\n",
      "                                      5,000,000 or more  |   .1349974   .0241937     5.58   0.000     .0875733    .1824215\n",
      "                                                         |\n",
      "                                                   state |\n",
      "                                          new hampshire  |  -.0147725   .0665994    -0.22   0.824    -.1453194    .1157744\n",
      "                                                vermont  |  -.1455373   .0601748    -2.42   0.016    -.2634909   -.0275836\n",
      "                                          massachusetts  |   .0560091   .0617775     0.91   0.365     -.065086    .1771043\n",
      "                                           rhode island  |  -.1507903   .0693069    -2.18   0.030    -.2866444   -.0149362\n",
      "                                            connecticut  |  -.1497137   .0702704    -2.13   0.033    -.2874565   -.0119709\n",
      "                                               new york  |  -.0602291    .058914    -1.02   0.307    -.1757112     .055253\n",
      "                                             new jersey  |  -.0198578   .0707592    -0.28   0.779    -.1585588    .1188432\n",
      "                                           pennsylvania  |  -.1675441   .0595665    -2.81   0.005    -.2843052   -.0507829\n",
      "                                                   ohio  |  -.1441411   .0611867    -2.36   0.019    -.2640782   -.0242039\n",
      "                                                indiana  |  -.1642767   .0623065    -2.64   0.008    -.2864088   -.0421446\n",
      "                                               illinois  |  -.1276972   .0635372    -2.01   0.044    -.2522418   -.0031526\n",
      "                                               michigan  |  -.1295779   .0599019    -2.16   0.031    -.2469966   -.0121592\n",
      "                                              wisconsin  |  -.1073322   .0593585    -1.81   0.071    -.2236857    .0090214\n",
      "                                              minnesota  |   .0314572   .0679561     0.46   0.643    -.1017493    .1646636\n",
      "                                                   iowa  |  -.1871572    .071958    -2.60   0.009     -.328208   -.0461063\n",
      "                                               missouri  |  -.1670411   .0628813    -2.66   0.008    -.2902999   -.0437823\n",
      "                                           north dakota  |  -.0992508   .0606648    -1.64   0.102    -.2181648    .0196632\n",
      "                                           south dakota  |  -.2152764   .0634423    -3.39   0.001    -.3396349    -.090918\n",
      "                                               nebraska  |  -.1555552   .0620649    -2.51   0.012    -.2772136   -.0338968\n",
      "                                                 kansas  |  -.1404622   .0666247    -2.11   0.035    -.2710587   -.0098656\n",
      "                                               delaware  |  -.1487788   .0690497    -2.15   0.031    -.2841288   -.0134289\n",
      "                                               maryland  |   .0203551   .0707561     0.29   0.774    -.1183397    .1590499\n",
      "                                   district of columbia  |   .0735154   .0662326     1.11   0.267    -.0563125    .2033433\n",
      "                                               virginia  |  -.0363393   .0639749    -0.57   0.570    -.1617418    .0890631\n",
      "                                          west virginia  |  -.2389311   .0625949    -3.82   0.000    -.3616284   -.1162337\n",
      "                                         north carolina  |  -.1583688    .063544    -2.49   0.013    -.2829267    -.033811\n",
      "                                         south carolina  |   -.181385   .0660129    -2.75   0.006    -.3107823   -.0519877\n",
      "                                                georgia  |  -.1372047   .0623416    -2.20   0.028    -.2594056   -.0150038\n",
      "                                                florida  |  -.1981093   .0591027    -3.35   0.001    -.3139613   -.0822572\n",
      "                                               kentucky  |  -.1907396   .0651013    -2.93   0.003      -.31835   -.0631291\n",
      "                                              tennessee  |  -.1429901   .0694481    -2.06   0.040     -.279121   -.0068592\n",
      "                                                alabama  |  -.2024255   .0641439    -3.16   0.002    -.3281592   -.0766918\n",
      "                                            mississippi  |   -.264298   .0604546    -4.37   0.000       -.3828   -.1457961\n",
      "                                               arkansas  |  -.2032376    .063865    -3.18   0.001    -.3284246   -.0780507\n",
      "                                              louisiana  |   -.132014   .0675729    -1.95   0.051    -.2644692    .0004412\n",
      "                                               oklahoma  |  -.1718718   .0657453    -2.61   0.009    -.3007445    -.042999\n",
      "                                                  texas  |  -.1480016   .0558031    -2.65   0.008    -.2573859   -.0386174\n",
      "                                                montana  |  -.1827963   .0633713    -2.88   0.004    -.3070157    -.058577\n",
      "                                                  idaho  |  -.1655904    .064077    -2.58   0.010    -.2911931   -.0399878\n",
      "                                                wyoming  |  -.1000526   .0633233    -1.58   0.114    -.2241778    .0240726\n",
      "                                               colorado  |  -.0434991   .0682622    -0.64   0.524    -.1773054    .0903073\n",
      "                                             new mexico  |  -.1292292   .0637377    -2.03   0.043    -.2541667   -.0042918\n",
      "                                                arizona  |  -.1226505   .0623252    -1.97   0.049    -.2448192   -.0004817\n",
      "                                                   utah  |  -.1700379    .063093    -2.70   0.007    -.2937116   -.0463642\n",
      "                                                 nevada  |  -.0456925   .0677704    -0.67   0.500    -.1785348    .0871499\n",
      "                                             washington  |   .0857705   .0642323     1.34   0.182    -.0401365    .2116775\n",
      "                                                 oregon  |  -.1114364   .0617546    -1.80   0.071    -.2324866    .0096139\n",
      "                                             california  |   .0007511   .0540143     0.01   0.989    -.1051268    .1066291\n",
      "                                                 alaska  |   .0530583   .0727508     0.73   0.466    -.0895465     .195663\n",
      "                                                 hawaii  |  -.0166754   .0709049    -0.24   0.814     -.155662    .1223112\n",
      "                                                         |\n",
      "                                                   _cons |   4.900372   .0795273    61.62   0.000     4.744484     5.05626\n",
      "--------------------------------------------------------------------------------------------------------------------------\n"
     ]
    }
   ],
   "source": [
    "regress lnwage hours grade i.occupation i.size i.state [aw = weight], robust"
   ]
  },
  {
   "cell_type": "code",
   "execution_count": 12,
   "metadata": {},
   "outputs": [
    {
     "name": "stdout",
     "output_type": "stream",
     "text": [
      "\n",
      " ( 1)  hours - grade = 0\n",
      "\n",
      "       F(  1, 10868) =  211.25\n",
      "            Prob > F =    0.0000\n"
     ]
    }
   ],
   "source": [
    "test hours = grade"
   ]
  },
  {
   "cell_type": "code",
   "execution_count": null,
   "metadata": {},
   "outputs": [],
   "source": []
  },
  {
   "cell_type": "code",
   "execution_count": null,
   "metadata": {},
   "outputs": [],
   "source": []
  },
  {
   "cell_type": "markdown",
   "metadata": {},
   "source": [
    "## B. Occupation Averages. \n",
    "Weighting the averages by the earnings weight (weight), collapse\n",
    "the data by occupation. (Carry along the sum of the weights by occupation, too.) On\n",
    "the occupation averages, regress log wages on the workweek and schooling. Compare\n",
    "your estimate of the effect of schooling on wages across occupations with those from the\n",
    "individual data."
   ]
  },
  {
   "cell_type": "code",
   "execution_count": null,
   "metadata": {},
   "outputs": [],
   "source": [
    "gen weight_occupation = 1"
   ]
  },
  {
   "cell_type": "code",
   "execution_count": null,
   "metadata": {},
   "outputs": [],
   "source": [
    "collapse (mean) wage hours grade female ///\n",
    "(sum) weight_occupation ///\n",
    "[pw = weight], by(occupation)"
   ]
  },
  {
   "cell_type": "code",
   "execution_count": null,
   "metadata": {},
   "outputs": [],
   "source": [
    "gen lnwage = log(wage)"
   ]
  },
  {
   "cell_type": "code",
   "execution_count": null,
   "metadata": {},
   "outputs": [],
   "source": [
    "regress lnwage hours grade [aw = weight_occupation], robust"
   ]
  },
  {
   "cell_type": "code",
   "execution_count": null,
   "metadata": {},
   "outputs": [],
   "source": []
  },
  {
   "cell_type": "code",
   "execution_count": null,
   "metadata": {},
   "outputs": [],
   "source": []
  },
  {
   "cell_type": "markdown",
   "metadata": {},
   "source": [
    "## C. State Averages. \n",
    "Weighting the averages by the earnings weight (weight), collapse the\n",
    "data by state. On the state averages, regress log wages on the workweek and schooling,\n",
    "and compare your estimates with those from the individual data."
   ]
  },
  {
   "cell_type": "code",
   "execution_count": null,
   "metadata": {},
   "outputs": [],
   "source": [
    "use \"..\\input_data\\Small CPS, 2018.dta\",clear"
   ]
  },
  {
   "cell_type": "code",
   "execution_count": null,
   "metadata": {},
   "outputs": [],
   "source": [
    "gen weight_state = 1"
   ]
  },
  {
   "cell_type": "code",
   "execution_count": null,
   "metadata": {},
   "outputs": [],
   "source": [
    "collapse (mean) wage hours grade female ///\n",
    "(sum) weight_state ///\n",
    "[pw = weight], by(state)"
   ]
  },
  {
   "cell_type": "code",
   "execution_count": null,
   "metadata": {},
   "outputs": [],
   "source": [
    "gen lnwage = log(wage)"
   ]
  },
  {
   "cell_type": "code",
   "execution_count": null,
   "metadata": {},
   "outputs": [],
   "source": [
    "regress lnwage hours grade [aw = weight_state], robust"
   ]
  },
  {
   "cell_type": "code",
   "execution_count": null,
   "metadata": {},
   "outputs": [],
   "source": []
  }
 ],
 "metadata": {
  "kernelspec": {
   "display_name": "Stata",
   "language": "stata",
   "name": "stata"
  },
  "language_info": {
   "file_extension": ".do",
   "mimetype": "text/x-stata",
   "name": "stata"
  }
 },
 "nbformat": 4,
 "nbformat_minor": 2
}
