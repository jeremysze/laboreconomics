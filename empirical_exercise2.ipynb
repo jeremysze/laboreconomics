{
 "cells": [
  {
   "cell_type": "code",
   "execution_count": 1,
   "metadata": {},
   "outputs": [],
   "source": [
    "/****************************************************************************\n",
    "* File name: empirical_exercise2.do\n",
    "* Author(s): Sze, J.\n",
    "* Date: 2/7/2019\n",
    "* Description: \n",
    "* Answers to empirical exercise 2 for Labor Economics\n",
    "*\n",
    "* Inputs: \n",
    "* ..\\input_data\\CPS Data for Minimum Wages, 1985-1996.dta\" \n",
    "* \n",
    "* Outputs:\n",
    "* \n",
    "***************************************************************************/"
   ]
  },
  {
   "cell_type": "markdown",
   "metadata": {},
   "source": [
    "This week’s exercise uses the CPS for Minimum Wages, 1985-1996.dta file, an extract of the\n",
    "basic monthly CPS files from April 1985 through March 1996. To analyze the effects of the federal\n",
    "government raising the minimum wage on April 1, 1990 and April 1, 1991, I’ve organized\n",
    "the data into minimum-wage years y; e.g., minimum-wage year 1990 contains data from April\n",
    "1990 through March 1991.\n",
    "The extract randomly draws 1,000 teens ages 15–17 per month and another 1,000 prime-age\n",
    "(ages 25–59) high-school graduates (grade>=12). These are the treatment (treatment==1)\n",
    "and control (treatment==0) groups. So the data set contains 264,000 observations."
   ]
  },
  {
   "cell_type": "code",
   "execution_count": 2,
   "metadata": {},
   "outputs": [
    {
     "name": "stdout",
     "output_type": "stream",
     "text": [
      "(CPS Basic Monthly Files with ORG Questions, Civilians Ages 15+, 1976-2018)\n"
     ]
    }
   ],
   "source": [
    "use \"..\\input_data\\CPS Data for Minimum Wages, 1985-1996.dta\",clear"
   ]
  },
  {
   "cell_type": "markdown",
   "metadata": {},
   "source": [
    "### A. Explore the Data\n",
    "Get a sense of the data by (a) describing the data set, (b) summarizing\n",
    "the data without and with the weighting variable pweight, and (c) tabulating (without\n",
    "weights) the categorical variables. Also, compute two or more cross-tabulations: y by\n",
    "treatment, and age by treatment.\n"
   ]
  },
  {
   "cell_type": "code",
   "execution_count": 3,
   "metadata": {},
   "outputs": [
    {
     "name": "stdout",
     "output_type": "stream",
     "text": [
      "\n",
      "Contains data from ..\\input_data\\CPS Data for Minimum Wages, 1985-1996.dta\n",
      "  obs:       264,000                          CPS Basic Monthly Files with ORG Questions, Civilians Ages 15+, 1976-2018\n",
      " vars:             7                          31 Jan 2019 15:44\n",
      " size:     3,960,000                          \n",
      "---------------------------------------------------------------------------------------------------------------------------------------------------------------------------------------------------------------------------------------------------------------\n",
      "              storage   display    value\n",
      "variable name   type    format     label      variable label\n",
      "---------------------------------------------------------------------------------------------------------------------------------------------------------------------------------------------------------------------------------------------------------------\n",
      "y               int     %9.0g                 minimum-wage year\n",
      "state           byte    %71.0g     state      state (census code)\n",
      "age             byte    %8.0g                 age\n",
      "grade           byte    %9.0g                 highest grade completed\n",
      "employed        byte    %9.0g                 whether employed\n",
      "treatment       byte    %9.0g                 1 = ages 15-17\n",
      "pweight         double  %12.0g                final basic weight\n",
      "---------------------------------------------------------------------------------------------------------------------------------------------------------------------------------------------------------------------------------------------------------------\n",
      "Sorted by: \n"
     ]
    }
   ],
   "source": [
    "describe"
   ]
  },
  {
   "cell_type": "code",
   "execution_count": 4,
   "metadata": {},
   "outputs": [
    {
     "name": "stdout",
     "output_type": "stream",
     "text": [
      "\n",
      "    Variable |        Obs        Mean    Std. Dev.       Min        Max\n",
      "-------------+---------------------------------------------------------\n",
      "           y |    264,000        1990    3.162284       1985       1995\n",
      "       state |    264,000    53.33822    20.34394         21         88\n",
      "         age |    264,000    27.72137    13.50689         15         59\n",
      "       grade |    132,000    13.73956    2.169027         12         19\n",
      "    employed |    264,000    .4858864    .4998017          0          1\n",
      "-------------+---------------------------------------------------------\n",
      "   treatment |    264,000          .5    .5000009          0          1\n",
      "     pweight |    264,000     1742.25    887.3657    36.9305   14570.57\n"
     ]
    }
   ],
   "source": [
    "sum"
   ]
  },
  {
   "cell_type": "code",
   "execution_count": 5,
   "metadata": {},
   "outputs": [
    {
     "name": "stdout",
     "output_type": "stream",
     "text": [
      "\n",
      "    Variable |     Obs      Weight        Mean   Std. Dev.       Min        Max\n",
      "-------------+-----------------------------------------------------------------\n",
      "           y | 264,000   459953912    1990.211   3.175089       1985       1995\n",
      "       state | 264,000   459953912    52.13347   19.61022         21         88\n",
      "         age | 264,000   459953912    27.73459   13.42176         15         59\n",
      "       grade | 132,000   232325692    13.74793    2.17027         12         19\n",
      "    employed | 264,000   459953912    .4852559   .4997835          0          1\n",
      "-------------+-----------------------------------------------------------------\n",
      "   treatment | 264,000   459953912    .4948935   .4999749          0          1\n",
      "     pweight | 264,000   459953912    2194.203   1039.841    36.9305   14570.57\n"
     ]
    }
   ],
   "source": [
    "sum [aweight = pweight]"
   ]
  },
  {
   "cell_type": "code",
   "execution_count": 6,
   "metadata": {},
   "outputs": [
    {
     "name": "stdout",
     "output_type": "stream",
     "text": [
      "\n",
      "                    state (census code) |      Freq.     Percent        Cum.\n",
      "----------------------------------------+-----------------------------------\n",
      "                               new york |     26,915       10.20       10.20\n",
      "                                   ohio |     18,389        6.97       17.16\n",
      "                                indiana |      5,205        1.97       19.13\n",
      "                               illinois |     17,199        6.51       25.65\n",
      "                               michigan |     18,072        6.85       32.49\n",
      "                               missouri |      4,844        1.83       34.33\n",
      "                           south dakota |      6,150        2.33       36.66\n",
      "                               nebraska |      5,419        2.05       38.71\n",
      "                                 kansas |      5,112        1.94       40.65\n",
      "                               delaware |      3,723        1.41       42.06\n",
      "                               maryland |      4,534        1.72       43.77\n",
      "                               virginia |      6,433        2.44       46.21\n",
      "                          west virginia |      4,837        1.83       48.04\n",
      "                         north carolina |     16,017        6.07       54.11\n",
      "                         south carolina |      5,510        2.09       56.20\n",
      "                                georgia |      5,117        1.94       58.13\n",
      "                                florida |     16,735        6.34       64.47\n",
      "                               kentucky |      4,743        1.80       66.27\n",
      "                              tennessee |      4,839        1.83       68.10\n",
      "                                alabama |      5,017        1.90       70.00\n",
      "                            mississippi |      5,712        2.16       72.17\n",
      "                               arkansas |      5,150        1.95       74.12\n",
      "                              louisiana |      4,548        1.72       75.84\n",
      "                               oklahoma |      5,287        2.00       77.84\n",
      "                                  texas |     18,913        7.16       85.01\n",
      "                                montana |      5,873        2.22       87.23\n",
      "                                  idaho |      5,603        2.12       89.35\n",
      "                                wyoming |      4,188        1.59       90.94\n",
      "                               colorado |      4,718        1.79       92.73\n",
      "                             new mexico |      5,131        1.94       94.67\n",
      "                                arizona |      4,205        1.59       96.26\n",
      "                                   utah |      5,666        2.15       98.41\n",
      "                                 nevada |      4,196        1.59      100.00\n",
      "----------------------------------------+-----------------------------------\n",
      "                                  Total |    264,000      100.00\n"
     ]
    }
   ],
   "source": [
    "tab state"
   ]
  },
  {
   "cell_type": "code",
   "execution_count": 7,
   "metadata": {},
   "outputs": [
    {
     "name": "stdout",
     "output_type": "stream",
     "text": [
      "\n",
      "    highest |\n",
      "      grade |\n",
      "  completed |      Freq.     Percent        Cum.\n",
      "------------+-----------------------------------\n",
      "         12 |     62,155       47.09       47.09\n",
      "         13 |     17,568       13.31       60.40\n",
      "         14 |     13,531       10.25       70.65\n",
      "         15 |      3,207        2.43       73.08\n",
      "         16 |     22,119       16.76       89.83\n",
      "         18 |      7,045        5.34       95.17\n",
      "         19 |      6,375        4.83      100.00\n",
      "------------+-----------------------------------\n",
      "      Total |    132,000      100.00\n"
     ]
    }
   ],
   "source": [
    "tab grade"
   ]
  },
  {
   "cell_type": "code",
   "execution_count": 8,
   "metadata": {},
   "outputs": [
    {
     "name": "stdout",
     "output_type": "stream",
     "text": [
      "\n",
      "    whether |\n",
      "   employed |      Freq.     Percent        Cum.\n",
      "------------+-----------------------------------\n",
      "          0 |    135,726       51.41       51.41\n",
      "          1 |    128,274       48.59      100.00\n",
      "------------+-----------------------------------\n",
      "      Total |    264,000      100.00\n"
     ]
    }
   ],
   "source": [
    "tab employed"
   ]
  },
  {
   "cell_type": "code",
   "execution_count": 9,
   "metadata": {},
   "outputs": [
    {
     "name": "stdout",
     "output_type": "stream",
     "text": [
      "\n",
      "   1 = ages |\n",
      "      15-17 |      Freq.     Percent        Cum.\n",
      "------------+-----------------------------------\n",
      "          0 |    132,000       50.00       50.00\n",
      "          1 |    132,000       50.00      100.00\n",
      "------------+-----------------------------------\n",
      "      Total |    264,000      100.00\n"
     ]
    }
   ],
   "source": [
    "tab treatment"
   ]
  },
  {
   "cell_type": "markdown",
   "metadata": {},
   "source": [
    "#### Cross tabs"
   ]
  },
  {
   "cell_type": "code",
   "execution_count": 10,
   "metadata": {},
   "outputs": [
    {
     "name": "stdout",
     "output_type": "stream",
     "text": [
      "\n",
      "minimum-wa |    1 = ages 15-17\n",
      "   ge year |         0          1 |     Total\n",
      "-----------+----------------------+----------\n",
      "      1985 |    12,000     12,000 |    24,000 \n",
      "      1986 |    12,000     12,000 |    24,000 \n",
      "      1987 |    12,000     12,000 |    24,000 \n",
      "      1988 |    12,000     12,000 |    24,000 \n",
      "      1989 |    12,000     12,000 |    24,000 \n",
      "      1990 |    12,000     12,000 |    24,000 \n",
      "      1991 |    12,000     12,000 |    24,000 \n",
      "      1992 |    12,000     12,000 |    24,000 \n",
      "      1993 |    12,000     12,000 |    24,000 \n",
      "      1994 |    12,000     12,000 |    24,000 \n",
      "      1995 |    12,000     12,000 |    24,000 \n",
      "-----------+----------------------+----------\n",
      "     Total |   132,000    132,000 |   264,000 \n"
     ]
    }
   ],
   "source": [
    "tab y treatment"
   ]
  },
  {
   "cell_type": "code",
   "execution_count": 11,
   "metadata": {},
   "outputs": [
    {
     "name": "stdout",
     "output_type": "stream",
     "text": [
      "\n",
      "           |    1 = ages 15-17\n",
      "       age |         0          1 |     Total\n",
      "-----------+----------------------+----------\n",
      "        15 |         0     44,218 |    44,218 \n",
      "        16 |         0     44,305 |    44,305 \n",
      "        17 |         0     43,477 |    43,477 \n",
      "        25 |     4,446          0 |     4,446 \n",
      "        26 |     4,441          0 |     4,441 \n",
      "        27 |     4,539          0 |     4,539 \n",
      "        28 |     4,652          0 |     4,652 \n",
      "        29 |     4,920          0 |     4,920 \n",
      "        30 |     4,923          0 |     4,923 \n",
      "        31 |     4,914          0 |     4,914 \n",
      "        32 |     5,018          0 |     5,018 \n",
      "        33 |     5,022          0 |     5,022 \n",
      "        34 |     4,850          0 |     4,850 \n",
      "        35 |     5,010          0 |     5,010 \n",
      "        36 |     4,651          0 |     4,651 \n",
      "        37 |     4,624          0 |     4,624 \n",
      "        38 |     4,678          0 |     4,678 \n",
      "        39 |     4,593          0 |     4,593 \n",
      "        40 |     4,513          0 |     4,513 \n",
      "        41 |     4,162          0 |     4,162 \n",
      "        42 |     4,005          0 |     4,005 \n",
      "        43 |     3,907          0 |     3,907 \n",
      "        44 |     3,722          0 |     3,722 \n",
      "        45 |     3,617          0 |     3,617 \n",
      "        46 |     3,410          0 |     3,410 \n",
      "        47 |     3,361          0 |     3,361 \n",
      "        48 |     3,142          0 |     3,142 \n",
      "        49 |     2,785          0 |     2,785 \n",
      "        50 |     2,861          0 |     2,861 \n",
      "        51 |     2,607          0 |     2,607 \n",
      "        52 |     2,591          0 |     2,591 \n",
      "        53 |     2,496          0 |     2,496 \n",
      "        54 |     2,429          0 |     2,429 \n",
      "        55 |     2,268          0 |     2,268 \n",
      "        56 |     2,257          0 |     2,257 \n",
      "        57 |     2,319          0 |     2,319 \n",
      "        58 |     2,188          0 |     2,188 \n",
      "        59 |     2,079          0 |     2,079 \n",
      "-----------+----------------------+----------\n",
      "     Total |   132,000    132,000 |   264,000 \n"
     ]
    }
   ],
   "source": [
    "tab age treatment"
   ]
  },
  {
   "cell_type": "code",
   "execution_count": 12,
   "metadata": {},
   "outputs": [
    {
     "name": "stdout",
     "output_type": "stream",
     "text": [
      "\n",
      "   highest |\n",
      "     grade |    1 = ages 15-17\n",
      " completed |         0          1 |     Total\n",
      "-----------+----------------------+----------\n",
      "        12 |    62,155          0 |    62,155 \n",
      "        13 |    17,568          0 |    17,568 \n",
      "        14 |    13,531          0 |    13,531 \n",
      "        15 |     3,207          0 |     3,207 \n",
      "        16 |    22,119          0 |    22,119 \n",
      "        18 |     7,045          0 |     7,045 \n",
      "        19 |     6,375          0 |     6,375 \n",
      "         . |         0    132,000 |   132,000 \n",
      "-----------+----------------------+----------\n",
      "     Total |   132,000    132,000 |   264,000 \n"
     ]
    }
   ],
   "source": [
    "tab grade treatment,m"
   ]
  },
  {
   "cell_type": "markdown",
   "metadata": {},
   "source": [
    "### B. Collapse the Data to Annual Averages by treatment\n",
    "Weight the averages by pweight.\n",
    "Organize the data set of annual averages so that you have 11 annual observations with one\n",
    "employment-rate variable for teens and another employment-rate variable for the control\n",
    "group. List the data and note how the two employment rates change from minimum-wage\n",
    "years 1989 to 1990."
   ]
  },
  {
   "cell_type": "code",
   "execution_count": 13,
   "metadata": {},
   "outputs": [
    {
     "name": "stdout",
     "output_type": "stream",
     "text": [
      "\n",
      "(132,000 missing values generated)\n",
      "\n",
      "(132,000 missing values generated)\n",
      "\n"
     ]
    }
   ],
   "source": [
    "gen employed_treat = employed if treatment == 1\n",
    "gen employed_contr = employed if treatment == 0\n",
    "gen min_wage_event = (y == 1990 | y == 1991)"
   ]
  },
  {
   "cell_type": "code",
   "execution_count": 14,
   "metadata": {},
   "outputs": [
    {
     "name": "stdout",
     "output_type": "stream",
     "text": [
      "\n",
      "\n",
      "\n",
      "(35,477 real changes made)\n",
      "\n",
      "\n",
      "(92,797 real changes made)\n",
      "\n",
      "\n",
      "\n",
      "     +---------------------------------------+\n",
      "     |    y   treatm~t   employ~t   employ~l |\n",
      "     |---------------------------------------|\n",
      "  1. | 1985          0          0   .6984654 |\n",
      "  2. | 1986          0          0   .7031918 |\n",
      "  3. | 1987          0          0   .7066553 |\n",
      "  4. | 1988          0          0   .7080536 |\n",
      "  5. | 1989          0          0   .7201802 |\n",
      "     |---------------------------------------|\n",
      "  6. | 1990          0          0   .7151867 |\n",
      "  7. | 1991          0          0   .7023749 |\n",
      "  8. | 1992          0          0   .7111657 |\n",
      "  9. | 1993          0          0   .7139348 |\n",
      " 10. | 1994          0          0    .716226 |\n",
      "     |---------------------------------------|\n",
      " 11. | 1995          0          0   .7204854 |\n",
      " 12. | 1985          1   .2558151          0 |\n",
      " 13. | 1986          1   .2685669          0 |\n",
      " 14. | 1987          1    .277887          0 |\n",
      " 15. | 1988          1   .2761755          0 |\n",
      "     |---------------------------------------|\n",
      " 16. | 1989          1   .2866358          0 |\n",
      " 17. | 1990          1   .2531398          0 |\n",
      " 18. | 1991          1   .2290563          0 |\n",
      " 19. | 1992          1   .2260761          0 |\n",
      " 20. | 1993          1   .2342557          0 |\n",
      "     |---------------------------------------|\n",
      " 21. | 1994          1   .2496179          0 |\n",
      " 22. | 1995          1   .2544753          0 |\n",
      "     +---------------------------------------+\n",
      "\n"
     ]
    }
   ],
   "source": [
    "preserve\n",
    "// Kateleen's code\n",
    "gen employ_treat=0\n",
    "replace employ_treat=1 if treatment==1 & employed==1\n",
    "\n",
    "gen employ_control=0\n",
    "replace employ_control=1 if treatment==0 & employed==1\n",
    "\n",
    "collapse (mean) employ_treat employ_control [pweight=pweight], by(treatment y)\n",
    "list\n",
    "restore"
   ]
  },
  {
   "cell_type": "code",
   "execution_count": 15,
   "metadata": {},
   "outputs": [
    {
     "name": "stdout",
     "output_type": "stream",
     "text": [
      "\n",
      "\n",
      "\n",
      "     +---------------------------------------+\n",
      "     |    y   employ~t   employ~r   min_wa~t |\n",
      "     |---------------------------------------|\n",
      "  1. | 1985   .2558151   .6984654          0 |\n",
      "  2. | 1986   .2685669   .7031918          0 |\n",
      "  3. | 1987    .277887   .7066553          0 |\n",
      "  4. | 1988   .2761755   .7080536          0 |\n",
      "  5. | 1989   .2866358   .7201802          0 |\n",
      "     |---------------------------------------|\n",
      "  6. | 1990   .2531398   .7151867          1 |\n",
      "  7. | 1991   .2290563   .7023749          1 |\n",
      "  8. | 1992   .2260761   .7111657          0 |\n",
      "  9. | 1993   .2342557   .7139348          0 |\n",
      " 10. | 1994   .2496179    .716226          0 |\n",
      "     |---------------------------------------|\n",
      " 11. | 1995   .2544753   .7204854          0 |\n",
      "     +---------------------------------------+\n"
     ]
    }
   ],
   "source": [
    "collapse (mean) *_treat *_contr min_wage_event [pweight = pweight], by(y)\n",
    "list"
   ]
  },
  {
   "cell_type": "markdown",
   "metadata": {},
   "source": [
    "### C. Analyze the Annual Averages\n",
    "\n",
    "Regress the employment rate of teens on the employment\n",
    "rate of the control group with one or more dummy variables identifying the two minimumwage\n",
    "events. Use the vce{robust} option to generate heteroscedastic-robust standard\n",
    "errors. Are the employment effects statistically significant? Do they grow or shrink in the\n",
    "wake of the hikes? Are the estimates sensitive to including a linear time trend?"
   ]
  },
  {
   "cell_type": "code",
   "execution_count": 16,
   "metadata": {},
   "outputs": [],
   "source": [
    "gen min_wage_90 = y==1990\n",
    "gen min_wage_91= y==1991"
   ]
  },
  {
   "cell_type": "code",
   "execution_count": 17,
   "metadata": {},
   "outputs": [
    {
     "name": "stdout",
     "output_type": "stream",
     "text": [
      "\n",
      "Linear regression                               Number of obs     =         11\n",
      "                                                F(1, 7)           =          .\n",
      "                                                Prob > F          =          .\n",
      "                                                R-squared         =     0.1988\n",
      "                                                Root MSE          =     .02173\n",
      "\n",
      "--------------------------------------------------------------------------------\n",
      "               |               Robust\n",
      "employed_treat |      Coef.   Std. Err.      t    P>|t|     [95% Conf. Interval]\n",
      "---------------+----------------------------------------------------------------\n",
      "employed_contr |  -.1840121   .8664559    -0.21   0.838    -2.232855     1.86483\n",
      "   min_wage_90 |  -.0049106   .0100849    -0.49   0.641    -.0287575    .0189364\n",
      "   min_wage_91 |  -.0313516   .0084235    -3.72   0.007      -.05127   -.0114333\n",
      "         _cons |   .3896534    .612786     0.64   0.545    -1.059355    1.838662\n",
      "--------------------------------------------------------------------------------\n"
     ]
    }
   ],
   "source": [
    "regress employed_treat employed_contr min_wage_90 min_wage_91 , robust"
   ]
  },
  {
   "cell_type": "markdown",
   "metadata": {},
   "source": [
    "It appears that the minimum wage event in 1990 is not significant, but the second minimum wage event in 1991 was significant."
   ]
  },
  {
   "cell_type": "code",
   "execution_count": 18,
   "metadata": {},
   "outputs": [
    {
     "name": "stdout",
     "output_type": "stream",
     "text": [
      "\n",
      "Linear regression                               Number of obs     =         11\n",
      "                                                F(2, 6)           =          .\n",
      "                                                Prob > F          =          .\n",
      "                                                R-squared         =     0.8208\n",
      "                                                Root MSE          =      .0111\n",
      "\n",
      "--------------------------------------------------------------------------------\n",
      "               |               Robust\n",
      "employed_treat |      Coef.   Std. Err.      t    P>|t|     [95% Conf. Interval]\n",
      "---------------+----------------------------------------------------------------\n",
      "employed_contr |   3.125598   .9617944     3.25   0.017     .7721716    5.479024\n",
      "   min_wage_90 |  -.0180772   .0054174    -3.34   0.016    -.0313331   -.0048212\n",
      "   min_wage_91 |   .0062159   .0116229     0.53   0.612    -.0222244    .0346561\n",
      "             y |  -.0083321   .0021206    -3.93   0.008    -.0135211   -.0031431\n",
      "         _cons |   14.61671   3.620648     4.04   0.007       5.7573    23.47611\n",
      "--------------------------------------------------------------------------------\n"
     ]
    }
   ],
   "source": [
    "regress employed_treat employed_contr min_wage_90 min_wage_91 y, robust"
   ]
  },
  {
   "cell_type": "markdown",
   "metadata": {},
   "source": [
    "Yes they are sensitive. Once time trend was included in the mode, the minumum wage event in 1990 is significant. However, the minimum wage event in 1991 is no longer significant."
   ]
  },
  {
   "cell_type": "markdown",
   "metadata": {},
   "source": [
    "### D. Collapse the Original Data into a Panel of State-Year Averages by treatment\n",
    "This\n",
    "collapse is by(treatment state y). Be sure sure to write the raw sum of the weights\n",
    "(separately for treatment and control) to the collapsed data set. Reshape the data set so\n",
    "that you have 11 annual observations for each state, and each observation includes the\n",
    "employment rates (and weights) for teens and the control group."
   ]
  },
  {
   "cell_type": "code",
   "execution_count": 19,
   "metadata": {},
   "outputs": [
    {
     "name": "stdout",
     "output_type": "stream",
     "text": [
      "(CPS Basic Monthly Files with ORG Questions, Civilians Ages 15+, 1976-2018)\n"
     ]
    }
   ],
   "source": [
    "use \"..\\input_data\\CPS Data for Minimum Wages, 1985-1996.dta\",clear"
   ]
  },
  {
   "cell_type": "code",
   "execution_count": 20,
   "metadata": {},
   "outputs": [
    {
     "name": "stdout",
     "output_type": "stream",
     "text": [
      "\n",
      "\n",
      "\n",
      "(132,000 missing values generated)\n",
      "\n",
      "(132,000 missing values generated)\n"
     ]
    }
   ],
   "source": [
    "gen weight2_treat = (treatment == 1)\n",
    "gen weight2_contr = (treatment == 0)\n",
    "\n",
    "gen employed_treat = employed if treatment == 1\n",
    "gen employed_contr = employed if treatment == 0"
   ]
  },
  {
   "cell_type": "code",
   "execution_count": 21,
   "metadata": {},
   "outputs": [
    {
     "name": "stdout",
     "output_type": "stream",
     "text": [
      "\n",
      "Contains data from ..\\input_data\\CPS Data for Minimum Wages, 1985-1996.dta\n",
      "  obs:       264,000                          CPS Basic Monthly Files with ORG Questions, Civilians Ages 15+, 1976-2018\n",
      " vars:            11                          31 Jan 2019 15:44\n",
      " size:     8,184,000                          \n",
      "---------------------------------------------------------------------------------------------------------------------------------------------------------------------------------------------------------------------------------------------------------------\n",
      "              storage   display    value\n",
      "variable name   type    format     label      variable label\n",
      "---------------------------------------------------------------------------------------------------------------------------------------------------------------------------------------------------------------------------------------------------------------\n",
      "y               int     %9.0g                 minimum-wage year\n",
      "state           byte    %71.0g     state      state (census code)\n",
      "age             byte    %8.0g                 age\n",
      "grade           byte    %9.0g                 highest grade completed\n",
      "employed        byte    %9.0g                 whether employed\n",
      "treatment       byte    %9.0g                 1 = ages 15-17\n",
      "pweight         double  %12.0g                final basic weight\n",
      "weight2_treat   float   %9.0g                 \n",
      "weight2_contr   float   %9.0g                 \n",
      "employed_treat  float   %9.0g                 \n",
      "employed_contr  float   %9.0g                 \n",
      "---------------------------------------------------------------------------------------------------------------------------------------------------------------------------------------------------------------------------------------------------------------\n",
      "Sorted by: \n",
      "     Note: Dataset has changed since last saved.\n"
     ]
    }
   ],
   "source": [
    "describe"
   ]
  },
  {
   "cell_type": "code",
   "execution_count": 22,
   "metadata": {},
   "outputs": [],
   "source": [
    "collapse (mean) employed_treat employed_contr (sum) weight2_treat weight2_contr [pweight = pweight], by(state y)"
   ]
  },
  {
   "cell_type": "code",
   "execution_count": 23,
   "metadata": {},
   "outputs": [
    {
     "name": "stdout",
     "output_type": "stream",
     "text": [
      "\n",
      "minimum-wag |\n",
      "     e year |      Freq.     Percent        Cum.\n",
      "------------+-----------------------------------\n",
      "       1985 |         33        9.09        9.09\n",
      "       1986 |         33        9.09       18.18\n",
      "       1987 |         33        9.09       27.27\n",
      "       1988 |         33        9.09       36.36\n",
      "       1989 |         33        9.09       45.45\n",
      "       1990 |         33        9.09       54.55\n",
      "       1991 |         33        9.09       63.64\n",
      "       1992 |         33        9.09       72.73\n",
      "       1993 |         33        9.09       81.82\n",
      "       1994 |         33        9.09       90.91\n",
      "       1995 |         33        9.09      100.00\n",
      "------------+-----------------------------------\n",
      "      Total |        363      100.00\n"
     ]
    }
   ],
   "source": [
    "tab y"
   ]
  },
  {
   "cell_type": "markdown",
   "metadata": {},
   "source": [
    "33 States"
   ]
  },
  {
   "cell_type": "code",
   "execution_count": 24,
   "metadata": {},
   "outputs": [
    {
     "name": "stdout",
     "output_type": "stream",
     "text": [
      "\n",
      "                    state (census code) |      Freq.     Percent        Cum.\n",
      "----------------------------------------+-----------------------------------\n",
      "                               new york |         11        3.03        3.03\n",
      "                                   ohio |         11        3.03        6.06\n",
      "                                indiana |         11        3.03        9.09\n",
      "                               illinois |         11        3.03       12.12\n",
      "                               michigan |         11        3.03       15.15\n",
      "                               missouri |         11        3.03       18.18\n",
      "                           south dakota |         11        3.03       21.21\n",
      "                               nebraska |         11        3.03       24.24\n",
      "                                 kansas |         11        3.03       27.27\n",
      "                               delaware |         11        3.03       30.30\n",
      "                               maryland |         11        3.03       33.33\n",
      "                               virginia |         11        3.03       36.36\n",
      "                          west virginia |         11        3.03       39.39\n",
      "                         north carolina |         11        3.03       42.42\n",
      "                         south carolina |         11        3.03       45.45\n",
      "                                georgia |         11        3.03       48.48\n",
      "                                florida |         11        3.03       51.52\n",
      "                               kentucky |         11        3.03       54.55\n",
      "                              tennessee |         11        3.03       57.58\n",
      "                                alabama |         11        3.03       60.61\n",
      "                            mississippi |         11        3.03       63.64\n",
      "                               arkansas |         11        3.03       66.67\n",
      "                              louisiana |         11        3.03       69.70\n",
      "                               oklahoma |         11        3.03       72.73\n",
      "                                  texas |         11        3.03       75.76\n",
      "                                montana |         11        3.03       78.79\n",
      "                                  idaho |         11        3.03       81.82\n",
      "                                wyoming |         11        3.03       84.85\n",
      "                               colorado |         11        3.03       87.88\n",
      "                             new mexico |         11        3.03       90.91\n",
      "                                arizona |         11        3.03       93.94\n",
      "                                   utah |         11        3.03       96.97\n",
      "                                 nevada |         11        3.03      100.00\n",
      "----------------------------------------+-----------------------------------\n",
      "                                  Total |        363      100.00\n"
     ]
    }
   ],
   "source": [
    "tab state"
   ]
  },
  {
   "cell_type": "markdown",
   "metadata": {},
   "source": [
    "In each state, there are 11 observations."
   ]
  },
  {
   "cell_type": "markdown",
   "metadata": {},
   "source": [
    "### E. Analyze the State-Year Averages. \n",
    "Regress the employment rate of teens on the employment\n",
    "rate of the control group with dummy variables to indicate minimum-wage year\n",
    "1990, minimum-wage year 1991, and minimum-wage years 1992–1995; include state\n",
    "effects. Use the vce{cluster state} option to generate cluster-robust standard errors.\n",
    "(The standard errors allow for arbitrary cross-year correlations with each state.) Are\n",
    "the employment effects of the minimum wage statistically significant? Do they grow\n",
    "or shrink in the wake of the hikes? Are the estimates sensitive to including linear and\n",
    "quadratic time trends? If you’re particularly ambitious, replace the common time trend\n",
    "with state-specific trends."
   ]
  },
  {
   "cell_type": "code",
   "execution_count": 25,
   "metadata": {},
   "outputs": [],
   "source": [
    "gen min_wage_90 = y==1990\n",
    "gen min_wage_91= y==1991\n",
    "gen min_wage_92_95 = (y>=1992 & y <=1995)"
   ]
  },
  {
   "cell_type": "code",
   "execution_count": 26,
   "metadata": {},
   "outputs": [
    {
     "name": "stdout",
     "output_type": "stream",
     "text": [
      "(sum of wgt is 227,628,220.1303)\n",
      "\n",
      "Linear regression                               Number of obs     =        363\n",
      "                                                F(3, 32)          =          .\n",
      "                                                Prob > F          =          .\n",
      "                                                R-squared         =     0.8129\n",
      "                                                Root MSE          =     .03115\n",
      "\n",
      "                                    (Std. Err. adjusted for 33 clusters in state)\n",
      "---------------------------------------------------------------------------------\n",
      "                |               Robust\n",
      " employed_treat |      Coef.   Std. Err.      t    P>|t|     [95% Conf. Interval]\n",
      "----------------+----------------------------------------------------------------\n",
      " employed_contr |   .1494207   .0697891     2.14   0.040     .0072649    .2915765\n",
      "    min_wage_90 |  -.0230137   .0068962    -3.34   0.002    -.0370607   -.0089666\n",
      "    min_wage_91 |  -.0451432   .0080121    -5.63   0.000    -.0614632   -.0288231\n",
      " min_wage_92_95 |  -.0351034   .0057581    -6.10   0.000    -.0468322   -.0233745\n",
      "                |\n",
      "          state |\n",
      "          ohio  |   .0843182   .0018477    45.64   0.000     .0805546    .0880818\n",
      "       indiana  |   .1359274   .0036427    37.31   0.000     .1285074    .1433474\n",
      "      illinois  |   .0810603   .0022862    35.46   0.000     .0764035    .0857171\n",
      "      michigan  |   .1228003   .0010021   122.54   0.000      .120759    .1248416\n",
      "      missouri  |   .1267645   .0034007    37.28   0.000     .1198376    .1336914\n",
      "  south dakota  |   .2287721   .0020068   114.00   0.000     .2246845    .2328598\n",
      "      nebraska  |   .2116278   .0024141    87.66   0.000     .2067104    .2165451\n",
      "        kansas  |   .1676404   .0033018    50.77   0.000     .1609148    .1743659\n",
      "      delaware  |   .1204572   .0050116    24.04   0.000     .1102489    .1306655\n",
      "      maryland  |    .094862   .0052011    18.24   0.000     .0842676    .1054563\n",
      "      virginia  |   .0471659    .004488    10.51   0.000     .0380241    .0563078\n",
      " west virginia  |  -.0655499   .0030294   -21.64   0.000    -.0717206   -.0593792\n",
      "north carolina  |   .0717352   .0030799    23.29   0.000     .0654616    .0780088\n",
      "south carolina  |   .0187112   .0038067     4.92   0.000     .0109571    .0264652\n",
      "       georgia  |   .0410768    .003733    11.00   0.000     .0334731    .0486806\n",
      "       florida  |   .0397689   .0004603    86.40   0.000     .0388313    .0407065\n",
      "      kentucky  |   .0284244   .0003116    91.23   0.000     .0277897     .029059\n",
      "     tennessee  |   .0286604   .0021057    13.61   0.000     .0243713    .0329496\n",
      "       alabama  |  -.0146097   .0009456   -15.45   0.000    -.0165358   -.0126836\n",
      "   mississippi  |  -.0616979    .001883   -32.77   0.000    -.0655334   -.0578624\n",
      "      arkansas  |   .0417565   .0002046   204.10   0.000     .0413398    .0421733\n",
      "     louisiana  |  -.0345514   .0017197   -20.09   0.000    -.0380544   -.0310483\n",
      "      oklahoma  |   .0302304   .0011814    25.59   0.000     .0278239    .0326369\n",
      "         texas  |   .0135665     .00237     5.72   0.000      .008739    .0183939\n",
      "       montana  |   .1306114   .0034356    38.02   0.000     .1236133    .1376095\n",
      "         idaho  |     .18865    .001221   154.51   0.000     .1861629     .191137\n",
      "       wyoming  |   .1555851   .0003914   397.55   0.000      .154788    .1563823\n",
      "      colorado  |   .1097868   .0014852    73.92   0.000     .1067615    .1128122\n",
      "    new mexico  |   .0365645   .0011895    30.74   0.000     .0341416    .0389874\n",
      "       arizona  |   .0461114   .0010468    44.05   0.000     .0439791    .0482438\n",
      "          utah  |   .2070083   .0007948   260.45   0.000     .2053893    .2086273\n",
      "        nevada  |   .0652117   .0017437    37.40   0.000     .0616598    .0687636\n",
      "                |\n",
      "          _cons |   .1138304   .0474293     2.40   0.022     .0172201    .2104407\n",
      "---------------------------------------------------------------------------------\n"
     ]
    }
   ],
   "source": [
    "regress employed_treat employed_contr min_wage_* i.state [pweight = weight2_treat], vce(cluster state)"
   ]
  },
  {
   "cell_type": "markdown",
   "metadata": {},
   "source": [
    "Are the employment effects of the minimum wage statistically significant?\n",
    "\n",
    "Yes, the employment effects of the minimum wage are statistically significant."
   ]
  },
  {
   "cell_type": "markdown",
   "metadata": {},
   "source": [
    "Do they grow or shrink in the wake of the hikes? \n",
    "\n",
    "The employment of the treated group shrank in the wake of the hikes."
   ]
  },
  {
   "cell_type": "code",
   "execution_count": 27,
   "metadata": {},
   "outputs": [],
   "source": [
    "gen y2 = y*y"
   ]
  },
  {
   "cell_type": "code",
   "execution_count": 28,
   "metadata": {},
   "outputs": [
    {
     "name": "stdout",
     "output_type": "stream",
     "text": [
      "(sum of wgt is 227,628,220.1303)\n",
      "\n",
      "Linear regression                               Number of obs     =        363\n",
      "                                                F(4, 32)          =          .\n",
      "                                                Prob > F          =          .\n",
      "                                                R-squared         =     0.8290\n",
      "                                                Root MSE          =     .02983\n",
      "\n",
      "                                    (Std. Err. adjusted for 33 clusters in state)\n",
      "---------------------------------------------------------------------------------\n",
      "                |               Robust\n",
      " employed_treat |      Coef.   Std. Err.      t    P>|t|     [95% Conf. Interval]\n",
      "----------------+----------------------------------------------------------------\n",
      " employed_contr |    .089172    .064508     1.38   0.176    -.0422265    .2205706\n",
      "    min_wage_90 |  -.0449932   .0081853    -5.50   0.000    -.0616661   -.0283203\n",
      "    min_wage_91 |  -.0753987   .0102327    -7.37   0.000     -.096242   -.0545553\n",
      " min_wage_92_95 |  -.0838527   .0113044    -7.42   0.000     -.106879   -.0608265\n",
      "                |\n",
      "          state |\n",
      "          ohio  |   .0855688   .0016809    50.91   0.000      .082145    .0889925\n",
      "       indiana  |   .1387708   .0032831    42.27   0.000     .1320834    .1454582\n",
      "      illinois  |   .0827397   .0020849    39.69   0.000      .078493    .0869865\n",
      "      michigan  |   .1231856   .0009117   135.12   0.000     .1213286    .1250427\n",
      "      missouri  |   .1297061   .0031078    41.74   0.000     .1233757    .1360365\n",
      "  south dakota  |   .2260999   .0019674   114.93   0.000     .2220926    .2301073\n",
      "      nebraska  |   .2136922   .0021749    98.25   0.000     .2092621    .2181223\n",
      "        kansas  |   .1697235   .0029655    57.23   0.000     .1636829    .1757641\n",
      "      delaware  |   .1249111   .0045983    27.16   0.000     .1155448    .1342775\n",
      "      maryland  |   .0991277   .0048033    20.64   0.000     .0893438    .1089117\n",
      "      virginia  |     .05069   .0041174    12.31   0.000     .0423031    .0590768\n",
      " west virginia  |   -.068836   .0028003   -24.58   0.000      -.07454    -.063132\n",
      "north carolina  |   .0739472   .0027987    26.42   0.000     .0682464     .079648\n",
      "south carolina  |   .0217727   .0034936     6.23   0.000     .0146565    .0288889\n",
      "       georgia  |   .0442359   .0034236    12.92   0.000     .0372621    .0512096\n",
      "       florida  |   .0396517   .0004042    98.10   0.000     .0388284    .0404751\n",
      "      kentucky  |   .0284271   .0002715   104.72   0.000     .0278742      .02898\n",
      "     tennessee  |   .0301212   .0019169    15.71   0.000     .0262166    .0340257\n",
      "       alabama  |  -.0139265   .0008464   -16.45   0.000    -.0156505   -.0122024\n",
      "   mississippi  |  -.0606301   .0016666   -36.38   0.000    -.0640248   -.0572353\n",
      "      arkansas  |   .0417222   .0001939   215.13   0.000     .0413271    .0421172\n",
      "     louisiana  |  -.0362992    .001618   -22.43   0.000     -.039595   -.0330035\n",
      "      oklahoma  |   .0288429    .001149    25.10   0.000     .0265024    .0311833\n",
      "         texas  |   .0149404   .0021292     7.02   0.000     .0106033    .0192775\n",
      "       montana  |   .1279706   .0031825    40.21   0.000      .121488    .1344532\n",
      "         idaho  |    .187231   .0012355   151.54   0.000     .1847144    .1897477\n",
      "       wyoming  |   .1547861   .0004628   334.44   0.000     .1538434    .1557288\n",
      "      colorado  |   .1104106   .0013289    83.09   0.000     .1077038    .1131174\n",
      "    new mexico  |   .0350225   .0012018    29.14   0.000     .0325745    .0374705\n",
      "       arizona  |   .0462806   .0009294    49.80   0.000     .0443875    .0481737\n",
      "          utah  |   .2069664   .0007174   288.49   0.000     .2055051    .2084277\n",
      "        nevada  |   .0662087   .0015387    43.03   0.000     .0630744     .069343\n",
      "                |\n",
      "              y |   .0075776   .0018889     4.01   0.000       .00373    .0114251\n",
      "          _cons |  -14.90158   3.742231    -3.98   0.000    -22.52426   -7.278906\n",
      "---------------------------------------------------------------------------------\n"
     ]
    }
   ],
   "source": [
    "regress employed_treat employed_contr min_wage_* i.state y [pweight = weight2_treat], vce(cluster state)"
   ]
  },
  {
   "cell_type": "code",
   "execution_count": 29,
   "metadata": {},
   "outputs": [
    {
     "name": "stdout",
     "output_type": "stream",
     "text": [
      "(sum of wgt is 227,628,220.1303)\n",
      "\n",
      "Linear regression                               Number of obs     =        363\n",
      "                                                F(5, 32)          =          .\n",
      "                                                Prob > F          =          .\n",
      "                                                R-squared         =     0.8294\n",
      "                                                Root MSE          =     .02984\n",
      "\n",
      "                                    (Std. Err. adjusted for 33 clusters in state)\n",
      "---------------------------------------------------------------------------------\n",
      "                |               Robust\n",
      " employed_treat |      Coef.   Std. Err.      t    P>|t|     [95% Conf. Interval]\n",
      "----------------+----------------------------------------------------------------\n",
      " employed_contr |   .0911479   .0647413     1.41   0.169    -.0407257    .2230216\n",
      "    min_wage_90 |  -.0436681   .0084492    -5.17   0.000    -.0608786   -.0264576\n",
      "    min_wage_91 |  -.0744504   .0105412    -7.06   0.000    -.0959221   -.0529787\n",
      " min_wage_92_95 |  -.0858394   .0106931    -8.03   0.000    -.1076206   -.0640583\n",
      "                |\n",
      "          state |\n",
      "          ohio  |   .0855547   .0016827    50.84   0.000     .0821271    .0889823\n",
      "       indiana  |   .1386335   .0033058    41.94   0.000     .1318999    .1453671\n",
      "      illinois  |   .0827413   .0020847    39.69   0.000      .078495    .0869876\n",
      "      michigan  |   .1231794   .0009122   135.04   0.000     .1213213    .1250374\n",
      "      missouri  |   .1296626   .0031141    41.64   0.000     .1233193    .1360058\n",
      "  south dakota  |   .2261895   .0019782   114.34   0.000     .2221601     .230219\n",
      "      nebraska  |   .2136448   .0021841    97.82   0.000      .209196    .2180937\n",
      "        kansas  |   .1695776   .0029872    56.77   0.000     .1634929    .1756623\n",
      "      delaware  |   .1247901   .0046146    27.04   0.000     .1153905    .1341897\n",
      "      maryland  |   .0989349   .0048277    20.49   0.000     .0891011    .1087687\n",
      "      virginia  |   .0506335   .0041229    12.28   0.000     .0422354    .0590316\n",
      " west virginia  |  -.0686591   .0028294   -24.27   0.000    -.0744225   -.0628957\n",
      "north carolina  |   .0738835   .0028075    26.32   0.000     .0681648    .0796023\n",
      "south carolina  |   .0217398   .0034963     6.22   0.000      .014618    .0288615\n",
      "       georgia  |    .044145   .0034353    12.85   0.000     .0371475    .0511424\n",
      "       florida  |    .039681   .0004103    96.72   0.000     .0388453    .0405167\n",
      "      kentucky  |   .0284444   .0002742   103.75   0.000      .027886    .0290029\n",
      "     tennessee  |   .0301401    .001915    15.74   0.000     .0262395    .0340408\n",
      "       alabama  |  -.0139321   .0008485   -16.42   0.000    -.0156605   -.0122036\n",
      "   mississippi  |  -.0606614   .0016751   -36.21   0.000    -.0640734   -.0572493\n",
      "      arkansas  |   .0417955   .0002137   195.62   0.000     .0413603    .0422307\n",
      "     louisiana  |  -.0361669   .0016401   -22.05   0.000    -.0395076   -.0328261\n",
      "      oklahoma  |   .0288973   .0011551    25.02   0.000     .0265444    .0312502\n",
      "         texas  |   .0148717   .0021399     6.95   0.000     .0105128    .0192305\n",
      "       montana  |   .1281077   .0031996    40.04   0.000     .1215903    .1346251\n",
      "         idaho  |   .1872807   .0012396   151.08   0.000     .1847556    .1898058\n",
      "       wyoming  |   .1547741   .0004566   339.00   0.000     .1538441    .1557041\n",
      "      colorado  |   .1104014   .0013318    82.90   0.000     .1076886    .1131142\n",
      "    new mexico  |   .0350771   .0012065    29.07   0.000     .0326195    .0375347\n",
      "       arizona  |    .046239   .0009345    49.48   0.000     .0443354    .0481426\n",
      "          utah  |   .2069734   .0007261   285.04   0.000     .2054943    .2084524\n",
      "        nevada  |   .0661568   .0015488    42.72   0.000     .0630021    .0693116\n",
      "                |\n",
      "              y |  -.7240107   .6863824    -1.05   0.299    -2.122126    .6741046\n",
      "             y2 |   .0001839   .0001723     1.07   0.294    -.0001671    .0005348\n",
      "          _cons |   712.8115   683.5927     1.04   0.305    -679.6212    2105.244\n",
      "---------------------------------------------------------------------------------\n"
     ]
    }
   ],
   "source": [
    "regress employed_treat employed_contr min_wage_* i.state y y2 [pweight = weight2_treat], vce(cluster state)"
   ]
  },
  {
   "cell_type": "markdown",
   "metadata": {},
   "source": [
    "Are the estimates sensitive to including linear and quadratic time trends? \n",
    "\n",
    "Yes. Employment for the control group is no longer significant. The coefficients for the minimum wage event increased in magnitude."
   ]
  },
  {
   "cell_type": "code",
   "execution_count": 30,
   "metadata": {},
   "outputs": [
    {
     "name": "stdout",
     "output_type": "stream",
     "text": [
      "command If is unrecognized\n"
     ]
    },
    {
     "name": "stderr",
     "output_type": "stream",
     "text": [
      "r(199);\n"
     ]
    },
    {
     "name": "stdout",
     "output_type": "stream",
     "text": [
      "\n"
     ]
    }
   ],
   "source": [
    "If you’re particularly ambitious, replace the common time trend with state-specific trends."
   ]
  },
  {
   "cell_type": "code",
   "execution_count": null,
   "metadata": {},
   "outputs": [],
   "source": [
    "regress employed_treat employed_contr min_wage_* i.state#y [pweight = weight2_treat], robust"
   ]
  }
 ],
 "metadata": {
  "kernelspec": {
   "display_name": "Stata",
   "language": "stata",
   "name": "stata"
  },
  "language_info": {
   "file_extension": ".do",
   "mimetype": "text/x-stata",
   "name": "stata"
  }
 },
 "nbformat": 4,
 "nbformat_minor": 2
}
