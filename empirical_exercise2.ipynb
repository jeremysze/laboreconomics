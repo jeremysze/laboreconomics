{
 "cells": [
  {
   "cell_type": "code",
   "execution_count": 1,
   "metadata": {},
   "outputs": [],
   "source": [
    "/****************************************************************************\n",
    "* File name: empirical_exercise2.do\n",
    "* Author(s): Sze, J.\n",
    "* Date: 2/7/2019\n",
    "* Description: \n",
    "* Answers to empirical exercise 2 for Labor Economics\n",
    "*\n",
    "* Inputs: \n",
    "* ..\\input_data\\CPS Data for Minimum Wages, 1985-1996.dta\" \n",
    "* \n",
    "* Outputs:\n",
    "* \n",
    "***************************************************************************/"
   ]
  },
  {
   "cell_type": "markdown",
   "metadata": {},
   "source": [
    "This week’s exercise uses the CPS for Minimum Wages, 1985-1996.dta file, an extract of the\n",
    "basic monthly CPS files from April 1985 through March 1996. To analyze the effects of the federal\n",
    "government raising the minimum wage on April 1, 1990 and April 1, 1991, I’ve organized\n",
    "the data into minimum-wage years y; e.g., minimum-wage year 1990 contains data from April\n",
    "1990 through March 1991.\n",
    "The extract randomly draws 1,000 teens ages 15–17 per month and another 1,000 prime-age\n",
    "(ages 25–59) high-school graduates (grade>=12). These are the treatment (treatment==1)\n",
    "and control (treatment==0) groups. So the data set contains 264,000 observations."
   ]
  },
  {
   "cell_type": "code",
   "execution_count": 2,
   "metadata": {},
   "outputs": [
    {
     "name": "stdout",
     "output_type": "stream",
     "text": [
      "(CPS Basic Monthly Files with ORG Questions, Civilians Ages 15+, 1976-2018)\n"
     ]
    }
   ],
   "source": [
    "use \"..\\input_data\\CPS Data for Minimum Wages, 1985-1996.dta\",clear"
   ]
  },
  {
   "cell_type": "markdown",
   "metadata": {},
   "source": [
    "### A. Explore the Data\n",
    "Get a sense of the data by (a) describing the data set, (b) summarizing\n",
    "the data without and with the weighting variable pweight, and (c) tabulating (without\n",
    "weights) the categorical variables. Also, compute two or more cross-tabulations: y by\n",
    "treatment, and age by treatment.\n"
   ]
  },
  {
   "cell_type": "code",
   "execution_count": 3,
   "metadata": {},
   "outputs": [
    {
     "name": "stdout",
     "output_type": "stream",
     "text": [
      "\n",
      "Contains data from ..\\input_data\\CPS Data for Minimum Wages, 1985-1996.dta\n",
      "  obs:       264,000                          CPS Basic Monthly Files with ORG Questions, Civilians Ages 15+, 1976-2018\n",
      " vars:             7                          31 Jan 2019 15:44\n",
      " size:     3,960,000                          \n",
      "---------------------------------------------------------------------------------------------------------------------------------------------------------------------------------------------------------------------------------------------------------------\n",
      "              storage   display    value\n",
      "variable name   type    format     label      variable label\n",
      "---------------------------------------------------------------------------------------------------------------------------------------------------------------------------------------------------------------------------------------------------------------\n",
      "y               int     %9.0g                 minimum-wage year\n",
      "state           byte    %71.0g     state      state (census code)\n",
      "age             byte    %8.0g                 age\n",
      "grade           byte    %9.0g                 highest grade completed\n",
      "employed        byte    %9.0g                 whether employed\n",
      "treatment       byte    %9.0g                 1 = ages 15-17\n",
      "pweight         double  %12.0g                final basic weight\n",
      "---------------------------------------------------------------------------------------------------------------------------------------------------------------------------------------------------------------------------------------------------------------\n",
      "Sorted by: \n"
     ]
    }
   ],
   "source": [
    "describe"
   ]
  },
  {
   "cell_type": "code",
   "execution_count": 4,
   "metadata": {},
   "outputs": [
    {
     "name": "stdout",
     "output_type": "stream",
     "text": [
      "\n",
      "    Variable |        Obs        Mean    Std. Dev.       Min        Max\n",
      "-------------+---------------------------------------------------------\n",
      "           y |    264,000        1990    3.162284       1985       1995\n",
      "       state |    264,000    53.33822    20.34394         21         88\n",
      "         age |    264,000    27.72137    13.50689         15         59\n",
      "       grade |    132,000    13.73956    2.169027         12         19\n",
      "    employed |    264,000    .4858864    .4998017          0          1\n",
      "-------------+---------------------------------------------------------\n",
      "   treatment |    264,000          .5    .5000009          0          1\n",
      "     pweight |    264,000     1742.25    887.3657    36.9305   14570.57\n"
     ]
    }
   ],
   "source": [
    "sum"
   ]
  },
  {
   "cell_type": "code",
   "execution_count": 5,
   "metadata": {},
   "outputs": [
    {
     "name": "stdout",
     "output_type": "stream",
     "text": [
      "\n",
      "    Variable |     Obs      Weight        Mean   Std. Dev.       Min        Max\n",
      "-------------+-----------------------------------------------------------------\n",
      "           y | 264,000   459953912    1990.211   3.175089       1985       1995\n",
      "       state | 264,000   459953912    52.13347   19.61022         21         88\n",
      "         age | 264,000   459953912    27.73459   13.42176         15         59\n",
      "       grade | 132,000   232325692    13.74793    2.17027         12         19\n",
      "    employed | 264,000   459953912    .4852559   .4997835          0          1\n",
      "-------------+-----------------------------------------------------------------\n",
      "   treatment | 264,000   459953912    .4948935   .4999749          0          1\n",
      "     pweight | 264,000   459953912    2194.203   1039.841    36.9305   14570.57\n"
     ]
    }
   ],
   "source": [
    "sum [aweight = pweight]"
   ]
  },
  {
   "cell_type": "code",
   "execution_count": 6,
   "metadata": {},
   "outputs": [
    {
     "name": "stdout",
     "output_type": "stream",
     "text": [
      "\n",
      "                    state (census code) |      Freq.     Percent        Cum.\n",
      "----------------------------------------+-----------------------------------\n",
      "                               new york |     26,915       10.20       10.20\n",
      "                                   ohio |     18,389        6.97       17.16\n",
      "                                indiana |      5,205        1.97       19.13\n",
      "                               illinois |     17,199        6.51       25.65\n",
      "                               michigan |     18,072        6.85       32.49\n",
      "                               missouri |      4,844        1.83       34.33\n",
      "                           south dakota |      6,150        2.33       36.66\n",
      "                               nebraska |      5,419        2.05       38.71\n",
      "                                 kansas |      5,112        1.94       40.65\n",
      "                               delaware |      3,723        1.41       42.06\n",
      "                               maryland |      4,534        1.72       43.77\n",
      "                               virginia |      6,433        2.44       46.21\n",
      "                          west virginia |      4,837        1.83       48.04\n",
      "                         north carolina |     16,017        6.07       54.11\n",
      "                         south carolina |      5,510        2.09       56.20\n",
      "                                georgia |      5,117        1.94       58.13\n",
      "                                florida |     16,735        6.34       64.47\n",
      "                               kentucky |      4,743        1.80       66.27\n",
      "                              tennessee |      4,839        1.83       68.10\n",
      "                                alabama |      5,017        1.90       70.00\n",
      "                            mississippi |      5,712        2.16       72.17\n",
      "                               arkansas |      5,150        1.95       74.12\n",
      "                              louisiana |      4,548        1.72       75.84\n",
      "                               oklahoma |      5,287        2.00       77.84\n",
      "                                  texas |     18,913        7.16       85.01\n",
      "                                montana |      5,873        2.22       87.23\n",
      "                                  idaho |      5,603        2.12       89.35\n",
      "                                wyoming |      4,188        1.59       90.94\n",
      "                               colorado |      4,718        1.79       92.73\n",
      "                             new mexico |      5,131        1.94       94.67\n",
      "                                arizona |      4,205        1.59       96.26\n",
      "                                   utah |      5,666        2.15       98.41\n",
      "                                 nevada |      4,196        1.59      100.00\n",
      "----------------------------------------+-----------------------------------\n",
      "                                  Total |    264,000      100.00\n"
     ]
    }
   ],
   "source": [
    "tab state"
   ]
  },
  {
   "cell_type": "code",
   "execution_count": 7,
   "metadata": {},
   "outputs": [
    {
     "name": "stdout",
     "output_type": "stream",
     "text": [
      "\n",
      "    highest |\n",
      "      grade |\n",
      "  completed |      Freq.     Percent        Cum.\n",
      "------------+-----------------------------------\n",
      "         12 |     62,155       47.09       47.09\n",
      "         13 |     17,568       13.31       60.40\n",
      "         14 |     13,531       10.25       70.65\n",
      "         15 |      3,207        2.43       73.08\n",
      "         16 |     22,119       16.76       89.83\n",
      "         18 |      7,045        5.34       95.17\n",
      "         19 |      6,375        4.83      100.00\n",
      "------------+-----------------------------------\n",
      "      Total |    132,000      100.00\n"
     ]
    }
   ],
   "source": [
    "tab grade"
   ]
  },
  {
   "cell_type": "code",
   "execution_count": 8,
   "metadata": {},
   "outputs": [
    {
     "name": "stdout",
     "output_type": "stream",
     "text": [
      "\n",
      "    whether |\n",
      "   employed |      Freq.     Percent        Cum.\n",
      "------------+-----------------------------------\n",
      "          0 |    135,726       51.41       51.41\n",
      "          1 |    128,274       48.59      100.00\n",
      "------------+-----------------------------------\n",
      "      Total |    264,000      100.00\n"
     ]
    }
   ],
   "source": [
    "tab employed"
   ]
  },
  {
   "cell_type": "code",
   "execution_count": 9,
   "metadata": {},
   "outputs": [
    {
     "name": "stdout",
     "output_type": "stream",
     "text": [
      "\n",
      "   1 = ages |\n",
      "      15-17 |      Freq.     Percent        Cum.\n",
      "------------+-----------------------------------\n",
      "          0 |    132,000       50.00       50.00\n",
      "          1 |    132,000       50.00      100.00\n",
      "------------+-----------------------------------\n",
      "      Total |    264,000      100.00\n"
     ]
    }
   ],
   "source": [
    "tab treatment"
   ]
  },
  {
   "cell_type": "markdown",
   "metadata": {},
   "source": [
    "#### Cross tabs"
   ]
  },
  {
   "cell_type": "code",
   "execution_count": 10,
   "metadata": {},
   "outputs": [
    {
     "name": "stdout",
     "output_type": "stream",
     "text": [
      "\n",
      "minimum-wa |    1 = ages 15-17\n",
      "   ge year |         0          1 |     Total\n",
      "-----------+----------------------+----------\n",
      "      1985 |    12,000     12,000 |    24,000 \n",
      "      1986 |    12,000     12,000 |    24,000 \n",
      "      1987 |    12,000     12,000 |    24,000 \n",
      "      1988 |    12,000     12,000 |    24,000 \n",
      "      1989 |    12,000     12,000 |    24,000 \n",
      "      1990 |    12,000     12,000 |    24,000 \n",
      "      1991 |    12,000     12,000 |    24,000 \n",
      "      1992 |    12,000     12,000 |    24,000 \n",
      "      1993 |    12,000     12,000 |    24,000 \n",
      "      1994 |    12,000     12,000 |    24,000 \n",
      "      1995 |    12,000     12,000 |    24,000 \n",
      "-----------+----------------------+----------\n",
      "     Total |   132,000    132,000 |   264,000 \n"
     ]
    }
   ],
   "source": [
    "tab y treatment"
   ]
  },
  {
   "cell_type": "code",
   "execution_count": 11,
   "metadata": {},
   "outputs": [
    {
     "name": "stdout",
     "output_type": "stream",
     "text": [
      "\n",
      "           |    1 = ages 15-17\n",
      "       age |         0          1 |     Total\n",
      "-----------+----------------------+----------\n",
      "        15 |         0     44,218 |    44,218 \n",
      "        16 |         0     44,305 |    44,305 \n",
      "        17 |         0     43,477 |    43,477 \n",
      "        25 |     4,446          0 |     4,446 \n",
      "        26 |     4,441          0 |     4,441 \n",
      "        27 |     4,539          0 |     4,539 \n",
      "        28 |     4,652          0 |     4,652 \n",
      "        29 |     4,920          0 |     4,920 \n",
      "        30 |     4,923          0 |     4,923 \n",
      "        31 |     4,914          0 |     4,914 \n",
      "        32 |     5,018          0 |     5,018 \n",
      "        33 |     5,022          0 |     5,022 \n",
      "        34 |     4,850          0 |     4,850 \n",
      "        35 |     5,010          0 |     5,010 \n",
      "        36 |     4,651          0 |     4,651 \n",
      "        37 |     4,624          0 |     4,624 \n",
      "        38 |     4,678          0 |     4,678 \n",
      "        39 |     4,593          0 |     4,593 \n",
      "        40 |     4,513          0 |     4,513 \n",
      "        41 |     4,162          0 |     4,162 \n",
      "        42 |     4,005          0 |     4,005 \n",
      "        43 |     3,907          0 |     3,907 \n",
      "        44 |     3,722          0 |     3,722 \n",
      "        45 |     3,617          0 |     3,617 \n",
      "        46 |     3,410          0 |     3,410 \n",
      "        47 |     3,361          0 |     3,361 \n",
      "        48 |     3,142          0 |     3,142 \n",
      "        49 |     2,785          0 |     2,785 \n",
      "        50 |     2,861          0 |     2,861 \n",
      "        51 |     2,607          0 |     2,607 \n",
      "        52 |     2,591          0 |     2,591 \n",
      "        53 |     2,496          0 |     2,496 \n",
      "        54 |     2,429          0 |     2,429 \n",
      "        55 |     2,268          0 |     2,268 \n",
      "        56 |     2,257          0 |     2,257 \n",
      "        57 |     2,319          0 |     2,319 \n",
      "        58 |     2,188          0 |     2,188 \n",
      "        59 |     2,079          0 |     2,079 \n",
      "-----------+----------------------+----------\n",
      "     Total |   132,000    132,000 |   264,000 \n"
     ]
    }
   ],
   "source": [
    "tab age treatment"
   ]
  },
  {
   "cell_type": "code",
   "execution_count": 12,
   "metadata": {},
   "outputs": [
    {
     "name": "stdout",
     "output_type": "stream",
     "text": [
      "\n",
      "   highest |\n",
      "     grade |    1 = ages 15-17\n",
      " completed |         0          1 |     Total\n",
      "-----------+----------------------+----------\n",
      "        12 |    62,155          0 |    62,155 \n",
      "        13 |    17,568          0 |    17,568 \n",
      "        14 |    13,531          0 |    13,531 \n",
      "        15 |     3,207          0 |     3,207 \n",
      "        16 |    22,119          0 |    22,119 \n",
      "        18 |     7,045          0 |     7,045 \n",
      "        19 |     6,375          0 |     6,375 \n",
      "         . |         0    132,000 |   132,000 \n",
      "-----------+----------------------+----------\n",
      "     Total |   132,000    132,000 |   264,000 \n"
     ]
    }
   ],
   "source": [
    "tab grade treatment,m"
   ]
  },
  {
   "cell_type": "markdown",
   "metadata": {},
   "source": [
    "### B. Collapse the Data to Annual Averages by treatment\n",
    "Weight the averages by pweight.\n",
    "Organize the data set of annual averages so that you have 11 annual observations with one\n",
    "employment-rate variable for teens and another employment-rate variable for the control\n",
    "group. List the data and note how the two employment rates change from minimum-wage\n",
    "years 1989 to 1990."
   ]
  },
  {
   "cell_type": "code",
   "execution_count": 13,
   "metadata": {},
   "outputs": [
    {
     "name": "stdout",
     "output_type": "stream",
     "text": [
      "\n",
      "(132,000 missing values generated)\n",
      "\n",
      "(132,000 missing values generated)\n",
      "\n"
     ]
    }
   ],
   "source": [
    "gen employed_treat = employed if treatment == 1\n",
    "gen employed_contr = employed if treatment == 0\n",
    "gen min_wage_event = (y == 1990 | y == 1991)"
   ]
  },
  {
   "cell_type": "code",
   "execution_count": 14,
   "metadata": {},
   "outputs": [
    {
     "name": "stdout",
     "output_type": "stream",
     "text": [
      "\n",
      "\n",
      "\n",
      "     +---------------------------------------+\n",
      "     |    y   employ~t   employ~r   min_wa~t |\n",
      "     |---------------------------------------|\n",
      "  1. | 1985   .2558151   .6984654          0 |\n",
      "  2. | 1986   .2685669   .7031918          0 |\n",
      "  3. | 1987    .277887   .7066553          0 |\n",
      "  4. | 1988   .2761755   .7080536          0 |\n",
      "  5. | 1989   .2866358   .7201802          0 |\n",
      "     |---------------------------------------|\n",
      "  6. | 1990   .2531398   .7151867          1 |\n",
      "  7. | 1991   .2290563   .7023749          1 |\n",
      "  8. | 1992   .2260761   .7111657          0 |\n",
      "  9. | 1993   .2342557   .7139348          0 |\n",
      " 10. | 1994   .2496179    .716226          0 |\n",
      "     |---------------------------------------|\n",
      " 11. | 1995   .2544753   .7204854          0 |\n",
      "     +---------------------------------------+\n"
     ]
    }
   ],
   "source": [
    "collapse (mean) *_treat *_contr min_wage_event [pweight = pweight], by(y)\n",
    "list"
   ]
  },
  {
   "cell_type": "markdown",
   "metadata": {},
   "source": [
    "### C. Analyze the Annual Averages\n",
    "\n",
    "Regress the employment rate of teens on the employment\n",
    "rate of the control group with one or more dummy variables identifying the two minimumwage\n",
    "events. Use the vce{robust} option to generate heteroscedastic-robust standard\n",
    "errors. Are the employment effects statistically significant? Do they grow or shrink in the\n",
    "wake of the hikes? Are the estimates sensitive to including a linear time trend?"
   ]
  },
  {
   "cell_type": "code",
   "execution_count": 15,
   "metadata": {},
   "outputs": [],
   "source": [
    "gen min_wage_90 = y==1990\n",
    "gen min_wage_91= y==1991"
   ]
  },
  {
   "cell_type": "code",
   "execution_count": 16,
   "metadata": {},
   "outputs": [
    {
     "name": "stdout",
     "output_type": "stream",
     "text": [
      "\n",
      "Linear regression                               Number of obs     =         11\n",
      "                                                F(1, 7)           =          .\n",
      "                                                Prob > F          =          .\n",
      "                                                R-squared         =     0.1988\n",
      "                                                Root MSE          =     .02173\n",
      "\n",
      "--------------------------------------------------------------------------------\n",
      "               |               Robust\n",
      "employed_treat |      Coef.   Std. Err.      t    P>|t|     [95% Conf. Interval]\n",
      "---------------+----------------------------------------------------------------\n",
      "employed_contr |  -.1840121   .8664559    -0.21   0.838    -2.232855     1.86483\n",
      "   min_wage_90 |  -.0049106   .0100849    -0.49   0.641    -.0287575    .0189364\n",
      "   min_wage_91 |  -.0313516   .0084235    -3.72   0.007      -.05127   -.0114333\n",
      "         _cons |   .3896534    .612786     0.64   0.545    -1.059355    1.838662\n",
      "--------------------------------------------------------------------------------\n"
     ]
    }
   ],
   "source": [
    "regress employed_treat employed_contr min_wage_90 min_wage_91 , robust"
   ]
  },
  {
   "cell_type": "markdown",
   "metadata": {},
   "source": [
    "It appears that the minimum wage event in 1990 is not significant, but the second minimum wage event in 1991 was significant."
   ]
  },
  {
   "cell_type": "code",
   "execution_count": 17,
   "metadata": {},
   "outputs": [
    {
     "name": "stdout",
     "output_type": "stream",
     "text": [
      "\n",
      "Linear regression                               Number of obs     =         11\n",
      "                                                F(2, 6)           =          .\n",
      "                                                Prob > F          =          .\n",
      "                                                R-squared         =     0.8208\n",
      "                                                Root MSE          =      .0111\n",
      "\n",
      "--------------------------------------------------------------------------------\n",
      "               |               Robust\n",
      "employed_treat |      Coef.   Std. Err.      t    P>|t|     [95% Conf. Interval]\n",
      "---------------+----------------------------------------------------------------\n",
      "employed_contr |   3.125598   .9617944     3.25   0.017     .7721716    5.479024\n",
      "   min_wage_90 |  -.0180772   .0054174    -3.34   0.016    -.0313331   -.0048212\n",
      "   min_wage_91 |   .0062159   .0116229     0.53   0.612    -.0222244    .0346561\n",
      "             y |  -.0083321   .0021206    -3.93   0.008    -.0135211   -.0031431\n",
      "         _cons |   14.61671   3.620648     4.04   0.007       5.7573    23.47611\n",
      "--------------------------------------------------------------------------------\n"
     ]
    }
   ],
   "source": [
    "regress employed_treat employed_contr min_wage_90 min_wage_91 y, robust"
   ]
  },
  {
   "cell_type": "markdown",
   "metadata": {},
   "source": [
    "Yes they are sensitive. Once time trend was included in the mode, the minumum wage event in 1990 is significant. However, the minimum wage event in 1991 is no longer significant."
   ]
  },
  {
   "cell_type": "markdown",
   "metadata": {},
   "source": [
    "### D. Collapse the Original Data into a Panel of State-Year Averages by treatment\n",
    "This\n",
    "collapse is by(treatment state y). Be sure sure to write the raw sum of the weights\n",
    "(separately for treatment and control) to the collapsed data set. Reshape the data set so\n",
    "that you have 11 annual observations for each state, and each observation includes the\n",
    "employment rates (and weights) for teens and the control group."
   ]
  },
  {
   "cell_type": "code",
   "execution_count": 18,
   "metadata": {},
   "outputs": [
    {
     "name": "stdout",
     "output_type": "stream",
     "text": [
      "(CPS Basic Monthly Files with ORG Questions, Civilians Ages 15+, 1976-2018)\n"
     ]
    }
   ],
   "source": [
    "use \"..\\input_data\\CPS Data for Minimum Wages, 1985-1996.dta\",clear"
   ]
  },
  {
   "cell_type": "code",
   "execution_count": 19,
   "metadata": {},
   "outputs": [
    {
     "name": "stdout",
     "output_type": "stream",
     "text": [
      "\n",
      "\n",
      "\n",
      "(132,000 missing values generated)\n",
      "\n",
      "(132,000 missing values generated)\n"
     ]
    }
   ],
   "source": [
    "gen weight2_treat = (treatment == 1)\n",
    "gen weight2_contr = (treatment == 0)\n",
    "\n",
    "gen employed_treat = employed if treatment == 1\n",
    "gen employed_contr = employed if treatment == 0"
   ]
  },
  {
   "cell_type": "code",
   "execution_count": 20,
   "metadata": {},
   "outputs": [
    {
     "name": "stdout",
     "output_type": "stream",
     "text": [
      "\n",
      "Contains data from ..\\input_data\\CPS Data for Minimum Wages, 1985-1996.dta\n",
      "  obs:       264,000                          CPS Basic Monthly Files with ORG Questions, Civilians Ages 15+, 1976-2018\n",
      " vars:            11                          31 Jan 2019 15:44\n",
      " size:     8,184,000                          \n",
      "---------------------------------------------------------------------------------------------------------------------------------------------------------------------------------------------------------------------------------------------------------------\n",
      "              storage   display    value\n",
      "variable name   type    format     label      variable label\n",
      "---------------------------------------------------------------------------------------------------------------------------------------------------------------------------------------------------------------------------------------------------------------\n",
      "y               int     %9.0g                 minimum-wage year\n",
      "state           byte    %71.0g     state      state (census code)\n",
      "age             byte    %8.0g                 age\n",
      "grade           byte    %9.0g                 highest grade completed\n",
      "employed        byte    %9.0g                 whether employed\n",
      "treatment       byte    %9.0g                 1 = ages 15-17\n",
      "pweight         double  %12.0g                final basic weight\n",
      "weight2_treat   float   %9.0g                 \n",
      "weight2_contr   float   %9.0g                 \n",
      "employed_treat  float   %9.0g                 \n",
      "employed_contr  float   %9.0g                 \n",
      "---------------------------------------------------------------------------------------------------------------------------------------------------------------------------------------------------------------------------------------------------------------\n",
      "Sorted by: \n",
      "     Note: Dataset has changed since last saved.\n"
     ]
    }
   ],
   "source": [
    "describe"
   ]
  },
  {
   "cell_type": "code",
   "execution_count": 21,
   "metadata": {},
   "outputs": [],
   "source": [
    "collapse (mean) employed_treat employed_contr (rawsum) weight2_treat weight2_contr [pweight = pweight], by(state y)"
   ]
  },
  {
   "cell_type": "code",
   "execution_count": 22,
   "metadata": {},
   "outputs": [
    {
     "name": "stdout",
     "output_type": "stream",
     "text": [
      "\n",
      "minimum-wag |\n",
      "     e year |      Freq.     Percent        Cum.\n",
      "------------+-----------------------------------\n",
      "       1985 |         33        9.09        9.09\n",
      "       1986 |         33        9.09       18.18\n",
      "       1987 |         33        9.09       27.27\n",
      "       1988 |         33        9.09       36.36\n",
      "       1989 |         33        9.09       45.45\n",
      "       1990 |         33        9.09       54.55\n",
      "       1991 |         33        9.09       63.64\n",
      "       1992 |         33        9.09       72.73\n",
      "       1993 |         33        9.09       81.82\n",
      "       1994 |         33        9.09       90.91\n",
      "       1995 |         33        9.09      100.00\n",
      "------------+-----------------------------------\n",
      "      Total |        363      100.00\n"
     ]
    }
   ],
   "source": [
    "tab y"
   ]
  },
  {
   "cell_type": "markdown",
   "metadata": {},
   "source": [
    "33 States"
   ]
  },
  {
   "cell_type": "code",
   "execution_count": 23,
   "metadata": {},
   "outputs": [
    {
     "name": "stdout",
     "output_type": "stream",
     "text": [
      "\n",
      "                    state (census code) |      Freq.     Percent        Cum.\n",
      "----------------------------------------+-----------------------------------\n",
      "                               new york |         11        3.03        3.03\n",
      "                                   ohio |         11        3.03        6.06\n",
      "                                indiana |         11        3.03        9.09\n",
      "                               illinois |         11        3.03       12.12\n",
      "                               michigan |         11        3.03       15.15\n",
      "                               missouri |         11        3.03       18.18\n",
      "                           south dakota |         11        3.03       21.21\n",
      "                               nebraska |         11        3.03       24.24\n",
      "                                 kansas |         11        3.03       27.27\n",
      "                               delaware |         11        3.03       30.30\n",
      "                               maryland |         11        3.03       33.33\n",
      "                               virginia |         11        3.03       36.36\n",
      "                          west virginia |         11        3.03       39.39\n",
      "                         north carolina |         11        3.03       42.42\n",
      "                         south carolina |         11        3.03       45.45\n",
      "                                georgia |         11        3.03       48.48\n",
      "                                florida |         11        3.03       51.52\n",
      "                               kentucky |         11        3.03       54.55\n",
      "                              tennessee |         11        3.03       57.58\n",
      "                                alabama |         11        3.03       60.61\n",
      "                            mississippi |         11        3.03       63.64\n",
      "                               arkansas |         11        3.03       66.67\n",
      "                              louisiana |         11        3.03       69.70\n",
      "                               oklahoma |         11        3.03       72.73\n",
      "                                  texas |         11        3.03       75.76\n",
      "                                montana |         11        3.03       78.79\n",
      "                                  idaho |         11        3.03       81.82\n",
      "                                wyoming |         11        3.03       84.85\n",
      "                               colorado |         11        3.03       87.88\n",
      "                             new mexico |         11        3.03       90.91\n",
      "                                arizona |         11        3.03       93.94\n",
      "                                   utah |         11        3.03       96.97\n",
      "                                 nevada |         11        3.03      100.00\n",
      "----------------------------------------+-----------------------------------\n",
      "                                  Total |        363      100.00\n"
     ]
    }
   ],
   "source": [
    "tab state"
   ]
  },
  {
   "cell_type": "markdown",
   "metadata": {},
   "source": [
    "In each state, there are 11 observations."
   ]
  },
  {
   "cell_type": "markdown",
   "metadata": {},
   "source": [
    "### E. Analyze the State-Year Averages. \n",
    "Regress the employment rate of teens on the employment\n",
    "rate of the control group with dummy variables to indicate minimum-wage year\n",
    "1990, minimum-wage year 1991, and minimum-wage years 1992–1995; include state\n",
    "effects. Use the vce{cluster state} option to generate cluster-robust standard errors.\n",
    "(The standard errors allow for arbitrary cross-year correlations with each state.) Are\n",
    "the employment effects of the minimum wage statistically significant? Do they grow\n",
    "or shrink in the wake of the hikes? Are the estimates sensitive to including linear and\n",
    "quadratic time trends? If you’re particularly ambitious, replace the common time trend\n",
    "with state-specific trends."
   ]
  },
  {
   "cell_type": "code",
   "execution_count": 24,
   "metadata": {},
   "outputs": [],
   "source": [
    "gen min_wage_90 = y==1990\n",
    "gen min_wage_91= y==1991\n",
    "gen min_wage_92_95 = (y>=1992 & y <=1995)"
   ]
  },
  {
   "cell_type": "code",
   "execution_count": 25,
   "metadata": {},
   "outputs": [
    {
     "name": "stdout",
     "output_type": "stream",
     "text": [
      "(sum of wgt is 132,000)\n",
      "\n",
      "Linear regression                               Number of obs     =        363\n",
      "                                                F(3, 32)          =          .\n",
      "                                                Prob > F          =          .\n",
      "                                                R-squared         =     0.8477\n",
      "                                                Root MSE          =      .0317\n",
      "\n",
      "                                    (Std. Err. adjusted for 33 clusters in state)\n",
      "---------------------------------------------------------------------------------\n",
      "                |               Robust\n",
      " employed_treat |      Coef.   Std. Err.      t    P>|t|     [95% Conf. Interval]\n",
      "----------------+----------------------------------------------------------------\n",
      " employed_contr |   .1846044   .0743218     2.48   0.018     .0332159    .3359929\n",
      "    min_wage_90 |  -.0200837    .006063    -3.31   0.002    -.0324336   -.0077337\n",
      "    min_wage_91 |  -.0424742   .0075104    -5.66   0.000    -.0577724    -.027176\n",
      " min_wage_92_95 |  -.0347405   .0054485    -6.38   0.000    -.0458388   -.0236422\n",
      "                |\n",
      "          state |\n",
      "          ohio  |   .0822143   .0020342    40.42   0.000     .0780709    .0863578\n",
      "       indiana  |    .130123   .0037571    34.63   0.000     .1224701     .137776\n",
      "      illinois  |   .0791669   .0024623    32.15   0.000     .0741514    .0841823\n",
      "      michigan  |   .1210412   .0010706   113.06   0.000     .1188605    .1232219\n",
      "      missouri  |   .1203547   .0035832    33.59   0.000     .1130559    .1276534\n",
      "  south dakota  |   .2283665   .0021181   107.82   0.000     .2240521     .232681\n",
      "      nebraska  |   .2100382   .0025408    82.67   0.000     .2048629    .2152136\n",
      "        kansas  |   .1652826   .0034953    47.29   0.000      .158163    .1724022\n",
      "      delaware  |   .1210817   .0055805    21.70   0.000     .1097147    .1324488\n",
      "      maryland  |   .0923351   .0060505    15.26   0.000     .0800106    .1046596\n",
      "      virginia  |   .0466124   .0048019     9.71   0.000     .0368313    .0563934\n",
      " west virginia  |   -.064998   .0030923   -21.02   0.000    -.0712968   -.0586991\n",
      "north carolina  |   .0695063   .0034271    20.28   0.000     .0625255     .076487\n",
      "south carolina  |   .0158127   .0042345     3.73   0.001     .0071872    .0244382\n",
      "       georgia  |   .0387093   .0041584     9.31   0.000      .030239    .0471797\n",
      "       florida  |   .0401223   .0005993    66.94   0.000     .0389014    .0413431\n",
      "      kentucky  |   .0274805   .0002669   102.97   0.000     .0269369    .0280241\n",
      "     tennessee  |   .0242357    .002329    10.41   0.000     .0194915    .0289798\n",
      "       alabama  |  -.0168933   .0010911   -15.48   0.000    -.0191159   -.0146708\n",
      "   mississippi  |  -.0651961   .0018478   -35.28   0.000      -.06896   -.0614322\n",
      "      arkansas  |   .0399785   .0001311   305.04   0.000     .0397116    .0402455\n",
      "     louisiana  |  -.0338622   .0018791   -18.02   0.000    -.0376897   -.0300347\n",
      "      oklahoma  |   .0292352   .0011946    24.47   0.000      .026802    .0316685\n",
      "         texas  |    .011811   .0025331     4.66   0.000     .0066514    .0169707\n",
      "       montana  |   .1320722   .0036213    36.47   0.000     .1246959    .1394486\n",
      "         idaho  |   .1862284    .001502   123.99   0.000      .183169    .1892878\n",
      "       wyoming  |   .1546526   .0004182   369.82   0.000     .1538008    .1555045\n",
      "      colorado  |   .1075159   .0016185    66.43   0.000      .104219    .1108127\n",
      "    new mexico  |   .0356958   .0011848    30.13   0.000     .0332824    .0381091\n",
      "       arizona  |   .0466122   .0011276    41.34   0.000     .0443154     .048909\n",
      "          utah  |   .2073565   .0005757   360.16   0.000     .2061838    .2085293\n",
      "        nevada  |   .0666172    .001683    39.58   0.000      .063189    .0700454\n",
      "                |\n",
      "          _cons |   .0896256   .0501737     1.79   0.084    -.0125749    .1918261\n",
      "---------------------------------------------------------------------------------\n"
     ]
    }
   ],
   "source": [
    "regress employed_treat employed_contr min_wage_* i.state [pweight = weight2_treat], vce(cluster state)"
   ]
  },
  {
   "cell_type": "markdown",
   "metadata": {},
   "source": [
    "Are the employment effects of the minimum wage statistically significant?\n",
    "\n",
    "Yes, the employment effects of the minimum wage are statistically significant."
   ]
  },
  {
   "cell_type": "markdown",
   "metadata": {},
   "source": [
    "Do they grow or shrink in the wake of the hikes? \n",
    "\n",
    "The employment of the treated group shrank in the wake of the hikes."
   ]
  },
  {
   "cell_type": "code",
   "execution_count": 26,
   "metadata": {},
   "outputs": [],
   "source": [
    "gen y2 = y*y"
   ]
  },
  {
   "cell_type": "code",
   "execution_count": 27,
   "metadata": {},
   "outputs": [
    {
     "name": "stdout",
     "output_type": "stream",
     "text": [
      "(sum of wgt is 132,000)\n",
      "\n",
      "Linear regression                               Number of obs     =        363\n",
      "                                                F(4, 32)          =          .\n",
      "                                                Prob > F          =          .\n",
      "                                                R-squared         =     0.8594\n",
      "                                                Root MSE          =      .0305\n",
      "\n",
      "                                    (Std. Err. adjusted for 33 clusters in state)\n",
      "---------------------------------------------------------------------------------\n",
      "                |               Robust\n",
      " employed_treat |      Coef.   Std. Err.      t    P>|t|     [95% Conf. Interval]\n",
      "----------------+----------------------------------------------------------------\n",
      " employed_contr |   .1312505   .0716939     1.83   0.076    -.0147852    .2772863\n",
      "    min_wage_90 |  -.0411669   .0063943    -6.44   0.000    -.0541916   -.0281422\n",
      "    min_wage_91 |  -.0715396   .0086851    -8.24   0.000    -.0892306   -.0538486\n",
      " min_wage_92_95 |  -.0812703   .0096374    -8.43   0.000    -.1009011   -.0616395\n",
      "                |\n",
      "          state |\n",
      "          ohio  |   .0829134   .0019174    43.24   0.000     .0790079    .0868189\n",
      "       indiana  |   .1325788   .0036037    36.79   0.000     .1252383    .1399193\n",
      "      illinois  |   .0802091   .0023321    34.39   0.000     .0754589    .0849594\n",
      "      michigan  |   .1209516   .0009951   121.54   0.000     .1189246    .1229787\n",
      "      missouri  |   .1230492   .0034748    35.41   0.000     .1159712    .1301271\n",
      "  south dakota  |   .2256588   .0021473   105.09   0.000     .2212849    .2300327\n",
      "      nebraska  |   .2114891   .0024073    87.85   0.000     .2065857    .2163926\n",
      "        kansas  |   .1666932   .0032974    50.55   0.000     .1599765    .1734099\n",
      "      delaware  |   .1248072   .0053756    23.22   0.000     .1138574     .135757\n",
      "      maryland  |    .097047   .0059091    16.42   0.000     .0850105    .1090835\n",
      "      virginia  |   .0489824   .0045682    10.72   0.000     .0396772    .0582876\n",
      " west virginia  |  -.0685414   .0030571   -22.42   0.000    -.0747685   -.0623144\n",
      "north carolina  |   .0712212   .0032663    21.80   0.000     .0645679    .0778745\n",
      "south carolina  |   .0183983   .0040754     4.51   0.000     .0100969    .0266997\n",
      "       georgia  |   .0407587   .0039389    10.35   0.000     .0327355    .0487819\n",
      "       florida  |    .039767   .0005504    72.25   0.000     .0386459    .0408881\n",
      "      kentucky  |   .0270853   .0002443   110.85   0.000     .0265876     .027583\n",
      "     tennessee  |    .025371   .0022198    11.43   0.000     .0208494    .0298927\n",
      "       alabama  |  -.0168718   .0010047   -16.79   0.000    -.0189183   -.0148253\n",
      "   mississippi  |  -.0645519   .0017329   -37.25   0.000    -.0680816   -.0610221\n",
      "      arkansas  |   .0396058   .0001412   280.45   0.000     .0393181    .0398934\n",
      "     louisiana  |  -.0358891   .0018665   -19.23   0.000     -.039691   -.0320872\n",
      "      oklahoma  |   .0275502   .0012353    22.30   0.000      .025034    .0300664\n",
      "         texas  |   .0127168   .0023949     5.31   0.000     .0078385    .0175951\n",
      "       montana  |   .1292849   .0035082    36.85   0.000     .1221389    .1364309\n",
      "         idaho  |   .1841829   .0015435   119.33   0.000     .1810389    .1873269\n",
      "       wyoming  |   .1531225   .0006046   253.27   0.000      .151891     .154354\n",
      "      colorado  |   .1075761   .0015053    71.46   0.000     .1045099    .1106423\n",
      "    new mexico  |   .0338316   .0012283    27.54   0.000     .0313296    .0363336\n",
      "       arizona  |   .0460442   .0010386    44.33   0.000     .0439286    .0481598\n",
      "          utah  |   .2066367   .0005768   358.25   0.000     .2054618    .2078116\n",
      "        nevada  |   .0672067   .0015933    42.18   0.000     .0639613    .0704521\n",
      "                |\n",
      "              y |   .0072488    .001543     4.70   0.000     .0041058    .0103918\n",
      "          _cons |  -14.27669   3.051444    -4.68   0.000    -20.49228   -8.061104\n",
      "---------------------------------------------------------------------------------\n"
     ]
    }
   ],
   "source": [
    "regress employed_treat employed_contr min_wage_* i.state y [pweight = weight2_treat], vce(cluster state)"
   ]
  },
  {
   "cell_type": "code",
   "execution_count": 28,
   "metadata": {},
   "outputs": [
    {
     "name": "stdout",
     "output_type": "stream",
     "text": [
      "(sum of wgt is 132,000)\n",
      "\n",
      "Linear regression                               Number of obs     =        363\n",
      "                                                F(5, 32)          =          .\n",
      "                                                Prob > F          =          .\n",
      "                                                R-squared         =     0.8594\n",
      "                                                Root MSE          =     .03054\n",
      "\n",
      "                                    (Std. Err. adjusted for 33 clusters in state)\n",
      "---------------------------------------------------------------------------------\n",
      "                |               Robust\n",
      " employed_treat |      Coef.   Std. Err.      t    P>|t|     [95% Conf. Interval]\n",
      "----------------+----------------------------------------------------------------\n",
      " employed_contr |   .1316001   .0718266     1.83   0.076     -.014706    .2779062\n",
      "    min_wage_90 |  -.0407195   .0067046    -6.07   0.000    -.0543763   -.0270627\n",
      "    min_wage_91 |  -.0712849   .0088992    -8.01   0.000    -.0894119    -.053158\n",
      " min_wage_92_95 |  -.0822574    .008762    -9.39   0.000     -.100105   -.0644099\n",
      "                |\n",
      "          state |\n",
      "          ohio  |   .0829396   .0019107    43.41   0.000     .0790477    .0868315\n",
      "       indiana  |    .132535   .0036217    36.60   0.000     .1251579     .139912\n",
      "      illinois  |   .0802356   .0023245    34.52   0.000     .0755008    .0849704\n",
      "      michigan  |   .1209707   .0009926   121.87   0.000     .1189488    .1229926\n",
      "      missouri  |    .123044   .0034762    35.40   0.000     .1159633    .1301247\n",
      "  south dakota  |   .2257045   .0021709   103.97   0.000     .2212825    .2301264\n",
      "      nebraska  |   .2115112    .002401    88.09   0.000     .2066204    .2164019\n",
      "        kansas  |   .1666775   .0033037    50.45   0.000     .1599481    .1734068\n",
      "      delaware  |    .124789   .0053818    23.19   0.000     .1138268    .1357513\n",
      "      maryland  |   .0969673    .005941    16.32   0.000      .084866    .1090687\n",
      "      virginia  |   .0489697   .0045727    10.71   0.000     .0396554     .058284\n",
      " west virginia  |  -.0684857   .0030858   -22.19   0.000    -.0747714      -.0622\n",
      "north carolina  |   .0712498   .0032572    21.87   0.000      .064615    .0778846\n",
      "south carolina  |   .0184488   .0040581     4.55   0.000     .0101827    .0267149\n",
      "       georgia  |   .0406836   .0039692    10.25   0.000     .0325986    .0487686\n",
      "       florida  |   .0397978   .0005532    71.94   0.000     .0386709    .0409248\n",
      "      kentucky  |   .0271114   .0002554   106.15   0.000     .0265911    .0276316\n",
      "     tennessee  |   .0254227   .0022059    11.53   0.000     .0209295    .0299159\n",
      "       alabama  |  -.0168322   .0010005   -16.82   0.000    -.0188701   -.0147942\n",
      "   mississippi  |  -.0645162   .0017248   -37.40   0.000    -.0680296   -.0610028\n",
      "      arkansas  |   .0396578   .0002029   195.50   0.000     .0392446     .040071\n",
      "     louisiana  |  -.0358561   .0018823   -19.05   0.000    -.0396903   -.0320219\n",
      "      oklahoma  |   .0275573   .0012379    22.26   0.000     .0250358    .0300789\n",
      "         texas  |    .012724   .0023929     5.32   0.000     .0078498    .0175982\n",
      "       montana  |   .1293371   .0035305    36.63   0.000     .1221457    .1365285\n",
      "         idaho  |   .1842073    .001556   118.38   0.000     .1810378    .1873767\n",
      "       wyoming  |    .153093   .0005865   261.03   0.000     .1518984    .1542877\n",
      "      colorado  |   .1075855   .0015041    71.53   0.000     .1045217    .1106492\n",
      "    new mexico  |   .0338517   .0012391    27.32   0.000     .0313278    .0363756\n",
      "       arizona  |   .0460363   .0010399    44.27   0.000     .0439182    .0481545\n",
      "          utah  |   .2066554   .0005829   354.52   0.000     .2054681    .2078428\n",
      "        nevada  |   .0672233   .0015893    42.30   0.000      .063986    .0704606\n",
      "                |\n",
      "              y |  -.2892503   .6931232    -0.42   0.679    -1.701096    1.122595\n",
      "             y2 |   .0000745    .000174     0.43   0.671      -.00028     .000429\n",
      "          _cons |   280.6171    690.095     0.41   0.687     -1125.06    1686.295\n",
      "---------------------------------------------------------------------------------\n"
     ]
    }
   ],
   "source": [
    "regress employed_treat employed_contr min_wage_* i.state y y2 [pweight = weight2_treat], vce(cluster state)"
   ]
  },
  {
   "cell_type": "markdown",
   "metadata": {},
   "source": [
    "Are the estimates sensitive to including linear and quadratic time trends? \n",
    "\n",
    "Yes. Employment for the control group is no longer significant. The coefficients for the minimum wage event increased in magnitude."
   ]
  },
  {
   "cell_type": "markdown",
   "metadata": {},
   "source": [
    "If you’re particularly ambitious, replace the common time trend with state-specific trends."
   ]
  },
  {
   "cell_type": "code",
   "execution_count": 30,
   "metadata": {},
   "outputs": [
    {
     "name": "stdout",
     "output_type": "stream",
     "text": [
      "(sum of wgt is 132,000)\n",
      "\n",
      "Linear regression                               Number of obs     =        363\n",
      "                                                F(37, 325)        =      61.16\n",
      "                                                Prob > F          =     0.0000\n",
      "                                                R-squared         =     0.8594\n",
      "                                                Root MSE          =      .0305\n",
      "\n",
      "---------------------------------------------------------------------------------\n",
      "                |               Robust\n",
      " employed_treat |      Coef.   Std. Err.      t    P>|t|     [95% Conf. Interval]\n",
      "----------------+----------------------------------------------------------------\n",
      " employed_contr |   .1306994   .0619999     2.11   0.036     .0087276    .2526711\n",
      "    min_wage_90 |  -.0411632   .0067774    -6.07   0.000    -.0544962   -.0278302\n",
      "    min_wage_91 |  -.0715462   .0085613    -8.36   0.000    -.0883888   -.0547036\n",
      " min_wage_92_95 |  -.0812785   .0097129    -8.37   0.000    -.1003867   -.0621704\n",
      "                |\n",
      "      state#c.y |\n",
      "      new york  |   .0072176   .0014572     4.95   0.000     .0043508    .0100843\n",
      "          ohio  |   .0072593   .0014571     4.98   0.000     .0043927    .0101259\n",
      "       indiana  |   .0072842   .0014573     5.00   0.000     .0044174    .0101511\n",
      "      illinois  |   .0072579   .0014575     4.98   0.000     .0043905    .0101253\n",
      "      michigan  |   .0072784   .0014572     4.99   0.000     .0044116    .0101452\n",
      "      missouri  |   .0072794   .0014577     4.99   0.000     .0044117    .0101472\n",
      "  south dakota  |    .007331   .0014574     5.03   0.000     .0044639     .010198\n",
      "      nebraska  |   .0073239   .0014573     5.03   0.000     .0044569    .0101908\n",
      "        kansas  |   .0073013   .0014574     5.01   0.000     .0044343    .0101684\n",
      "      delaware  |   .0072803   .0014579     4.99   0.000     .0044122    .0101484\n",
      "      maryland  |   .0072664    .001458     4.98   0.000      .004398    .0101347\n",
      "      virginia  |   .0072422   .0014576     4.97   0.000     .0043746    .0101097\n",
      " west virginia  |   .0071831    .001456     4.93   0.000     .0043187    .0100476\n",
      "north carolina  |   .0072534   .0014574     4.98   0.000     .0043863    .0101205\n",
      "south carolina  |   .0072268   .0014568     4.96   0.000     .0043608    .0100929\n",
      "       georgia  |   .0072381   .0014573     4.97   0.000     .0043711     .010105\n",
      "       florida  |   .0072376   .0014567     4.97   0.000     .0043718    .0101034\n",
      "      kentucky  |   .0072312   .0014566     4.96   0.000     .0043656    .0100968\n",
      "     tennessee  |   .0072304   .0014575     4.96   0.000     .0043631    .0100976\n",
      "       alabama  |   .0072091   .0014576     4.95   0.000     .0043417    .0100766\n",
      "   mississippi  |   .0071852   .0014574     4.93   0.000     .0043181    .0100523\n",
      "      arkansas  |   .0072375   .0014571     4.97   0.000     .0043709    .0101041\n",
      "     louisiana  |   .0071995   .0014569     4.94   0.000     .0043334    .0100656\n",
      "      oklahoma  |   .0072314   .0014575     4.96   0.000     .0043642    .0100987\n",
      "         texas  |    .007224   .0014567     4.96   0.000     .0043581    .0100898\n",
      "       montana  |   .0072825   .0014569     5.00   0.000     .0044164    .0101487\n",
      "         idaho  |   .0073101   .0014564     5.02   0.000     .0044451    .0101752\n",
      "       wyoming  |   .0072945   .0014573     5.01   0.000     .0044276    .0101614\n",
      "      colorado  |   .0072717   .0014577     4.99   0.000     .0044039    .0101394\n",
      "    new mexico  |   .0072346    .001457     4.97   0.000     .0043682    .0101009\n",
      "       arizona  |   .0072407    .001457     4.97   0.000     .0043745     .010107\n",
      "          utah  |   .0073214   .0014579     5.02   0.000     .0044533    .0101895\n",
      "        nevada  |   .0072513   .0014569     4.98   0.000     .0043851    .0101175\n",
      "                |\n",
      "          _cons |  -14.21419   2.885192    -4.93   0.000     -19.8902   -8.538184\n",
      "---------------------------------------------------------------------------------\n"
     ]
    }
   ],
   "source": [
    "regress employed_treat employed_contr min_wage_* i.state#c.y [pweight = weight2_treat], robust"
   ]
  },
  {
   "cell_type": "code",
   "execution_count": null,
   "metadata": {},
   "outputs": [],
   "source": []
  }
 ],
 "metadata": {
  "kernelspec": {
   "display_name": "Stata",
   "language": "stata",
   "name": "stata"
  },
  "language_info": {
   "file_extension": ".do",
   "mimetype": "text/x-stata",
   "name": "stata"
  }
 },
 "nbformat": 4,
 "nbformat_minor": 2
}
