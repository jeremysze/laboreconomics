{
 "cells": [
  {
   "cell_type": "code",
   "execution_count": 1,
   "metadata": {},
   "outputs": [],
   "source": [
    "/****************************************************************************\n",
    "* File name: empirical_exercise2.do\n",
    "* Author(s): Sze, J.\n",
    "* Date: 2/7/2019\n",
    "* Description: \n",
    "* Answers to empirical exercise 2 for Labor Economics\n",
    "*\n",
    "* Inputs: \n",
    "* ..\\input_data\\CPS Data for Minimum Wages, 1985-1996.dta\" \n",
    "* \n",
    "* Outputs:\n",
    "* \n",
    "***************************************************************************/"
   ]
  },
  {
   "cell_type": "code",
   "execution_count": 2,
   "metadata": {},
   "outputs": [
    {
     "name": "stdout",
     "output_type": "stream",
     "text": [
      "(CPS Basic Monthly Files with ORG Questions, Civilians Ages 15+, 1976-2018)\n"
     ]
    }
   ],
   "source": [
    "use \"..\\input_data\\CPS Data for Minimum Wages, 1985-1996.dta\",clear"
   ]
  },
  {
   "cell_type": "markdown",
   "metadata": {},
   "source": [
    "### A. Explore the Data\n",
    "Get a sense of the data by (a) describing the data set, (b) summarizing\n",
    "the data without and with the weighting variable pweight, and (c) tabulating (without\n",
    "weights) the categorical variables. Also, compute two or more cross-tabulations: y by\n",
    "treatment, and age by treatment.\n"
   ]
  },
  {
   "cell_type": "code",
   "execution_count": 3,
   "metadata": {},
   "outputs": [
    {
     "name": "stdout",
     "output_type": "stream",
     "text": [
      "\n",
      "Contains data from ..\\input_data\\CPS Data for Minimum Wages, 1985-1996.dta\n",
      "  obs:       264,000                          CPS Basic Monthly Files with ORG Questions, Civilians Ages 15+, 1976-2018\n",
      " vars:             7                          31 Jan 2019 15:44\n",
      " size:     3,960,000                          \n",
      "---------------------------------------------------------------------------------------------------------------------------------------------------------------------------------------------------------------------------------------------------------------\n",
      "              storage   display    value\n",
      "variable name   type    format     label      variable label\n",
      "---------------------------------------------------------------------------------------------------------------------------------------------------------------------------------------------------------------------------------------------------------------\n",
      "y               int     %9.0g                 minimum-wage year\n",
      "state           byte    %71.0g     state      state (census code)\n",
      "age             byte    %8.0g                 age\n",
      "grade           byte    %9.0g                 highest grade completed\n",
      "employed        byte    %9.0g                 whether employed\n",
      "treatment       byte    %9.0g                 1 = ages 15-17\n",
      "pweight         double  %12.0g                final basic weight\n",
      "---------------------------------------------------------------------------------------------------------------------------------------------------------------------------------------------------------------------------------------------------------------\n",
      "Sorted by: \n"
     ]
    }
   ],
   "source": [
    "describe"
   ]
  },
  {
   "cell_type": "code",
   "execution_count": 4,
   "metadata": {},
   "outputs": [
    {
     "name": "stdout",
     "output_type": "stream",
     "text": [
      "\n",
      "    Variable |        Obs        Mean    Std. Dev.       Min        Max\n",
      "-------------+---------------------------------------------------------\n",
      "           y |    264,000        1990    3.162284       1985       1995\n",
      "       state |    264,000    53.33822    20.34394         21         88\n",
      "         age |    264,000    27.72137    13.50689         15         59\n",
      "       grade |    132,000    13.73956    2.169027         12         19\n",
      "    employed |    264,000    .4858864    .4998017          0          1\n",
      "-------------+---------------------------------------------------------\n",
      "   treatment |    264,000          .5    .5000009          0          1\n",
      "     pweight |    264,000     1742.25    887.3657    36.9305   14570.57\n"
     ]
    }
   ],
   "source": [
    "sum"
   ]
  },
  {
   "cell_type": "code",
   "execution_count": 5,
   "metadata": {},
   "outputs": [
    {
     "name": "stdout",
     "output_type": "stream",
     "text": [
      "\n",
      "    Variable |     Obs      Weight        Mean   Std. Dev.       Min        Max\n",
      "-------------+-----------------------------------------------------------------\n",
      "           y | 264,000   459953912    1990.211   3.175089       1985       1995\n",
      "       state | 264,000   459953912    52.13347   19.61022         21         88\n",
      "         age | 264,000   459953912    27.73459   13.42176         15         59\n",
      "       grade | 132,000   232325692    13.74793    2.17027         12         19\n",
      "    employed | 264,000   459953912    .4852559   .4997835          0          1\n",
      "-------------+-----------------------------------------------------------------\n",
      "   treatment | 264,000   459953912    .4948935   .4999749          0          1\n",
      "     pweight | 264,000   459953912    2194.203   1039.841    36.9305   14570.57\n"
     ]
    }
   ],
   "source": [
    "sum [aweight = pweight]"
   ]
  },
  {
   "cell_type": "code",
   "execution_count": 6,
   "metadata": {},
   "outputs": [
    {
     "name": "stdout",
     "output_type": "stream",
     "text": [
      "\n",
      "                    state (census code) |      Freq.     Percent        Cum.\n",
      "----------------------------------------+-----------------------------------\n",
      "                               new york |     26,915       10.20       10.20\n",
      "                                   ohio |     18,389        6.97       17.16\n",
      "                                indiana |      5,205        1.97       19.13\n",
      "                               illinois |     17,199        6.51       25.65\n",
      "                               michigan |     18,072        6.85       32.49\n",
      "                               missouri |      4,844        1.83       34.33\n",
      "                           south dakota |      6,150        2.33       36.66\n",
      "                               nebraska |      5,419        2.05       38.71\n",
      "                                 kansas |      5,112        1.94       40.65\n",
      "                               delaware |      3,723        1.41       42.06\n",
      "                               maryland |      4,534        1.72       43.77\n",
      "                               virginia |      6,433        2.44       46.21\n",
      "                          west virginia |      4,837        1.83       48.04\n",
      "                         north carolina |     16,017        6.07       54.11\n",
      "                         south carolina |      5,510        2.09       56.20\n",
      "                                georgia |      5,117        1.94       58.13\n",
      "                                florida |     16,735        6.34       64.47\n",
      "                               kentucky |      4,743        1.80       66.27\n",
      "                              tennessee |      4,839        1.83       68.10\n",
      "                                alabama |      5,017        1.90       70.00\n",
      "                            mississippi |      5,712        2.16       72.17\n",
      "                               arkansas |      5,150        1.95       74.12\n",
      "                              louisiana |      4,548        1.72       75.84\n",
      "                               oklahoma |      5,287        2.00       77.84\n",
      "                                  texas |     18,913        7.16       85.01\n",
      "                                montana |      5,873        2.22       87.23\n",
      "                                  idaho |      5,603        2.12       89.35\n",
      "                                wyoming |      4,188        1.59       90.94\n",
      "                               colorado |      4,718        1.79       92.73\n",
      "                             new mexico |      5,131        1.94       94.67\n",
      "                                arizona |      4,205        1.59       96.26\n",
      "                                   utah |      5,666        2.15       98.41\n",
      "                                 nevada |      4,196        1.59      100.00\n",
      "----------------------------------------+-----------------------------------\n",
      "                                  Total |    264,000      100.00\n"
     ]
    }
   ],
   "source": [
    "tab state"
   ]
  },
  {
   "cell_type": "code",
   "execution_count": 7,
   "metadata": {},
   "outputs": [
    {
     "name": "stdout",
     "output_type": "stream",
     "text": [
      "\n",
      "    highest |\n",
      "      grade |\n",
      "  completed |      Freq.     Percent        Cum.\n",
      "------------+-----------------------------------\n",
      "         12 |     62,155       47.09       47.09\n",
      "         13 |     17,568       13.31       60.40\n",
      "         14 |     13,531       10.25       70.65\n",
      "         15 |      3,207        2.43       73.08\n",
      "         16 |     22,119       16.76       89.83\n",
      "         18 |      7,045        5.34       95.17\n",
      "         19 |      6,375        4.83      100.00\n",
      "------------+-----------------------------------\n",
      "      Total |    132,000      100.00\n"
     ]
    }
   ],
   "source": [
    "tab grade"
   ]
  },
  {
   "cell_type": "code",
   "execution_count": 8,
   "metadata": {},
   "outputs": [
    {
     "name": "stdout",
     "output_type": "stream",
     "text": [
      "\n",
      "    whether |\n",
      "   employed |      Freq.     Percent        Cum.\n",
      "------------+-----------------------------------\n",
      "          0 |    135,726       51.41       51.41\n",
      "          1 |    128,274       48.59      100.00\n",
      "------------+-----------------------------------\n",
      "      Total |    264,000      100.00\n"
     ]
    }
   ],
   "source": [
    "tab employed"
   ]
  },
  {
   "cell_type": "code",
   "execution_count": 9,
   "metadata": {},
   "outputs": [
    {
     "name": "stdout",
     "output_type": "stream",
     "text": [
      "\n",
      "   1 = ages |\n",
      "      15-17 |      Freq.     Percent        Cum.\n",
      "------------+-----------------------------------\n",
      "          0 |    132,000       50.00       50.00\n",
      "          1 |    132,000       50.00      100.00\n",
      "------------+-----------------------------------\n",
      "      Total |    264,000      100.00\n"
     ]
    }
   ],
   "source": [
    "tab treatment"
   ]
  },
  {
   "cell_type": "markdown",
   "metadata": {},
   "source": [
    "#### Cross tabs"
   ]
  },
  {
   "cell_type": "code",
   "execution_count": 10,
   "metadata": {},
   "outputs": [
    {
     "name": "stdout",
     "output_type": "stream",
     "text": [
      "\n",
      "minimum-wa |    1 = ages 15-17\n",
      "   ge year |         0          1 |     Total\n",
      "-----------+----------------------+----------\n",
      "      1985 |    12,000     12,000 |    24,000 \n",
      "      1986 |    12,000     12,000 |    24,000 \n",
      "      1987 |    12,000     12,000 |    24,000 \n",
      "      1988 |    12,000     12,000 |    24,000 \n",
      "      1989 |    12,000     12,000 |    24,000 \n",
      "      1990 |    12,000     12,000 |    24,000 \n",
      "      1991 |    12,000     12,000 |    24,000 \n",
      "      1992 |    12,000     12,000 |    24,000 \n",
      "      1993 |    12,000     12,000 |    24,000 \n",
      "      1994 |    12,000     12,000 |    24,000 \n",
      "      1995 |    12,000     12,000 |    24,000 \n",
      "-----------+----------------------+----------\n",
      "     Total |   132,000    132,000 |   264,000 \n"
     ]
    }
   ],
   "source": [
    "tab y treatment"
   ]
  },
  {
   "cell_type": "code",
   "execution_count": 11,
   "metadata": {},
   "outputs": [
    {
     "name": "stdout",
     "output_type": "stream",
     "text": [
      "\n",
      "           |    1 = ages 15-17\n",
      "       age |         0          1 |     Total\n",
      "-----------+----------------------+----------\n",
      "        15 |         0     44,218 |    44,218 \n",
      "        16 |         0     44,305 |    44,305 \n",
      "        17 |         0     43,477 |    43,477 \n",
      "        25 |     4,446          0 |     4,446 \n",
      "        26 |     4,441          0 |     4,441 \n",
      "        27 |     4,539          0 |     4,539 \n",
      "        28 |     4,652          0 |     4,652 \n",
      "        29 |     4,920          0 |     4,920 \n",
      "        30 |     4,923          0 |     4,923 \n",
      "        31 |     4,914          0 |     4,914 \n",
      "        32 |     5,018          0 |     5,018 \n",
      "        33 |     5,022          0 |     5,022 \n",
      "        34 |     4,850          0 |     4,850 \n",
      "        35 |     5,010          0 |     5,010 \n",
      "        36 |     4,651          0 |     4,651 \n",
      "        37 |     4,624          0 |     4,624 \n",
      "        38 |     4,678          0 |     4,678 \n",
      "        39 |     4,593          0 |     4,593 \n",
      "        40 |     4,513          0 |     4,513 \n",
      "        41 |     4,162          0 |     4,162 \n",
      "        42 |     4,005          0 |     4,005 \n",
      "        43 |     3,907          0 |     3,907 \n",
      "        44 |     3,722          0 |     3,722 \n",
      "        45 |     3,617          0 |     3,617 \n",
      "        46 |     3,410          0 |     3,410 \n",
      "        47 |     3,361          0 |     3,361 \n",
      "        48 |     3,142          0 |     3,142 \n",
      "        49 |     2,785          0 |     2,785 \n",
      "        50 |     2,861          0 |     2,861 \n",
      "        51 |     2,607          0 |     2,607 \n",
      "        52 |     2,591          0 |     2,591 \n",
      "        53 |     2,496          0 |     2,496 \n",
      "        54 |     2,429          0 |     2,429 \n",
      "        55 |     2,268          0 |     2,268 \n",
      "        56 |     2,257          0 |     2,257 \n",
      "        57 |     2,319          0 |     2,319 \n",
      "        58 |     2,188          0 |     2,188 \n",
      "        59 |     2,079          0 |     2,079 \n",
      "-----------+----------------------+----------\n",
      "     Total |   132,000    132,000 |   264,000 \n"
     ]
    }
   ],
   "source": [
    "tab age treatment"
   ]
  },
  {
   "cell_type": "code",
   "execution_count": 12,
   "metadata": {},
   "outputs": [
    {
     "name": "stdout",
     "output_type": "stream",
     "text": [
      "\n",
      "   highest |\n",
      "     grade |    1 = ages 15-17\n",
      " completed |         0          1 |     Total\n",
      "-----------+----------------------+----------\n",
      "        12 |    62,155          0 |    62,155 \n",
      "        13 |    17,568          0 |    17,568 \n",
      "        14 |    13,531          0 |    13,531 \n",
      "        15 |     3,207          0 |     3,207 \n",
      "        16 |    22,119          0 |    22,119 \n",
      "        18 |     7,045          0 |     7,045 \n",
      "        19 |     6,375          0 |     6,375 \n",
      "         . |         0    132,000 |   132,000 \n",
      "-----------+----------------------+----------\n",
      "     Total |   132,000    132,000 |   264,000 \n"
     ]
    }
   ],
   "source": [
    "tab grade treatment,m"
   ]
  },
  {
   "cell_type": "markdown",
   "metadata": {},
   "source": [
    "### Collapse the Data to Annual Averages by treatment\n",
    "Weight the averages by pweight.\n",
    "Organize the data set of annual averages so that you have 11 annual observations with one\n",
    "employment-rate variable for teens and another employment-rate variable for the control\n",
    "group. List the data and note how the two employment rates change from minimum-wage\n",
    "years 1989 to 1990."
   ]
  },
  {
   "cell_type": "code",
   "execution_count": 13,
   "metadata": {},
   "outputs": [
    {
     "name": "stdout",
     "output_type": "stream",
     "text": [
      "\n",
      "(132,000 missing values generated)\n",
      "\n",
      "(132,000 missing values generated)\n",
      "\n"
     ]
    }
   ],
   "source": [
    "gen employed_treat = employed if treatment == 1\n",
    "gen employed_contr = employed if treatment == 0\n",
    "gen min_wage_event = (y == 1990 | y == 1991)"
   ]
  },
  {
   "cell_type": "code",
   "execution_count": 14,
   "metadata": {},
   "outputs": [],
   "source": [
    "collapse (mean) *_treat *_contr min_wage_event [aweight = pweight], by(y)"
   ]
  },
  {
   "cell_type": "code",
   "execution_count": 15,
   "metadata": {},
   "outputs": [
    {
     "name": "stdout",
     "output_type": "stream",
     "text": [
      "\n",
      "     +---------------------------------------+\n",
      "     |    y   employ~t   employ~r   min_wa~t |\n",
      "     |---------------------------------------|\n",
      "  1. | 1985   .2558151   .6984654          0 |\n",
      "  2. | 1986   .2685669   .7031918          0 |\n",
      "  3. | 1987    .277887   .7066553          0 |\n",
      "  4. | 1988   .2761755   .7080536          0 |\n",
      "  5. | 1989   .2866358   .7201802          0 |\n",
      "     |---------------------------------------|\n",
      "  6. | 1990   .2531398   .7151867          1 |\n",
      "  7. | 1991   .2290563   .7023749          1 |\n",
      "  8. | 1992   .2260761   .7111657          0 |\n",
      "  9. | 1993   .2342557   .7139348          0 |\n",
      " 10. | 1994   .2496179    .716226          0 |\n",
      "     |---------------------------------------|\n",
      " 11. | 1995   .2544753   .7204854          0 |\n",
      "     +---------------------------------------+\n"
     ]
    }
   ],
   "source": [
    "list"
   ]
  },
  {
   "cell_type": "markdown",
   "metadata": {},
   "source": [
    "### Analyze the Annual Averages\n",
    "\n",
    "Regress the employment rate of teens on the employment\n",
    "rate of the control group with one or more dummy variables identifying the two minimumwage\n",
    "events. Use the vce{robust} option to generate heteroscedastic-robust standard\n",
    "errors. Are the employment effects statistically significant? Do they grow or shrink in the\n",
    "wake of the hikes? Are the estimates sensitive to including a linear time trend?"
   ]
  },
  {
   "cell_type": "code",
   "execution_count": 16,
   "metadata": {},
   "outputs": [
    {
     "name": "stdout",
     "output_type": "stream",
     "text": [
      "\n",
      "Linear regression                               Number of obs     =         11\n",
      "                                                F(2, 8)           =       1.11\n",
      "                                                Prob > F          =     0.3767\n",
      "                                                R-squared         =     0.1270\n",
      "                                                Root MSE          =     .02122\n",
      "\n",
      "--------------------------------------------------------------------------------\n",
      "               |               Robust\n",
      "employed_treat |      Coef.   Std. Err.      t    P>|t|     [95% Conf. Interval]\n",
      "---------------+----------------------------------------------------------------\n",
      "employed_contr |   .1308949   .6858653     0.19   0.853    -1.450713    1.712503\n",
      "min_wage_event |  -.0174547   .0117472    -1.49   0.176    -.0445437    .0096343\n",
      "         _cons |    .165777    .485157     0.34   0.741    -.9529972    1.284551\n",
      "--------------------------------------------------------------------------------\n"
     ]
    }
   ],
   "source": [
    "regress employed_treat employed_contr min_wage_event, robust\n"
   ]
  },
  {
   "cell_type": "markdown",
   "metadata": {},
   "source": [
    "It appears that the minimum wage event is not significant. "
   ]
  },
  {
   "cell_type": "code",
   "execution_count": 17,
   "metadata": {},
   "outputs": [
    {
     "name": "stdout",
     "output_type": "stream",
     "text": [
      "note: 1995.y omitted because of collinearity\n",
      "\n",
      "Linear regression                               Number of obs     =         11\n",
      "                                                F(0, 0)           =          .\n",
      "                                                Prob > F          =          .\n",
      "                                                R-squared         =     1.0000\n",
      "                                                Root MSE          =          0\n",
      "\n",
      "--------------------------------------------------------------------------------\n",
      "               |               Robust\n",
      "employed_treat |      Coef.   Std. Err.      t    P>|t|     [95% Conf. Interval]\n",
      "---------------+----------------------------------------------------------------\n",
      "employed_contr |  -.0608417          .        .       .            .           .\n",
      "               |\n",
      "             y |\n",
      "         1986  |   .0130394          .        .       .            .           .\n",
      "         1987  |   .0225702          .        .       .            .           .\n",
      "         1988  |   .0209438          .        .       .            .           .\n",
      "         1989  |   .0321419          .        .       .            .           .\n",
      "         1990  |  -.0016579          .        .       .            .           .\n",
      "         1991  |  -.0265209          .        .       .            .           .\n",
      "         1992  |  -.0289662          .        .       .            .           .\n",
      "         1993  |  -.0206182          .        .       .            .           .\n",
      "         1994  |  -.0051166          .        .       .            .           .\n",
      "         1995  |          0  (omitted)\n",
      "               |\n",
      "         _cons |   .2983109          .        .       .            .           .\n",
      "--------------------------------------------------------------------------------\n"
     ]
    }
   ],
   "source": [
    "regress employed_treat employed_contr i.y, robust\n"
   ]
  },
  {
   "cell_type": "code",
   "execution_count": null,
   "metadata": {},
   "outputs": [],
   "source": []
  }
 ],
 "metadata": {
  "kernelspec": {
   "display_name": "Stata",
   "language": "stata",
   "name": "stata"
  },
  "language_info": {
   "file_extension": ".do",
   "mimetype": "text/x-stata",
   "name": "stata"
  }
 },
 "nbformat": 4,
 "nbformat_minor": 2
}
